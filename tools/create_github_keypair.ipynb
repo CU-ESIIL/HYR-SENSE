{
 "cells": [
  {
   "cell_type": "code",
   "execution_count": 1,
   "metadata": {},
   "outputs": [],
   "source": [
    "###### Setup script\n",
    "\n",
    "# Load modules\n",
    "import os\n",
    "import subprocess"
   ]
  },
  {
   "cell_type": "code",
   "execution_count": 2,
   "metadata": {},
   "outputs": [],
   "source": [
    "# Define functions\n",
    "def add_github_to_known_hosts():\n",
    "    known_hosts_file = os.path.expanduser('~/.ssh/known_hosts')\n",
    "    host = 'github.com'\n",
    "\n",
    "    # Create known_hosts file if it doesn't exist\n",
    "    # subprocess.run(['touch', known_hosts_file])\n",
    "\n",
    "    # Retrieve the host key using ssh-keyscan\n",
    "    output = subprocess.run(['ssh-keyscan', '-t', 'rsa', host], capture_output=True, text=True)\n",
    "    host_key = output.stdout.strip()\n",
    "\n",
    "    # Append the host key to the known hosts file\n",
    "    with open(known_hosts_file, 'a') as file:\n",
    "        file.write(host_key + '\\n')\n",
    "\n",
    "    print(f'{host} added to known hosts file.')\n",
    "\n",
    "def configure():\n",
    "    username = input('GitHub username:')\n",
    "    email = input('GitHub email:')\n",
    "\n",
    "    subprocess.run([\"git\", \"config\", \"--global\", \"user.name\", username])\n",
    "    subprocess.run([\"git\", \"config\", \"--global\", \"user.email\", email])\n",
    "\n",
    "    # Generate Ed25519 keypair\n",
    "    ssh_dir = os.path.expanduser(\"~/.ssh\")\n",
    "    key_name = \"github\"\n",
    "    private_key_path = os.path.join(ssh_dir, key_name)\n",
    "    public_key_path = private_key_path + \".pub\"\n",
    "\n",
    "    subprocess.run([\"ssh-keygen\", \"-t\", \"ed25519\", \"-f\", private_key_path, \"-N\", \"\"])\n",
    "\n",
    "    # Update SSH config\n",
    "    config_file = os.path.join(ssh_dir, \"config\")\n",
    "    github_config = f\"\"\"\n",
    "    Host github.com\n",
    "        HostName github.com\n",
    "        IdentityFile {private_key_path}\n",
    "    \"\"\"\n",
    "\n",
    "    with open(config_file, \"a\") as file:\n",
    "        file.write(github_config)\n",
    "\n",
    "    # Print public key\n",
    "    with open(public_key_path, \"r\") as file:\n",
    "        public_key = file.read()\n",
    "\n",
    "    subprocess.run([\"eval\", \"$(ssh-agent -s)\", \"&&\", \"ssh-add\", private_key_path], shell=True)\n",
    "\n",
    "    add_github_to_known_hosts()\n",
    "\n",
    "    print(\"Public Key:\")\n",
    "    print(public_key)"
   ]
  },
  {
   "cell_type": "code",
   "execution_count": null,
   "metadata": {},
   "outputs": [],
   "source": [
    "# Run the github configure script (NOTE: dont commit your resulting SSH keys)\n",
    "configure()"
   ]
  }
 ],
 "metadata": {
  "kernelspec": {
   "display_name": "Python 3 (ipykernel)",
   "language": "python",
   "name": "python3"
  },
  "language_info": {
   "codemirror_mode": {
    "name": "ipython",
    "version": 3
   },
   "file_extension": ".py",
   "mimetype": "text/x-python",
   "name": "python",
   "nbconvert_exporter": "python",
   "pygments_lexer": "ipython3",
   "version": "3.11.8"
  }
 },
 "nbformat": 4,
 "nbformat_minor": 4
}
