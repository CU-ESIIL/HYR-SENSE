{
 "cells": [
  {
   "cell_type": "code",
   "execution_count": null,
   "id": "35bf639e-7936-42a1-8b4b-c14af965133a",
   "metadata": {},
   "outputs": [],
   "source": [
    "import os\n",
    "\n",
    "conda_env = 'hyr-sense'\n",
    "conda_bin_path = os.path.join('opt', 'conda', 'envs', 'hyr-sense', 'bin')\n",
    "os.environ['BIN'] = conda_bin_path\n",
    "!eval \"$(conda shell.bash hook)\" && conda activate hyr-sense && yes | gh auth login --hostname github.com --web -p https"
   ]
  },
  {
   "cell_type": "code",
   "execution_count": null,
   "id": "fe0d14ad-b41e-4ddc-b6da-035218c2a7b6",
   "metadata": {},
   "outputs": [],
   "source": [
    "# Only run this after you have logged in to github using the link above\n",
    "!git config --global credential.helper '!gh auth git-credential'"
   ]
  }
 ],
 "metadata": {
  "kernelspec": {
   "display_name": "Python 3 (ipykernel)",
   "language": "python",
   "name": "python3"
  },
  "language_info": {
   "codemirror_mode": {
    "name": "ipython",
    "version": 3
   },
   "file_extension": ".py",
   "mimetype": "text/x-python",
   "name": "python",
   "nbconvert_exporter": "python",
   "pygments_lexer": "ipython3",
   "version": "3.12.2"
  }
 },
 "nbformat": 4,
 "nbformat_minor": 5
}
