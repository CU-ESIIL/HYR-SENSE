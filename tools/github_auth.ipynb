{
 "cells": [
  {
   "cell_type": "code",
   "execution_count": 1,
   "id": "35bf639e-7936-42a1-8b4b-c14af965133a",
   "metadata": {},
   "outputs": [
    {
     "name": "stdout",
     "output_type": "stream",
     "text": [
      "\n",
      "\u001b[0;33m!\u001b[0m First copy your one-time code: \u001b[0;1;39m5996-9D2E\u001b[0m\n",
      "\u001b[0;1;39mOpen this URL\u001b[0m to continue in your web browser: https://github.com/login/device\n",
      "\u001b[0;32m✓\u001b[0m Authentication complete.\n",
      "- gh config set -h github.com git_protocol https\n",
      "\u001b[0;32m✓\u001b[0m Configured git protocol\n",
      "\u001b[0;33m!\u001b[0m Authentication credentials saved in plain text\n",
      "\u001b[0;32m✓\u001b[0m Logged in as \u001b[0;1;39medwins\u001b[0m\n",
      "yes: standard output: Broken pipe\n"
     ]
    }
   ],
   "source": [
    "import os\n",
    "\n",
    "conda_env = 'hyr-sense'\n",
    "conda_bin_path = os.path.join('opt', 'conda', 'envs', 'hyr-sense', 'bin')\n",
    "os.environ['BIN'] = conda_bin_path\n",
    "!eval \"$(conda shell.bash hook)\" && conda activate hyr-sense && yes | gh auth login --hostname github.com --web -p https"
   ]
  },
  {
   "cell_type": "code",
   "execution_count": 2,
   "id": "fe0d14ad-b41e-4ddc-b6da-035218c2a7b6",
   "metadata": {},
   "outputs": [],
   "source": [
    "# Only run this after you have logged in to github using the link above\n",
    "!git config --global credential.helper '!eval \"$(conda shell.bash hook)\" && conda activate hyr-sense && gh auth git-credential'"
   ]
  },
  {
   "cell_type": "code",
   "execution_count": null,
   "id": "1e1e6624-c27f-4830-a577-cc374104142d",
   "metadata": {},
   "outputs": [],
   "source": [
    "print (\"test\")"
   ]
  }
 ],
 "metadata": {
  "kernelspec": {
   "display_name": "hyr-sense",
   "language": "python",
   "name": "hyr-sense"
  },
  "language_info": {
   "codemirror_mode": {
    "name": "ipython",
    "version": 3
   },
   "file_extension": ".py",
   "mimetype": "text/x-python",
   "name": "python",
   "nbconvert_exporter": "python",
   "pygments_lexer": "ipython3",
   "version": "3.10.14"
  }
 },
 "nbformat": 4,
 "nbformat_minor": 5
}
