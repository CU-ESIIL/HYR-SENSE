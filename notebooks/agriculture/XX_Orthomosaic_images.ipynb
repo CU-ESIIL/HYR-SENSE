{
 "cells": [
  {
   "cell_type": "markdown",
   "id": "ae5c56f1-f4ab-4d4e-a293-0bace96af6dd",
   "metadata": {},
   "source": [
    "## Ortho-mosaic agricultural scenes"
   ]
  },
  {
   "cell_type": "markdown",
   "id": "60358e28-ae96-4d94-95b5-07282b908297",
   "metadata": {},
   "source": [
    "### Step 1. Setup notebook\n",
    "\n",
    "Import packages"
   ]
  },
  {
   "cell_type": "code",
   "execution_count": 1,
   "id": "c85f8c1b-c98e-4144-9353-9ccc2c5cf6b7",
   "metadata": {},
   "outputs": [],
   "source": [
    "import os, glob, time, sys\n",
    "\n",
    "# Import EMIT tools\n",
    "sys.path.append('../../tools/emit/python/modules/')\n",
    "from emit_tools import emit_xarray"
   ]
  },
  {
   "cell_type": "markdown",
   "id": "a5c9aefe-6d84-4a28-a600-867c76290cda",
   "metadata": {},
   "source": [
    "### Step 2. Define dataset location based on tutorial workflow\n",
    "\n",
    "Agriculture workflow"
   ]
  },
  {
   "cell_type": "code",
   "execution_count": 2,
   "id": "b9904e03-c7e0-4e14-ae86-38033534d227",
   "metadata": {},
   "outputs": [],
   "source": [
    "# Define workflow which selects the appropriate image data folder\n",
    "workflow = \"agriculture\"\n",
    "source_file_path = os.path.join(os.path.expanduser(\"~\"),\"HYR-SENSE\",\"data\",\"emit\",workflow)"
   ]
  },
  {
   "cell_type": "markdown",
   "id": "4ef55fb2-32dd-4459-a339-0a679e1fcf8e",
   "metadata": {},
   "source": [
    "### Step 3. Find all images to ortho-mosaic in the workflow tutorial image data folder"
   ]
  },
  {
   "cell_type": "code",
   "execution_count": 5,
   "id": "45b0b4c1-0e4b-4ec3-a0a7-68f0ee146419",
   "metadata": {},
   "outputs": [
    {
     "ename": "AttributeError",
     "evalue": "'list' object has no attribute 'replace'",
     "output_type": "error",
     "traceback": [
      "\u001b[0;31m---------------------------------------------------------------------------\u001b[0m",
      "\u001b[0;31mAttributeError\u001b[0m                            Traceback (most recent call last)",
      "Cell \u001b[0;32mIn[5], line 5\u001b[0m\n\u001b[1;32m      1\u001b[0m \u001b[38;5;66;03m# List downloaded files in directory - provide the full path for the ortho-mosaic step below\u001b[39;00m\n\u001b[1;32m      2\u001b[0m \u001b[38;5;66;03m# Setup file list\u001b[39;00m\n\u001b[1;32m      3\u001b[0m granules \u001b[38;5;241m=\u001b[39m glob\u001b[38;5;241m.\u001b[39mglob(os\u001b[38;5;241m.\u001b[39mpath\u001b[38;5;241m.\u001b[39mjoin(source_file_path,\u001b[38;5;124m'\u001b[39m\u001b[38;5;124m*.nc\u001b[39m\u001b[38;5;124m'\u001b[39m), recursive\u001b[38;5;241m=\u001b[39m\u001b[38;5;28;01mTrue\u001b[39;00m)\n\u001b[0;32m----> 5\u001b[0m \u001b[43mgranules\u001b[49m\u001b[38;5;241;43m.\u001b[39;49m\u001b[43mreplace\u001b[49m(\u001b[38;5;124m\"\u001b[39m\u001b[38;5;124m*_ortho.nc\u001b[39m\u001b[38;5;124m\"\u001b[39m,\u001b[38;5;124m\"\u001b[39m\u001b[38;5;124m\"\u001b[39m)\n",
      "\u001b[0;31mAttributeError\u001b[0m: 'list' object has no attribute 'replace'"
     ]
    }
   ],
   "source": [
    "# List downloaded files in directory - provide the full path for the ortho-mosaic step below\n",
    "# Setup file list\n",
    "granules = glob.glob(os.path.join(source_file_path,'*.nc'), recursive=True)\n",
    "\n",
    "granules.replace(\"*_ortho.nc\",\"\")"
   ]
  },
  {
   "cell_type": "markdown",
   "id": "71107766-d3a6-425d-ad51-594f5156cbe7",
   "metadata": {},
   "source": [
    "## Step 4. Ortho-mosaic the images"
   ]
  },
  {
   "cell_type": "code",
   "execution_count": null,
   "id": "fde8b643-1e57-47bf-bfef-dcf5b17622b1",
   "metadata": {},
   "outputs": [
    {
     "name": "stdout",
     "output_type": "stream",
     "text": [
      "Input Granule ID: /home/jovyan/HYR-SENSE/data/emit/agriculture/EMIT_L2A_RFL_001_20230729T205630_2321014_019.nc\n",
      "Output Granule ID: /home/jovyan/HYR-SENSE/data/emit/agriculture/EMIT_L2A_RFL_001_20230729T205630_2321014_019_ortho.nc\n",
      " \n",
      "Input Granule ID: /home/jovyan/HYR-SENSE/data/emit/agriculture/EMIT_L2A_RFL_001_20230729T205642_2321014_020.nc\n",
      "Output Granule ID: /home/jovyan/HYR-SENSE/data/emit/agriculture/EMIT_L2A_RFL_001_20230729T205642_2321014_020_ortho.nc\n",
      " \n"
     ]
    }
   ],
   "source": [
    "# Ortho-mosaic the data granules\n",
    "t0 = time.time()\n",
    "for i in range(len(granules)):\n",
    "    print(\"Input Granule ID: \" + granules[i])\n",
    "    granule_asset_id = granules[i]\n",
    "    output_granual_id = granule_asset_id.replace(\".nc\",\"_ortho.nc\")\n",
    "    print(\"Output Granule ID: \" + output_granual_id)\n",
    "    print(\" \")\n",
    "    # Read in raw image and apply ortho-mosaic function\n",
    "    ds = emit_xarray(granule_asset_id, ortho=True)\n",
    "    # Output new netcdf to image data directory\n",
    "    ds.to_netcdf(output_granual_id)\n",
    "\n",
    "    del ds,granule_asset_id,output_granual_id\n",
    "    #os.remove(ds,granule_asset_id,output_granual_id)\n",
    "    time.sleep(2)\n",
    "print('Total time:', time.time() - t0)"
   ]
  },
  {
   "cell_type": "markdown",
   "id": "ac3404ee-5191-482b-b0e4-8012a41056b5",
   "metadata": {},
   "source": [
    "### Step 5. Review ortho-mosaiced data"
   ]
  },
  {
   "cell_type": "code",
   "execution_count": null,
   "id": "d542b966-e9c6-4d84-86d6-b72a4f2b2fbe",
   "metadata": {},
   "outputs": [],
   "source": []
  }
 ],
 "metadata": {
  "kernelspec": {
   "display_name": "hyr-sense",
   "language": "python",
   "name": "hyr-sense"
  },
  "language_info": {
   "codemirror_mode": {
    "name": "ipython",
    "version": 3
   },
   "file_extension": ".py",
   "mimetype": "text/x-python",
   "name": "python",
   "nbconvert_exporter": "python",
   "pygments_lexer": "ipython3",
   "version": "3.10.14"
  }
 },
 "nbformat": 4,
 "nbformat_minor": 5
}
