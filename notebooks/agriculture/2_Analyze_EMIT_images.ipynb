{
 "cells": [
  {
   "cell_type": "markdown",
   "id": "18752e45-af79-4418-8ba3-e1ebadfdb202",
   "metadata": {},
   "source": [
    "## Explore and analyze EMIT surface reflectance\n",
    "\n",
    "In this notebook, we will continue our EMIT agriculture tutorial by using the EMIT data we previously downloaded and prepared with the additional cropland statistics and geospatial layers you have already copied into your working directory in the previous steps. Specifically, we will show you how to crop EMIT data to the spatial extent of the cropland GIS data, create new maps of spectral vegetation indices using EMIT images, identify specific crop types in EMIT data using the GIS layers, extract EMIT data from specific crop types, and compare and contrast spectral differences in the cropping systems.\n",
    "\n",
    "We will use the image granules that you orthorectified in the previous step **\"1_Orthorectify_images.ipynb\"**\n",
    "\n",
    "Goals for this notebook:\n",
    "- Open and plot EMIT orthorectified data\n",
    "- Create Spectral Vegetation Indices (SVI)\n",
    "- Examine the spectral profiles of major crop types\n",
    "- Examine the differences in SVIs between crop types and irrigation status"
   ]
  },
  {
   "cell_type": "markdown",
   "id": "c71fe6af-fa67-443e-820b-8247c18cd8c2",
   "metadata": {},
   "source": [
    "### Step 1. Setup notebook\n",
    "\n",
    "Import packages. We have a long list here because we are bringing together a lot of different parts in this one notebook!"
   ]
  },
  {
   "cell_type": "code",
   "execution_count": null,
   "id": "33992c2b-754d-46dc-9adb-5bad421211fb",
   "metadata": {},
   "outputs": [],
   "source": [
    "import os, sys, fnmatch\n",
    "import warnings\n",
    "from osgeo import gdal\n",
    "import numpy as np\n",
    "import math\n",
    "import rasterio as rio\n",
    "import xarray as xr\n",
    "import holoviews as hv\n",
    "import hvplot.xarray\n",
    "import pandas as pd\n",
    "import hvplot.pandas\n",
    "import geopandas as gpd\n",
    "import rioxarray as rxr\n",
    "import numpy as np\n",
    "from matplotlib import pyplot as plt\n",
    "import seaborn as sns\n",
    "import folium\n",
    "from branca.element import Figure\n",
    "from shapely.geometry import Point\n",
    "from shapely.geometry import mapping\n",
    "\n",
    "# Get custom functions\n",
    "sys.path.append(os.path.join(os.path.expanduser(\"~\"),\"HYR-SENSE\",\"tools\",\"functions\"))\n",
    "from spectral_index import *\n",
    "\n",
    "# Setup paths for notebook\n",
    "datadir = os.path.join(os.path.expanduser('~'),'HYR-SENSE/data/Agriculture/')\n",
    "figdir = os.path.join(os.path.expanduser('~'),'HYR-SENSE/data/Agriculture/output')\n",
    "source_file_path = os.path.join(os.path.expanduser(\"~\"),\"HYR-SENSE\",\"data\",\"Agriculture\",\"emit\")\n",
    "\n",
    "# Save figures?\n",
    "savefigs = True # True/False\n",
    "\n",
    "# Define some projections to use in the notebook\n",
    "albers = 'EPSG:5070' # Albers Equal Area CONUS\n",
    "llwgs84 = 'EPSG:4326' # Geographic - Latitude/Longitude WGS84\n",
    "\n",
    "# This will ignore some warnings caused by holoviews\n",
    "warnings.simplefilter('ignore')"
   ]
  },
  {
   "cell_type": "code",
   "execution_count": null,
   "id": "90dab68c-10d1-4a2e-a80e-12e0c9def837",
   "metadata": {},
   "outputs": [],
   "source": [
    "# Prep output of saving figures\n",
    "if savefigs:\n",
    "    if not os.path.exists(figdir):\n",
    "        os.makedirs(figdir)\n",
    "        \n",
    "print(\" \")\n",
    "print(\"****** Figure Output Folder ******\")\n",
    "print(figdir)\n",
    "print(\" \")\n",
    "print(\" \")"
   ]
  },
  {
   "cell_type": "markdown",
   "id": "41b1c77a-917a-4bad-b313-99bd8df7a874",
   "metadata": {},
   "source": [
    "### Step 2. Find all downloaded and orthorectified agricultural images"
   ]
  },
  {
   "cell_type": "code",
   "execution_count": null,
   "id": "208be5e3-7d56-44e6-8818-aad2eb6c9933",
   "metadata": {},
   "outputs": [],
   "source": [
    "# Define workflow which selects the appropriate image data folder\n",
    "print(\"*** EMIT data folder: \" + source_file_path)\n",
    "print(\"\")\n",
    "print(\"*** GIS data folder: \" + datadir)\n",
    "print(\"\")"
   ]
  },
  {
   "cell_type": "code",
   "execution_count": null,
   "id": "4db6cefe-0437-47b3-98e1-d67942d01918",
   "metadata": {},
   "outputs": [],
   "source": [
    "### List all of the available data located in the EMIT data folder\n",
    "granules = fnmatch.filter(os.listdir(source_file_path), '*ortho.nc')\n",
    "print(\"*** EMIT Data Granules ***\")\n",
    "granules"
   ]
  },
  {
   "cell_type": "markdown",
   "id": "79f4ff12-23d6-4ff3-bace-ebc7658c1ccb",
   "metadata": {},
   "source": [
    "### Step 3. Select and load a previously orthorectified EMIT image\n",
    "\n",
    "First let's remind ourselves where we currently EMIT data ready to be analyzed.  We can do this by re-plotting the EMIT bounding boxes that we saved in the data search and download step. \n",
    "\n",
    "For this notebook, we will use just one of the granules which is centered over Yuma, CO."
   ]
  },
  {
   "cell_type": "code",
   "execution_count": null,
   "id": "5cf1776b-c2c5-4491-9e84-71bf26195dc4",
   "metadata": {},
   "outputs": [],
   "source": [
    "### Load the EMIT bounding boxes and plot on the map\n",
    "gdf_all = gpd.read_file(os.path.join(datadir,'emit_granule_footprints.gpkg'))\n",
    "gdf_all = gdf_all.to_crs(albers)\n",
    "\n",
    "# Filter to the Yuma, CO granule\n",
    "gdf_yuma = gdf_all[gdf_all['meta.native-id'] == 'EMIT_L2A_RFL_001_20230729T205630_2321014_019']\n",
    "gdf_yuma = gdf_yuma.to_crs(albers)"
   ]
  },
  {
   "cell_type": "code",
   "execution_count": null,
   "id": "99a0ba30-b145-4612-8a4e-fbb9f70a9b9e",
   "metadata": {},
   "outputs": [],
   "source": [
    "print(\"*** EMIT granule bounding boxes ***\")\n",
    "gdf_all"
   ]
  },
  {
   "cell_type": "markdown",
   "id": "324f26d0-a734-43f6-bc3d-7361aa58c100",
   "metadata": {},
   "source": [
    "Let's review where we have already downloaded and prepared EMIT datasets"
   ]
  },
  {
   "cell_type": "code",
   "execution_count": null,
   "id": "7f2b8c07-65d3-4a51-b3dc-d1f0ed208282",
   "metadata": {},
   "outputs": [],
   "source": [
    "# Create the interactive map using folium\n",
    "fig = Figure(width=\"750px\", height=\"375px\")\n",
    "map1 = folium.Map(tiles='https://mt1.google.com/vt/lyrs=y&x={x}&y={y}&z={z}', attr='Google')\n",
    "fig.add_child(map1)\n",
    "\n",
    "gdf_all.explore(\n",
    "    \"meta.native-id\",\n",
    "    categorical=True,\n",
    "    tooltip=[\n",
    "        \"meta.native-id\",\n",
    "        \"start_datetime\",\n",
    "    ],\n",
    "    popup=True,\n",
    "    style_kwds=dict(fillOpacity=0.1, width=2),\n",
    "    name=\"EMIT\",\n",
    "    m=map1,\n",
    "    legend=False\n",
    ")\n",
    "\n",
    "map1.fit_bounds(map1.get_bounds(), padding=(30, 30))\n",
    "display(fig)"
   ]
  },
  {
   "cell_type": "markdown",
   "id": "17580ebb-e177-423b-a062-9973bfd240fa",
   "metadata": {},
   "source": [
    "For now, let's select a single scene ID to explore the data more closely. We will choose the scene that covers Yuma Colorado, shown in blue below"
   ]
  },
  {
   "cell_type": "code",
   "execution_count": null,
   "id": "85e211b7-af6e-4b61-af8f-78ebfe6cb103",
   "metadata": {},
   "outputs": [],
   "source": [
    "### Show just the Yuma CO scene\n",
    "gdf_yuma.explore(\n",
    "    \"meta.native-id\",\n",
    "    categorical=True,\n",
    "    tooltip=[\n",
    "        \"meta.native-id\",\n",
    "        \"start_datetime\",\n",
    "    ],\n",
    "    popup=True,\n",
    "    style_kwds=dict(fillOpacity=0.91, width=5),\n",
    "    name=\"EMIT\",\n",
    "    m=map1,\n",
    "    legend=False\n",
    ")\n",
    "map1.fit_bounds(map1.get_bounds(), padding=(30, 30))\n",
    "display(fig)"
   ]
  },
  {
   "cell_type": "code",
   "execution_count": null,
   "id": "7aeaeece-7057-4b70-ac33-7291650abc91",
   "metadata": {},
   "outputs": [],
   "source": [
    "# Pick an image granule to explore - we will start with EMIT_L2A_RFL_001_20230729T205630_2321014_019_ortho.nc\n",
    "# Load the selected image to memory\n",
    "img_file = 'EMIT_L2A_RFL_001_20230729T205630_2321014_019_ortho.nc'\n",
    "img_file_dat = os.path.join(source_file_path,img_file)\n",
    "ds_geo = xr.open_dataset(img_file_dat)\n",
    "ds_geo"
   ]
  },
  {
   "cell_type": "markdown",
   "id": "33b268a8-7ecd-409b-8419-59b843b6e99f",
   "metadata": {},
   "source": [
    "### Step 4. Quickly display the selected orthorectified image\n",
    "\n",
    "Here we will view the selected orthorectified image that contains Yuma Colorado, shown below with the yellow dot"
   ]
  },
  {
   "cell_type": "code",
   "execution_count": null,
   "id": "3e16c5b4-e8fd-4d7b-85ef-d9d4c1fc7ede",
   "metadata": {},
   "outputs": [],
   "source": [
    "# Selecting the 850 nm wavelength for display\n",
    "refl850 = ds_geo.sel(wavelengths=850, method='nearest')\n",
    "yuma_df = [[40.1222,-102.7252]]\n",
    "yuma_df = pd.DataFrame(yuma_df, columns=['Latitude', 'Longitude'])\n",
    "\n",
    "# Plot the EMIT band\n",
    "img_plot = ds_geo.sel(wavelengths=850, method='nearest').hvplot.image(cmap='Viridis', geo=True, tiles='ESRI', alpha=0.8, frame_height=600).opts(\n",
    "    title=f\"Reflectance at {refl850.wavelengths.values:.3f} {refl850.wavelengths.units} (Orthorectified)\")\n",
    "pt_plot = yuma_df.hvplot.points(\"Longitude\", \"Latitude\", geo=True, color=\"yellow\", alpha=0.9, s=250, global_extent=False)\n",
    "plots = img_plot * pt_plot\n",
    "plots"
   ]
  },
  {
   "cell_type": "markdown",
   "id": "29a967b8-41bf-4210-a67b-22ad63b7d68f",
   "metadata": {},
   "source": [
    "We can see that the orthorectification step placed the data on a geo geographic that matches pretty well with ESRI tiles. Now that we have a better idea of what the target area looks like, we can also plot the spectra using the georeferenced data. "
   ]
  },
  {
   "cell_type": "markdown",
   "id": "cf816177-da0f-4697-9bb8-e90fc8cc4589",
   "metadata": {},
   "source": [
    "We can also display three bands side-by-side that cover the visible through the near-infrared to look a the differences in surfaec reflectance at the three different wavelengths (EMIT band centers)"
   ]
  },
  {
   "cell_type": "code",
   "execution_count": null,
   "id": "a247113d-d867-4b91-b9e1-0f8da80a9ed3",
   "metadata": {},
   "outputs": [],
   "source": [
    "refl550 = ds_geo.sel(wavelengths=550, method='nearest');refl650 = ds_geo.sel(wavelengths=650, method='nearest')\n",
    "# create the side by side plot\n",
    "plots = refl550.hvplot.image(cmap='viridis', aspect = 'equal', frame_width=300).opts(title=\"Band: 550\") + \\\n",
    "refl650.hvplot.image(cmap='viridis', aspect = 'equal', frame_width=300).opts(title=\"Band: 650\") + \\\n",
    "refl850.hvplot.image(cmap='viridis', aspect = 'equal', frame_width=300).opts(title=\"Band: 850\")\n",
    "plots"
   ]
  },
  {
   "cell_type": "code",
   "execution_count": null,
   "id": "4dc5721b-189c-40a5-9706-59480138e17e",
   "metadata": {},
   "outputs": [],
   "source": [
    "# Clear up some memory before we continue\n",
    "del refl550, refl650, refl850"
   ]
  },
  {
   "cell_type": "markdown",
   "id": "5cc342af-b7af-48eb-8abe-7a2f0c4c6bae",
   "metadata": {},
   "source": [
    "### Step 5. Plot example spectra\n",
    "\n",
    "Now let's plot some example spectra found in the image. Before we do this, we should filter out the water absorption bands like we did earlier. By limiting the third dimension of the array to good_wavelengths."
   ]
  },
  {
   "cell_type": "code",
   "execution_count": null,
   "id": "320d9b4b-1169-4bb3-8912-4a2da608df34",
   "metadata": {},
   "outputs": [],
   "source": [
    "ds_geo['reflectance'].data[:,:,ds_geo['good_wavelengths'].data==0] = np.nan\n",
    "print(f\"Data type: {type(ds_geo)}; Shape: {ds_geo.rio.shape}\")"
   ]
  },
  {
   "cell_type": "markdown",
   "id": "19227085-07d9-4aa6-b0ad-f62dd0120e1b",
   "metadata": {},
   "source": [
    "Now let's select some random points from within the scene covering different crop types and crop stages from center-pivot irrigation (A), rainfed (B), and bare (C)"
   ]
  },
  {
   "cell_type": "code",
   "execution_count": null,
   "id": "02c56f14-5676-47c6-91ff-e31534b1b51c",
   "metadata": {},
   "outputs": [],
   "source": [
    "point1 = ds_geo.sel(longitude=-102.694,latitude=40.347,method='nearest')\n",
    "point2 = ds_geo.sel(longitude=-102.957,latitude=40.160,method='nearest')\n",
    "point3 = ds_geo.sel(longitude=-102.516,latitude=40.428,method='nearest')\n",
    "spectra_plots = point1.hvplot.line(y='reflectance',x='wavelengths', color='black', frame_height=400, frame_width=440).opts(\n",
    "    title = f'A) Latitude = {point1.latitude.values.round(3)}, Longitude = {point1.longitude.values.round(3)}') + \\\n",
    "point2.hvplot.line(y='reflectance',x='wavelengths', color='black', frame_height=400, frame_width=440).opts(\n",
    "    title = f'B) Latitude = {point2.latitude.values.round(3)}, Longitude = {point2.longitude.values.round(3)}') + \\\n",
    "point3.hvplot.line(y='reflectance',x='wavelengths', color='black', frame_height=400, frame_width=440).opts(\n",
    "    title = f'C) Latitude = {point3.latitude.values.round(3)}, Longitude = {point3.longitude.values.round(3)}') \n",
    "spectra_plots"
   ]
  },
  {
   "cell_type": "code",
   "execution_count": null,
   "id": "23c71943-07ff-40ee-b6d5-834816c448bb",
   "metadata": {},
   "outputs": [],
   "source": [
    "# Clear up the memory before we continue\n",
    "del point1, point2, point3"
   ]
  },
  {
   "cell_type": "markdown",
   "id": "3daf1f59-2ff4-4aab-8b76-f46bcf33d04f",
   "metadata": {},
   "source": [
    "Based on what you see above, what can you take away from these different spectral plots about the status, vigor, and cover of different crops from these three different agricultural fields?"
   ]
  },
  {
   "cell_type": "markdown",
   "id": "e09a0c34-8463-44e0-87d0-a54cd759abb8",
   "metadata": {},
   "source": [
    "**A)** ![Group2_proximal_ASD_reflectance_12.png](../../images/Group2_proximal_ASD_reflectance_12.png) **B)** ![Group1_proximal_ASD_reflectance_11.png](../../images/Group1_proximal_ASD_reflectance_11.png)"
   ]
  },
  {
   "cell_type": "markdown",
   "id": "124ddaae-c5d3-48f6-b46c-d7385795cd2e",
   "metadata": {},
   "source": [
    "We can also quickly compare the \"proximal\" visible through shortwave infrared (VSWIR) spectra you collected on Monday with the ASD to the example spectra from EMIT. Proximal spectra refers to spectra collected close to, but not in contact with, the surface/materials of interest, such as the soil or plant canopy. You can see that despite the EMIT spectra coming from agricultural fields, and the proximal data collected at the CU Boulder \"Confluence\", clear similarities can be seen in the shapes of the image spectra shown in the EMIT panels B and C. This is because the data from the CU Boulder Confluence represented mixed grasses with different fractions of dry and live grasses as well as exposed soil and the EMIT spectra panels B and C are representative of ag fields with lower vegetation cover (B) and fields with mostly exposed soil and dry plant materials (EMIT panel C)."
   ]
  },
  {
   "cell_type": "markdown",
   "id": "f433581d-4d7e-4eac-9bb1-2b34a1af296f",
   "metadata": {},
   "source": [
    "### Step 6. Spectral vegetation indices\n",
    "\n",
    "Before we proceed with our analysis of the spectral differences and characteristics of different crop types in the Yuma, CO region let's first discuss what we can learn about plant health and status using high spectral resolution data like EMIT. We will review what information is contained in the spectral domain as well as how we can use spectral vegetation indices to tease out subtle differences in plant pigments, water content and physiology using just the raw spectral data provided by EMIT.\n",
    "\n",
    "For more examples of how to calculate spectral vegetation indices with EMIT, you can review the \"How To\" notebook **\"Calculate_spectral_vegetation_indices.ipynb\"** located in the HYR-SENSE repo [here](https://github.com/CU-ESIIL/HYR-SENSE/blob/main/notebooks/how_to/Calculate_spectral_vegetation_indices.ipynb).  In this notebook we will proceed with our analysis using the functions provided in the functions file [spectral_index.py](https://github.com/CU-ESIIL/HYR-SENSE/blob/main/tools/functions/spectral_index.py) and use these SVIs later to compare and contrast the water, pigment, and physiological differences of our select crop types.\n",
    "\n",
    "First, let's take a moment to consider again what remote sensing imagery like those provided by EMIT can tell us about the underlying vegetation. The internal structure and biochemistry of leaves (A) within a canopy control the optical signatures observed by remote sensing instrumentation (B). The amount of incident radiation that is reflected by, transmitted through, or absorbed by leaves within a canopy is regulated by these structural and biochemical properties of leaves. For example, leaf properties such as a thick cuticle layer, high wax, and/or a large amount of leaf hairs can significantly influence the amount of first-surface reflectance (that is the reflected light directly off the outer leaf layer that does not interact with the leaf interior), causing less solar radiation to penetrate into the leaf. The thickness of the mesophyll layer associated with other properties, such as thicker leaves, can cause higher degree of internal leaf scattering, less transmittance through the leaf, and higher absorption in some wavelengths. Importantly, the diffuse reflectance out of the leaf is that modified by internal leaf properties and contains useful for mapping functional traits (B). High spectral resolution measurements of leaves and plant canopies enable the indirect, non-contact measurement of key structural and chemical absorption features that are associated with the physiological and biochemical properties of plants (B)"
   ]
  },
  {
   "cell_type": "markdown",
   "id": "ccc3aadd-9e03-4d07-add6-b8beb96ee535",
   "metadata": {},
   "source": [
    "**A)** ![leaf_anatomy.jpg](../../images/leaf_anatomy_figure.jpg) **B)** ![spectral_signatures.jpg](../../images/spectral_signatures.jpg)"
   ]
  },
  {
   "cell_type": "markdown",
   "id": "24e4cb52-8cd7-4f10-a7bb-8daf5d2620cc",
   "metadata": {},
   "source": [
    "We can make use of all of the information contained within the emergent spectral signatures provided by vegetation.  We can do this by directly utilizing the spectral profiles of a leaf or an EMIT pixel, or we can instead target specific wavebands provided by data like EMIT to calculate a spectral vegetation index (SVI). SVIs range widely in the wavelengths/bands, structure, and applications. This article provides some background information ([https://www.nature.com/articles/s41597-023-02096-0](https://www.nature.com/articles/s41597-023-02096-0)) but you can find comprehensive list of SVIs [here](https://www.indexdatabase.de/)\n",
    "\n",
    "\n",
    "For more information, you can review these select articles and resources that discuss how leaf and canopy structure, leaf chemical properties, and stress can alter the spectral signatures we see with remote sensing data like those provided by EMIT and how SVIs provide us a way to easily probe the properties of vegetation remotely.\n",
    "\n",
    "[Sources of variability in canopy reflectance and the convergent properties of plants](https://doi.org/10.1111/j.1469-8137.2010.03536.x)\n",
    "\n",
    "[Retrieval of foliar information about plant pigment systems from high resolution spectroscopy](https://doi.org/10.1016/j.rse.2008.10.019)\n",
    "\n",
    "[Scaling Functional Traits from Leaves to Canopies](https://link.springer.com/chapter/10.1007/978-3-030-33157-3_3)"
   ]
  },
  {
   "cell_type": "markdown",
   "id": "f7bfd0b6-b17d-4380-bfcc-b5da658cfb5b",
   "metadata": {},
   "source": [
    "#### Calculate NDVI\n",
    "\n",
    "We can start by calculating a very simple, yet powerful, and widely-used SVI, the normalized difference vegetation index (NDVI). NDVI has been used for over 40 years to study changes on the Earth's surface, specifically related to vegetation, stress, and agriculture. For more information on NDVI, you can explore this article from NASA: [https://earthobservatory.nasa.gov/features/MeasuringVegetation/measuring_vegetation_1.php](https://earthobservatory.nasa.gov/features/MeasuringVegetation/measuring_vegetation_1.php)"
   ]
  },
  {
   "cell_type": "markdown",
   "id": "386f94fb-1363-4541-923e-4abf7a91f85a",
   "metadata": {},
   "source": [
    "To calculate NDVI, we need to select which bands we want to include in the calculation. In general, NDVI is defined using a red and near-infrared band, so lets use a band centered at 650nm and another at 850nm, both squarely within the red and NIR wavelength range as shown in the example spectral graph above\n",
    "\n",
    "The basic structure of the NDVI is: NDVI = (NIR−Red)/(NIR + Red)"
   ]
  },
  {
   "cell_type": "code",
   "execution_count": null,
   "id": "372d4d53-4467-46c0-b4bf-5ef199bc9330",
   "metadata": {},
   "outputs": [],
   "source": [
    "### Let's calculate the NDVI using the provided normalized_diff function\n",
    "ndvi = normalized_diff(input_xarray = ds_geo, band1=650, band2=850, index_name='ndvi', proj=llwgs84)\n",
    "ndvi.hvplot.image(cmap='viridis', geo=True, tiles='ESRI', aspect = 'equal', frame_width=720, clim=(0,1)).opts(title=\"NDVI Image\")"
   ]
  },
  {
   "cell_type": "markdown",
   "id": "7729a124-204a-48fd-9b40-bcb923646e51",
   "metadata": {},
   "source": [
    "Above is the NDVI map generated from the Yuma CO scene. What do you new imformation or details do you notice in this new NDVI map?"
   ]
  },
  {
   "cell_type": "code",
   "execution_count": null,
   "id": "b467b239-4e86-433e-836d-1fc7dc6ac62f",
   "metadata": {},
   "outputs": [],
   "source": [
    "### Now let's calculate 2 more SVIs and show the three SVIs side by side for comparison\n",
    "\n",
    "# We can calculate the Normalized Difference Water Index that is designed to capture subtle variations in canopy water content\n",
    "ndwi = normalized_diff(input_xarray = ds_geo, band1=2200, band2=864, index_name='ndwi', proj=llwgs84)\n",
    "\n",
    "# We can also calculate the Red Edge NDVI that is highly sensitive the subtle variations in plant photosynthetic pigment content\n",
    "reNDVI = normalized_diff(input_xarray = ds_geo, band1=705, band2=750, index_name='reNDVI', proj=llwgs84)\n",
    "\n",
    "# Show the three plots side by side\n",
    "ndvi.hvplot.image(cmap='viridis', geo=True, aspect = 'equal', frame_width=300, clim=(0,1)).opts(title=\"NDVI Image\") + \\\n",
    "ndwi.hvplot.image(cmap='viridis', geo=True, aspect = 'equal', frame_width=300, clim=(0,1)).opts(title=\"NDWI Image\") + \\\n",
    "reNDVI.hvplot.image(cmap='viridis', geo=True, aspect = 'equal', frame_width=300, clim=(0,1)).opts(title=\"reNDVI Image\")"
   ]
  },
  {
   "cell_type": "markdown",
   "id": "9564c4b4-3e60-416c-9826-d7ce26e2d948",
   "metadata": {},
   "source": [
    "Based on what you see above, what are the similarities and differences across the three normalized-difference SVIs: NDVI, NDWI, and the reNDVI?  Are there particular areas that show strong similarities? Are there observable differences?\n",
    "\n",
    "We will further explore the similarities and differences in crop condition and physiology using raw EMIT spectra and SVIs below."
   ]
  },
  {
   "cell_type": "markdown",
   "id": "8314e2e2-d6b7-4a6a-84ec-2c29c7f860c3",
   "metadata": {},
   "source": [
    "### Step 7. Spectra of major crop types\n",
    "\n",
    "Now that we have loaded and prepared our EMIT surface reflectance data, we can start to examine the spectral differences among crop types in the granule footprint. To do this we will use the **National Agricultural Statistics Service (NASS) Cropland Data Layer (CDL)** which provides estimated crop types with a 30-meter spatial resolution based on agricultural surveys and remote sensing data from the Landsat mission. We have pre-loaded a GeoTIFF of the NASS CDL for the South Platte and Republican river basins (recall in the first notebook when we plotted that data).\n",
    "\n",
    "Using this data, we can identify the most common crop types within the area of our EMIT granule. We can also generate random samples of different crop types to compare the spectral differences between them. \n",
    "\n",
    "You can read more about the NASS CDL: https://www.nass.usda.gov/Research_and_Science/Cropland/SARS1a.php\n",
    "\n",
    "#### Step 7a. Load, crop, and mask the NASS CDL GeoTIFF\n",
    "\n",
    "The first step is to align our CDL raster with the EMIT granule prior to sampling the pixel values of different crop types. In the code below, we extract one band from the EMIT spectra to use as a reference array when matching the CDL data."
   ]
  },
  {
   "cell_type": "code",
   "execution_count": null,
   "id": "e8315303-f8f5-44ca-9892-e051dd8247ca",
   "metadata": {},
   "outputs": [],
   "source": [
    "# Select a wavelength from the EMIT data to work with\n",
    "# Define the desired wavelength (e.g., 550 or 850 nm)\n",
    "wavelength = 850\n",
    "# Select the data at the specific wavelength (closest to desired_wavelength)\n",
    "emit_band = ds_geo['reflectance'].sel(wavelengths=wavelength, method='nearest')\n",
    "\n",
    "# Extract the extent of the EMIT granule\n",
    "emit_extent = emit_band.rio.bounds()\n",
    "print(f\"EMIT Granule Extent: {emit_extent}\")"
   ]
  },
  {
   "cell_type": "code",
   "execution_count": null,
   "id": "e2a28c0a-1603-4f2e-886a-11af4b0b50a6",
   "metadata": {},
   "outputs": [],
   "source": [
    "### Load the Cropland Data Layer (CDL) for our region\n",
    "## Crop to the extent of our EMIT granule\n",
    "## Mask no-data values to match the EMIT granule\n",
    "\n",
    "# Load the CDL raster\n",
    "cdl_path = os.path.join(datadir,'CDL_2023_CO_SouthPlatte_Republican.tif')\n",
    "cdl = rxr.open_rasterio(cdl_path, masked=True, cache=False).squeeze().astype(rio.uint8)\n",
    "cdl = cdl.rio.reproject(\"EPSG:4326\")\n",
    "\n",
    "# Clip the CDL raster to the EMIT dataset's extent\n",
    "cdl_clip = cdl.rio.clip_box(*emit_extent)\n",
    "\n",
    "# Print the unique pixel values\n",
    "print(np.unique(cdl_clip.values))\n",
    "\n",
    "# Clear up memory\n",
    "del cdl"
   ]
  },
  {
   "cell_type": "markdown",
   "id": "46640b08-b934-47a3-b581-ffbb17cddc07",
   "metadata": {},
   "source": [
    "\n",
    "\n",
    "We successfully cropped the CDL to the extent of our EMIT band. However, we also want to make sure that we mask the CDL to retain only pixel which overlap non-null pixels in the EMIT band. To do this, we can create a null data mask from the EMIT band and apply this to the CDL."
   ]
  },
  {
   "cell_type": "code",
   "execution_count": null,
   "id": "9a336b6c-46c5-46f2-aef5-4a113e2d4432",
   "metadata": {},
   "outputs": [],
   "source": [
    "# Create a mask of the NaN values from the selected wavelength band\n",
    "nan_mask = emit_band.isnull().squeeze()\n",
    "nan_mask = nan_mask.rio.write_crs(\"EPSG:4326\") # Set the CRS\n",
    "\n",
    "# Remove additional coordinates that are not relevant\n",
    "nan_mask = nan_mask.drop_vars(['wavelengths', 'fwhm', 'good_wavelengths', 'elev'], errors='ignore')\n",
    "# Convert the boolean mask to a numerical mask (e.g., 0 for False, 1 for True)\n",
    "nan_mask_int = nan_mask.astype(np.uint8)\n",
    "\n",
    "# Reproject match to the CDL data array\n",
    "nan_mask_repr = nan_mask_int.rio.reproject_match(cdl_clip)\n",
    "print(nan_mask_repr)\n",
    "\n",
    "# Clear up memory\n",
    "del nan_mask, nan_mask_int\n",
    "\n",
    "# Now mask the CDL to retain only data within the same bounds as the non-null EMIT data\n",
    "cdl_masked = cdl_clip.where(nan_mask_repr == 0)\n",
    "cdl_masked = cdl_masked.rio.write_crs(\"EPSG:4326\") # Set the CRS\n",
    "\n",
    "# Clear up memory\n",
    "del cdl_clip"
   ]
  },
  {
   "cell_type": "markdown",
   "id": "4c086e93-db0c-4bfd-aa20-77443b0659ec",
   "metadata": {},
   "source": [
    "\n",
    "Now we should have CDL data that matches the extent and valid data for our EMIT granule. To check on what we just did, we can plot side-by-side maps of each step."
   ]
  },
  {
   "cell_type": "code",
   "execution_count": null,
   "id": "7a41ee90-3a21-4112-8ab8-a25a31286abe",
   "metadata": {},
   "outputs": [],
   "source": [
    "emit_band.hvplot.image(\n",
    "    geo=True, cmap='viridis', tiles='ESRI', \n",
    "    aspect='equal', frame_width=300).opts(title=f'Wavelength: {wavelength}') + \\\n",
    "cdl_masked.hvplot.image(\n",
    "    geo=True, cmap='tab20', tiles='ESRI', \n",
    "    aspect='equal', frame_width=300).opts(title=\"CDL Crop Types\")"
   ]
  },
  {
   "cell_type": "markdown",
   "id": "ec9bb516-2ae1-45a1-95b3-2b79acb866cf",
   "metadata": {},
   "source": [
    "#### Step 7b. Create sample points for the three major crop types\n",
    "\n",
    "Now that we have our CDL data prepared, we can identify the major crop types within the EMIT granule. We'll identify the three most common crops and then take a random sample of lat/long coordinates which represent pixel centers."
   ]
  },
  {
   "cell_type": "code",
   "execution_count": null,
   "id": "753bb5d2-7af6-41a1-bb17-3ed2d43003b0",
   "metadata": {},
   "outputs": [],
   "source": [
    "# Get the most common pixel values by counting the frequency\n",
    "unique, counts = np.unique(cdl_masked.data, return_counts=True)\n",
    "freq = dict(zip(unique, counts))\n",
    "# Handle NoData value and background codes (0,255)\n",
    "valid = ~np.isnan(unique) & (unique != 0) & (unique != 255)\n",
    "unique = unique[valid]\n",
    "counts = counts[valid]\n",
    "\n",
    "# Create a dictionary of frequencies\n",
    "freq = dict(zip(unique, counts))\n",
    "# Print the top 10, seperate the codes and the counts\n",
    "top10_crops = sorted(freq, key=freq.get, reverse=True)[:10]\n",
    "top10_counts = [freq[key] for key in top10_crops]\n",
    "print(\"Top 10 most common crop types (by code)\")\n",
    "print(top10_crops)\n",
    "\n",
    "# Convert the counts to a DataFrame\n",
    "counts_df = pd.DataFrame({'Codes': top10_crops, 'Count': top10_counts})\n",
    "\n",
    "print(\"Counts DataFrame:\")\n",
    "counts_df"
   ]
  },
  {
   "cell_type": "markdown",
   "id": "3a9f1910-af46-4f35-84ce-80ac35ed2f41",
   "metadata": {},
   "source": [
    "Above you can see the counts by CDL crop class for the 10 most common classes sorted by total counts (excluding null values). However, these codes themselves are not very useful to us. Thankfully, the CDL data also has a lookup table to link these codes to their associated class name. We can load this lookup table from the data store and attach the names to our samples."
   ]
  },
  {
   "cell_type": "code",
   "execution_count": null,
   "id": "3a1c110d-ed90-4773-a018-665208de334f",
   "metadata": {},
   "outputs": [],
   "source": [
    "# Load the crop type lookup table\n",
    "lookup = pd.read_csv(os.path.join(datadir,'CDL_codes.csv'))\n",
    "\n",
    "# Join the counts DataFrame with the lookup table\n",
    "result_df = counts_df.merge(lookup, on='Codes', how='left')\n",
    "\n",
    "print(\"Top ten most common crop types and their pixel values:\")\n",
    "print(result_df)"
   ]
  },
  {
   "cell_type": "markdown",
   "id": "eea9886b-0449-438b-a797-57d4df5e1397",
   "metadata": {},
   "source": [
    "Now lets select three crop classes to analyze below.  The top three most common crop types (excluding natural vegetation classes); **Winter Wheat**, **Corn**, and **Millet**. In the code below, we generate random samples from these three major crop types using the CDL raster data."
   ]
  },
  {
   "cell_type": "code",
   "execution_count": null,
   "id": "4a268223-f75d-4d0f-ba22-d18200912155",
   "metadata": {},
   "outputs": [],
   "source": [
    "# Select the CDL codes for the three desired crop types\n",
    "major_crops = [24,1,29]\n",
    "num_samples = 70  # the number of samples per crop type, probably don't want to exceed 100\n",
    "\n",
    "# Ensure CDL raster is in geographic coordinates\n",
    "cdl_masked = cdl_masked.rio.reproject(\"EPSG:4326\")\n",
    "transform = cdl_masked.rio.transform()\n",
    "\n",
    "# Generate random points within each of the three classes\n",
    "points = []\n",
    "for code in major_crops:\n",
    "    # Create a mask for the current crop type\n",
    "    mask = cdl_masked == code\n",
    "    \n",
    "    # Get the coordinates of the pixels matching the current crop type\n",
    "    coords = np.column_stack(np.where(mask.values))\n",
    "    # Take a random sample of 50 pixels \n",
    "    coords = coords[np.random.choice(coords.shape[0], num_samples, replace=False)]\n",
    "    \n",
    "    # Convert pixel coordinates to geographic coordinates\n",
    "    lon, lat = rio.transform.xy(transform, coords[:, 0], coords[:, 1], offset='center')\n",
    "    \n",
    "    # Append the results to the list\n",
    "    for x, y in zip(lon, lat):\n",
    "        points.append({\n",
    "            'Latitude': y,\n",
    "            'Longitude': x,\n",
    "            'Codes': code\n",
    "        })\n",
    "\n",
    "# Create a DataFrame from the results\n",
    "samples_df = pd.DataFrame(points)\n",
    "samples_df = pd.merge(samples_df,lookup,on=\"Codes\")\n",
    "\n",
    "# Create a unique ID column which will be useful as we work through the analysis\n",
    "samples_df['id'] = samples_df.index.astype(str) + \"_\" + samples_df['Codes'].astype(str) # add a unique ID column\n",
    "\n",
    "# Clear up memory\n",
    "del mask, coords, lon, lat\n",
    "\n",
    "samples_df.head()"
   ]
  },
  {
   "cell_type": "markdown",
   "id": "cc4587cf-ceb6-45ff-8df3-66493461d169",
   "metadata": {},
   "source": [
    "#### Step 7c. Plot average spectra for the three major crop types\n",
    "\n",
    "Now that we have a random sample from the major crop types in our granule, we can plot the spectra at these points to examine any difference between the crop types. First, lets plot the samples points ontop of one of the EMIT bands.\n",
    "\n",
    "First, lets make a plot of the EMIT band we selected and sample points we just created to make sure they line up as expected."
   ]
  },
  {
   "cell_type": "code",
   "execution_count": null,
   "id": "5d431f40-418a-402f-b298-3641c79a46f5",
   "metadata": {},
   "outputs": [],
   "source": [
    "# Plot the EMIT data (just select one band by its wavelength)\n",
    "emit_plot = emit_band.hvplot.image(\n",
    "    cmap='greys',\n",
    "    frame_height=500,\n",
    "    frame_width=500,\n",
    "    geo=True,\n",
    "    crs='EPSG:4326'\n",
    ").opts(title=\"Major Crop Type Samples\")\n",
    "\n",
    "# Plot the sample points\n",
    "points_plot = samples_df.hvplot.points(\n",
    "    x='Longitude',\n",
    "    y='Latitude',\n",
    "    by='Class_Names',\n",
    "    color=hv.Cycle('Dark2'),\n",
    "    geo=True,\n",
    "    crs='EPSG:4326',\n",
    "    size=150\n",
    ")\n",
    "\n",
    "# Combine the plots\n",
    "combined_plot = emit_plot * points_plot\n",
    "combined_plot"
   ]
  },
  {
   "cell_type": "markdown",
   "id": "c8bff12f-b4b9-49fb-b670-9951e9a0816e",
   "metadata": {},
   "source": [
    "Looking good! We now have a random sample of pixels for the three different crop types. Using these samples, we can now extract the EMIT spectra and plot the results. Note that we are going to extract data from \"ds_geo\" which contains the entire EMIT spectra."
   ]
  },
  {
   "cell_type": "code",
   "execution_count": null,
   "id": "9b8f2661-9400-4aea-9124-06abf6e6d400",
   "metadata": {},
   "outputs": [],
   "source": [
    "# Setup the samples array to extract EMIT spectra\n",
    "samples = samples_df.set_index(['id'])\n",
    "xp = samples.to_xarray()\n",
    "xp"
   ]
  },
  {
   "cell_type": "code",
   "execution_count": null,
   "id": "d3661148-2c60-4ca1-9f2a-52348a293457",
   "metadata": {},
   "outputs": [],
   "source": [
    "# Extract EMIT wavelength values at our sample points\n",
    "extracted = ds_geo.sel(latitude=xp.Latitude,longitude=xp.Longitude, method='nearest').to_dataframe()\n",
    "extracted = extracted.reset_index()\n",
    "extracted = pd.merge(extracted,samples_df,on=\"id\")\n",
    "extracted"
   ]
  },
  {
   "cell_type": "markdown",
   "id": "96576b96-ac18-4e38-a8f8-3f67e4783dac",
   "metadata": {},
   "source": [
    "Okay now we have a sample from the EMIT data. Let's calculate the mean reflectance by class and plot."
   ]
  },
  {
   "cell_type": "code",
   "execution_count": null,
   "id": "569ab98a-0a4a-443a-a6ad-440779fdceae",
   "metadata": {},
   "outputs": [],
   "source": [
    "mean_reflectance = extracted.groupby(['Class_Names', 'wavelengths'])['reflectance'].mean().reset_index()\n",
    "mean_refl_plot = mean_reflectance.hvplot(x='wavelengths',y='reflectance', by=['Class_Names'], color=hv.Cycle('Dark2'), \n",
    "                                         frame_height=500, frame_width=700).opts(\n",
    "    title='Spectral Profile for Major Crop Types', xlabel='Wavelengths (nm)',ylabel='Reflectance (0-1)')\n",
    "mean_refl_plot"
   ]
  },
  {
   "cell_type": "markdown",
   "id": "e484e981-8767-4a23-b232-0210b64dab02",
   "metadata": {},
   "source": [
    "What do you notice about the similarities and differences in the EMIT spectral profiles between the three diferent crop types? What might be creating these differences in mean spectra?  Is there a seasonal component to the differences?  Considering the spectral plot at the beginning that shows where in the spectra we can extract important physiological and biochemical information, what do these spectra tell us about these different crops? What else would we need to know in order to tease out important differences?"
   ]
  },
  {
   "cell_type": "code",
   "execution_count": null,
   "id": "b3c60a06-3de6-4aed-ace3-8d86bf7e355d",
   "metadata": {},
   "outputs": [],
   "source": [
    "# Save the graphic to your local scratch folder for later review\n",
    "if savefigs:\n",
    "    plt.figure(figsize=(10, 6))\n",
    "    mean_reflectance2 = mean_reflectance.set_index('wavelengths', inplace=False)\n",
    "    mean_reflectance2.groupby('Class_Names')['reflectance'].plot(kind='line', \n",
    "                                                                 linewidth=3, \n",
    "                                                                 figsize=(11, 8), \n",
    "                                                                 fontsize=14, \n",
    "                                                                 legend=True, \n",
    "                                                                 xlabel=\"Wavelength (nm)\", \n",
    "                                                                 ylabel=\"Reflectance (0-1)\")\n",
    "    plt.savefig(os.path.join(figdir,'emit_mean_spectra_by_croptype.pdf'))\n",
    "    plt.savefig(os.path.join(figdir,'emit_mean_spectra_by_croptype.png'))"
   ]
  },
  {
   "cell_type": "markdown",
   "id": "90f372de-88fe-43ff-a455-dea1327ae0fe",
   "metadata": {},
   "source": [
    "### Step 8. Exploring Irrigated vs. Non-irrigated Fields\n",
    "\n",
    "Up to this point, we have successfully used the CDL data layer to create a sample of points for each of the three most common crop types and plotted their EMIT spectral profiles. The next step is to examine the differences between irrigated and non-irrigated fields using one of the SVIs we created above: the Normalized Difference Water Index (NDWI). \n",
    "\n",
    "We will use estimated irrigated lands from the LANID dataset which provides irrigated / non-irrigated land at 30-meter resolution (REF). To compare irrigated and non-irrigated fields, we will first create a data stack of the EMIT-based NDWI and the LANID irrigated lands (cropped to our EMIT data) and then extract values at our sample points for the three major crop types.\n",
    "\n",
    "- LANID dataset: https://zenodo.org/records/5548555\n",
    "- Research article describing the product: https://essd.copernicus.org/articles/13/5689/2021/\n",
    "\n",
    "#### 8a. Prepare the LANID 30-meter gridded product\n",
    "\n",
    "As we did with the CDL, we need to crop and mask the LANID data to the extent of the EMIT granule."
   ]
  },
  {
   "cell_type": "code",
   "execution_count": null,
   "id": "edf60968-eba3-432b-8e1a-3346f9c54cfd",
   "metadata": {},
   "outputs": [],
   "source": [
    "# Load the LANID data\n",
    "lanid_path = os.path.join(datadir,'LANID_Irrigation_CO_SouthPlatte_Republican.tif')\n",
    "lanid = rxr.open_rasterio(lanid_path, masked=True).squeeze() # open to GeoTIFF\n",
    "lanid = lanid.rio.reproject(\"EPSG:4326\") # geographic coordinates to match the EMIT data\n",
    "\n",
    "# Clip the LANID raster to the EMIT dataset's extent\n",
    "lanid_clipped = lanid.rio.clip_box(*emit_extent)\n",
    "\n",
    "# Now mask the LANID to retain only data within the same bounds as the non-null EMIT data\n",
    "# We did this for the CDL as well\n",
    "lanid_masked = lanid_clipped.where(nan_mask_repr == 0)\n",
    "lanid_masked = lanid_masked.rio.write_crs(\"EPSG:4326\") # Set the CRS\n",
    "print(lanid_masked)\n",
    "\n",
    "del lanid_clipped, lanid"
   ]
  },
  {
   "cell_type": "code",
   "execution_count": null,
   "id": "8c76da01-e813-4210-9e6e-60e420032d0c",
   "metadata": {},
   "outputs": [],
   "source": [
    "# plot the irrigated lands mask with our sample points\n",
    "lanid_plot = lanid_masked.hvplot.image(\n",
    "    geo=True, tiles='ESRI', \n",
    "    aspect='equal', frame_width=500).opts(title=\"Irrigated Lands\")\n",
    "\n",
    "# Plot the sample points\n",
    "points_plot = samples_df.hvplot.points(\n",
    "    x='Longitude',\n",
    "    y='Latitude',\n",
    "    by='Class_Names',\n",
    "    color=hv.Cycle('Dark2'),\n",
    "    geo=True,\n",
    "    crs='EPSG:4326',\n",
    "    size=100\n",
    ")\n",
    "\n",
    "# Combine the plots\n",
    "combined_plot = lanid_plot * points_plot\n",
    "combined_plot"
   ]
  },
  {
   "cell_type": "markdown",
   "id": "464f7db3-fe64-4552-bc0c-3e005d7f6afa",
   "metadata": {},
   "source": [
    "#### 8b. Prepare the NDWI array\n",
    "\n",
    "Now we need to make sure the NDWI array is ready for analysis by assigning geographic coordinates and matching the format of the irrigated land GIS layer. We do this in order to stack the NDWI and irrigated lands together so we can extract data from the NDWI image by crop type and record whether the field is irrigated or not in the output dataframe.  This allows us to then compare the values of NDWI for each crop type binned by irrigated or non-irrigated classes"
   ]
  },
  {
   "cell_type": "code",
   "execution_count": null,
   "id": "39fb8f91-3f76-4daa-810d-06358a720520",
   "metadata": {},
   "outputs": [],
   "source": [
    "# Prep the NDWI array - match format of lanid_masked so we can layer stack\n",
    "ndwi_da = ndwi['ndwi'].squeeze()\n",
    "ndwi_da_repr = ndwi_da.rio.reproject(\"EPSG:4326\")"
   ]
  },
  {
   "cell_type": "markdown",
   "id": "5ba3d35e-1632-4807-ae11-53317e329e92",
   "metadata": {},
   "source": [
    "#### 8c. Create a data stack\n",
    "\n",
    "Now we can stack our NDWI and LANID data arrays together. This enables us to perform sampling and other analysis on each of the different data arrays. We could also extract other SVIs to include in the stack if we wanted to."
   ]
  },
  {
   "cell_type": "code",
   "execution_count": null,
   "id": "00cbf9e9-b02b-4a8c-847b-75bebd8c03e6",
   "metadata": {},
   "outputs": [],
   "source": [
    "# Ensure the LANID array matches the NDWI\n",
    "lanid_masked_repr = lanid_masked.rio.reproject_match(ndwi_da_repr)\n",
    "\n",
    "# Create a data stack\n",
    "ds_stack = xr.Dataset({\n",
    "    'ndwi': ndwi_da_repr,\n",
    "    'irrigation': lanid_masked_repr\n",
    "})\n",
    "print(ds_stack)"
   ]
  },
  {
   "cell_type": "markdown",
   "id": "52263c4c-5b28-4a79-8948-5b9aa09563af",
   "metadata": {},
   "source": [
    "#### 8d. Extract the pixel values to our sample points\n",
    "\n",
    "As we did with the EMIT spectra, we will now extract the pixel values at our sample points for NDWI and LANID."
   ]
  },
  {
   "cell_type": "code",
   "execution_count": null,
   "id": "addc192c-1b86-44f7-802e-447552fbdb2e",
   "metadata": {},
   "outputs": [],
   "source": [
    "# Extract data values at the sample points\n",
    "extracted = ds_stack.sel(\n",
    "    y=xp['Latitude'], x=xp['Longitude'], method='nearest'\n",
    ").to_dataframe().reset_index()\n",
    "\n",
    "# Merge the results\n",
    "extracted = extracted[['id','ndwi','irrigation']]\n",
    "extracted = pd.merge(extracted, samples_df, on=\"id\")\n",
    "extracted.head()"
   ]
  },
  {
   "cell_type": "markdown",
   "id": "ba259ab7-045b-403e-b784-9cb63371f990",
   "metadata": {},
   "source": [
    "#### 8e. Examine the differences between crop types and irrigation status\n",
    "\n",
    "Now we have our data frame with pixel values for our three crop types. In the code chunk below, we create a boxplot showing the differences in NDWI between irrigation status and amongst the different crop types."
   ]
  },
  {
   "cell_type": "code",
   "execution_count": null,
   "id": "e011204e-e869-4f67-835e-f47cd6639b8c",
   "metadata": {},
   "outputs": [],
   "source": [
    "# Convert irrigation values to categorical\n",
    "extracted['Irrigation'] = extracted['irrigation'].apply(lambda x: 'Irrigated' if x == 1 else 'Non-Irrigated')\n",
    "\n",
    "# Create the box plot\n",
    "plt.figure(figsize=(8, 6))\n",
    "sns.boxplot(data=extracted, x='Class_Names', y='ndwi', hue='Irrigation',\n",
    "           palette={'Irrigated': '#ADD8E6', 'Non-Irrigated': '#D2B48C'})\n",
    "plt.title('NDWI for Irrigated vs Non-Irrigated Fields by Crop Type')\n",
    "plt.xlabel('Crop Type')\n",
    "plt.ylabel('NDWI')\n",
    "plt.legend(title='Irrigation Status')\n",
    "\n",
    "# save figure if requested\n",
    "if savefigs:\n",
    "    plt.savefig(os.path.join(figdir,'emit_ndwi_by_croptype.pdf'))\n",
    "    plt.savefig(os.path.join(figdir,'emit_ndwi_by_croptype.png'))\n",
    "# show the figure to the screen\n",
    "plt.show()"
   ]
  },
  {
   "cell_type": "markdown",
   "id": "fa37008c-90d9-432d-bacb-6e7aac560b34",
   "metadata": {},
   "source": [
    "What do you notice about the patterns in NDWI between both irrigated / non-irrigated as well as between crop types? Given the date of the EMIT image, what might that tell us about the within and across-crop type differences? How might you extend this analysis using other SVIs or additional image data?"
   ]
  },
  {
   "cell_type": "markdown",
   "id": "fb7f3b9b-913b-4fa1-90e7-8093aa900bf0",
   "metadata": {},
   "source": [
    "#### 8f. Compare multiple SVIs by crop type and irrigated vs. non-irrigated fields"
   ]
  },
  {
   "cell_type": "code",
   "execution_count": null,
   "id": "895753ab-65f2-4419-8bf8-3fc991a2d208",
   "metadata": {},
   "outputs": [],
   "source": [
    "# Prep the SVIs\n",
    "ndvi_da = ndvi['ndvi'].squeeze()\n",
    "ndvi_da_repr = ndvi_da.rio.reproject(\"EPSG:4326\")\n",
    "\n",
    "reNDVI_da = reNDVI['reNDVI'].squeeze()\n",
    "reNDVI_da_repr = reNDVI_da.rio.reproject(\"EPSG:4326\")\n",
    "\n",
    "pri = pri(input_xarray = ds_geo, band1=531, band2=570, scaled=True, index_name='pri', proj=llwgs84)\n",
    "pri_da = pri['pri'].squeeze()\n",
    "pri_da_repr = pri_da.rio.reproject(\"EPSG:4326\")"
   ]
  },
  {
   "cell_type": "code",
   "execution_count": null,
   "id": "8b1a4b33-0251-4185-88ef-ee63d10a28ea",
   "metadata": {},
   "outputs": [],
   "source": [
    "# Create a data stack of all SVIs and the irrigation land mask\n",
    "ds_stack = xr.Dataset({\n",
    "    'ndvi': ndvi_da_repr,\n",
    "    'ndwi': ndwi_da_repr,\n",
    "    'reNDVI': reNDVI_da_repr,\n",
    "    'pri': pri_da_repr,\n",
    "    'irrigation': lanid_masked_repr\n",
    "})\n",
    "\n",
    "# Extract data values at the sample points\n",
    "extracted = ds_stack.sel(\n",
    "    y=xp['Latitude'], x=xp['Longitude'], method='nearest'\n",
    ").to_dataframe().reset_index()\n",
    "\n",
    "# Merge the results\n",
    "extracted = extracted[['id','ndvi','ndwi','reNDVI','pri','irrigation']]\n",
    "extracted = pd.merge(extracted, samples_df, on=\"id\")\n",
    "extracted.head()"
   ]
  },
  {
   "cell_type": "code",
   "execution_count": null,
   "id": "9f417860-055a-4e39-8e4b-c10f53049464",
   "metadata": {},
   "outputs": [],
   "source": [
    "# Convert irrigation values to categorical\n",
    "extracted['Irrigation'] = extracted['irrigation'].apply(lambda x: 'Irrigated' if x == 1 else 'Non-Irrigated')\n",
    "\n",
    "# Create the box plot - in this example we create a multi-panel plot to enable comparisons across SVIs\n",
    "fig,a=plt.subplots(nrows=2, ncols=2, clear=True, figsize=(15,12))\n",
    "\n",
    "# panel 1\n",
    "ax=a[0,0]\n",
    "sns.boxplot(ax=ax, data=extracted, x='Class_Names', y='ndvi', hue='Irrigation',\n",
    "           palette={'Irrigated': '#ADD8E6', 'Non-Irrigated': '#D2B48C'})\n",
    "ax.set_title('NDVI for Irrigated vs Non-Irrigated Fields by Crop Type')\n",
    "ax.set_xlabel('Crop Type')\n",
    "ax.set_ylabel('NDVI')\n",
    "ax.legend(title='Irrigation Status')\n",
    "\n",
    "# panel 2\n",
    "ax=a[0,1]\n",
    "sns.boxplot(ax=ax, data=extracted, x='Class_Names', y='ndwi', hue='Irrigation',\n",
    "           palette={'Irrigated': '#ADD8E6', 'Non-Irrigated': '#D2B48C'})\n",
    "ax.set_title('NDWI for Irrigated vs Non-Irrigated Fields by Crop Type')\n",
    "ax.set_xlabel('Crop Type')\n",
    "ax.set_ylabel('NDWI')\n",
    "ax.legend(title='Irrigation Status')\n",
    "\n",
    "# panel 3\n",
    "ax=a[1,0]\n",
    "sns.boxplot(ax=ax,data=extracted, x='Class_Names', y='reNDVI', hue='Irrigation',\n",
    "           palette={'Irrigated': '#ADD8E6', 'Non-Irrigated': '#D2B48C'})\n",
    "ax.set_title('reNDVI for Irrigated vs Non-Irrigated Fields by Crop Type')\n",
    "ax.set_xlabel('Crop Type')\n",
    "ax.set_ylabel('reNDVI')\n",
    "ax.legend(title='Irrigation Status')\n",
    "\n",
    "# panel 4\n",
    "ax=a[1,1]\n",
    "sns.boxplot(ax=ax,data=extracted, x='Class_Names', y='pri', hue='Irrigation',\n",
    "           palette={'Irrigated': '#ADD8E6', 'Non-Irrigated': '#D2B48C'})\n",
    "ax.set_title('PRI for Irrigated vs Non-Irrigated Fields by Crop Type')\n",
    "ax.set_xlabel('Crop Type')\n",
    "ax.set_ylabel('PRI')\n",
    "ax.legend(title='Irrigation Status')\n",
    "\n",
    "# save figure if requested\n",
    "if savefigs:\n",
    "    plt.savefig(os.path.join(figdir,'emit_svi_by_croptype.pdf'))\n",
    "    plt.savefig(os.path.join(figdir,'emit_svi_by_croptype.png'))\n",
    "# show the figure to the screen\n",
    "plt.show()"
   ]
  },
  {
   "cell_type": "markdown",
   "id": "07e36670-2351-447b-af66-2d4e924d09cc",
   "metadata": {},
   "source": [
    "#### CHALLENGE: Continue the analysis on your own using these suggestions or your own ideas to expand on this tutorial"
   ]
  },
  {
   "cell_type": "markdown",
   "id": "2d82968d-2fe6-40a2-829a-a9f8fc56998f",
   "metadata": {},
   "source": [
    "Below we provide a few additional ideas for activities that you can carry out using the notebooks we have provided. You can use these notebooks as a starting point to create new custom notebooks that enable expanded analyses of EMIT data using specific pieces of what's provided here. Beyond this list, what other ideas do you have that could build on this tutorial and provide additional applications of EMIT to address agriculture and food security issues and monitoring?  What additional datasets or information would you like to include (e.g. GIS, rasters, ag statistics) to enable new comparisons and analyses (e.g. crop health and productivity/yield by crop type and irrigated vs non-irrigated).\n",
    "\n",
    "**Short list:**\n",
    "\n",
    "*) Expand the analysis above to include more crop types by adding additional crops in the subset selection in step 7b\n",
    "\n",
    "*) Expand the analysis above to include additional SVIs and other crop metrics beyond those demonstrated here.  Where could you find information on additional crop or plant SVIs and metrics?\n",
    "\n",
    "*) Expand the analysis above to include all of the downloaded and prepared EMIT images and compare crop types across multiple EMIT scenes\n",
    "\n",
    "*) Expand the analysis above to include an EMIT time-series to study the changes in spectra for specific crop types at different times of the year\n",
    "\n",
    "*) Add additional data visualization and plotting options to synthesize the information provided by EMIT and the associated GIS data\n",
    "\n",
    "*) Incorporate ECOSTRESS data to evaluate optical and thermal differences across crop types and irrigated vs non-irrigated lands\n",
    "\n",
    "\n",
    "This is just a short list of ideas for expansion of this notebook. Please discuss other ideas or interest in exploring these further with the facilitators who can help you get started. Happy data analyses!"
   ]
  },
  {
   "cell_type": "code",
   "execution_count": null,
   "id": "ce9e1097-3f49-41a5-b4c0-4de7f15cb6e2",
   "metadata": {},
   "outputs": [],
   "source": []
  }
 ],
 "metadata": {
  "kernelspec": {
   "display_name": "hyr-sense",
   "language": "python",
   "name": "hyr-sense"
  },
  "language_info": {
   "codemirror_mode": {
    "name": "ipython",
    "version": 3
   },
   "file_extension": ".py",
   "mimetype": "text/x-python",
   "name": "python",
   "nbconvert_exporter": "python",
   "pygments_lexer": "ipython3",
   "version": "3.10.14"
  }
 },
 "nbformat": 4,
 "nbformat_minor": 5
}
