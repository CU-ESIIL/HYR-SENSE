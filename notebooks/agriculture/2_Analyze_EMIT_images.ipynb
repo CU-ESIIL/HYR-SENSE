{
 "cells": [
  {
   "cell_type": "markdown",
   "id": "18752e45-af79-4418-8ba3-e1ebadfdb202",
   "metadata": {},
   "source": [
    "## View example downloaded EMIT agricultural scenes\n",
    "\n",
    "We will use the image granules that you orthorectified in the previous step **\"1_Orthorectify_images.ipynb\"**"
   ]
  },
  {
   "cell_type": "markdown",
   "id": "c71fe6af-fa67-443e-820b-8247c18cd8c2",
   "metadata": {},
   "source": [
    "### Step 1. Setup notebook\n",
    "\n",
    "Import packages"
   ]
  },
  {
   "cell_type": "code",
   "execution_count": null,
   "id": "33992c2b-754d-46dc-9adb-5bad421211fb",
   "metadata": {},
   "outputs": [],
   "source": [
    "import os, sys, fnmatch\n",
    "import warnings\n",
    "from osgeo import gdal\n",
    "import numpy as np\n",
    "import math\n",
    "import rasterio as rio\n",
    "import xarray as xr\n",
    "import holoviews as hv\n",
    "import hvplot.xarray\n",
    "import pandas as pd\n",
    "import hvplot.pandas\n",
    "import geopandas as gpd\n",
    "import rioxarray as rxr\n",
    "import numpy as np\n",
    "import folium\n",
    "from branca.element import Figure\n",
    "\n",
    "# Get custom functions\n",
    "#sys.path.append(os.path.join(os.path.expanduser(\"~\"),\"HYR-SENSE\",\"tools\",\"functions\"))\n",
    "#from helper_functions import *\n",
    "sys.path.append(os.path.join(os.path.expanduser(\"~\"),\"HYR-SENSE\",\"tools\",\"functions\"))\n",
    "from spectral_index import *\n",
    "\n",
    "# Setup paths\n",
    "datadir = os.path.join(os.path.expanduser('~'),'HYR-SENSE/data/Agriculture/')\n",
    "outdir = os.path.join(os.path.expanduser('~'),'HYR-SENSE/data/Agriculture/output')\n",
    "workflow = \"Agriculture\"\n",
    "platform = \"emit\"\n",
    "source_file_path = os.path.join(os.path.expanduser(\"~\"),\"HYR-SENSE\",\"data\",workflow,platform)\n",
    "\n",
    "# This will ignore some warnings caused by holoviews\n",
    "warnings.simplefilter('ignore')"
   ]
  },
  {
   "cell_type": "markdown",
   "id": "41b1c77a-917a-4bad-b313-99bd8df7a874",
   "metadata": {},
   "source": [
    "### Step 2. Find all downloaded and orthorectified agricultural images"
   ]
  },
  {
   "cell_type": "code",
   "execution_count": null,
   "id": "208be5e3-7d56-44e6-8818-aad2eb6c9933",
   "metadata": {},
   "outputs": [],
   "source": [
    "# Define workflow which selects the appropriate image data folder\n",
    "print(\"*** EMIT data folder: \" + source_file_path)\n",
    "print(\"\")\n",
    "print(\"*** GIS data folder: \" + datadir)\n",
    "print(\"\")"
   ]
  },
  {
   "cell_type": "code",
   "execution_count": null,
   "id": "4db6cefe-0437-47b3-98e1-d67942d01918",
   "metadata": {},
   "outputs": [],
   "source": [
    "### List all of the available data located in the EMIT data folder\n",
    "granules = fnmatch.filter(os.listdir(source_file_path), '*ortho.nc')\n",
    "print(\"*** EMIT Data Granules ***\")\n",
    "granules"
   ]
  },
  {
   "cell_type": "markdown",
   "id": "79f4ff12-23d6-4ff3-bace-ebc7658c1ccb",
   "metadata": {},
   "source": [
    "### Step 3. Select and load a previously orthorectified EMIT image\n",
    "\n",
    "First let's remind ourselves where we currently EMIT data ready to be analyzed.  We can do this by re-plotting the EMIT bounding boxes that we saved in the data search and download step"
   ]
  },
  {
   "cell_type": "code",
   "execution_count": null,
   "id": "5cf1776b-c2c5-4491-9e84-71bf26195dc4",
   "metadata": {},
   "outputs": [],
   "source": [
    "### Load the EMIT bounding boxes and plot on the map\n",
    "gdf_all = gpd.read_file(os.path.join(datadir,'emit_granule_footprints.gpkg'))\n",
    "# Filter to the Yuma, CO granule\n",
    "gdf_yuma = gdf_all[gdf_all['meta.native-id'] == 'EMIT_L2A_RFL_001_20230729T205630_2321014_019']\n",
    "gdf_yuma = gdf_yuma.to_crs(5070)\n",
    "gdf_all = gdf_all.to_crs(5070)"
   ]
  },
  {
   "cell_type": "code",
   "execution_count": null,
   "id": "99a0ba30-b145-4612-8a4e-fbb9f70a9b9e",
   "metadata": {},
   "outputs": [],
   "source": [
    "print(\"*** EMIT granule bounding boxes ***\")\n",
    "gdf_all"
   ]
  },
  {
   "cell_type": "code",
   "execution_count": null,
   "id": "7f2b8c07-65d3-4a51-b3dc-d1f0ed208282",
   "metadata": {},
   "outputs": [],
   "source": [
    "# Create the interactive map using folium\n",
    "fig = Figure(width=\"750px\", height=\"375px\")\n",
    "map1 = folium.Map(tiles='https://mt1.google.com/vt/lyrs=y&x={x}&y={y}&z={z}', attr='Google')\n",
    "fig.add_child(map1)\n",
    "\n",
    "gdf_all.explore(\n",
    "    \"meta.native-id\",\n",
    "    categorical=True,\n",
    "    tooltip=[\n",
    "        \"meta.native-id\",\n",
    "        \"start_datetime\",\n",
    "    ],\n",
    "    popup=True,\n",
    "    style_kwds=dict(fillOpacity=0.1, width=2),\n",
    "    name=\"EMIT\",\n",
    "    m=map1,\n",
    "    legend=False\n",
    ")\n",
    "\n",
    "map1.fit_bounds(map1.get_bounds(), padding=(30, 30))\n",
    "display(fig)"
   ]
  },
  {
   "cell_type": "markdown",
   "id": "17580ebb-e177-423b-a062-9973bfd240fa",
   "metadata": {},
   "source": [
    "For now, let's select a single scene ID to explore the data more closely. We will choose the scene that covers Yuma Colorado, shown in blue below"
   ]
  },
  {
   "cell_type": "code",
   "execution_count": null,
   "id": "85e211b7-af6e-4b61-af8f-78ebfe6cb103",
   "metadata": {},
   "outputs": [],
   "source": [
    "### Show just the Yuma CO scene\n",
    "gdf_yuma.explore(\n",
    "    \"meta.native-id\",\n",
    "    categorical=True,\n",
    "    tooltip=[\n",
    "        \"meta.native-id\",\n",
    "        \"start_datetime\",\n",
    "    ],\n",
    "    popup=True,\n",
    "    style_kwds=dict(fillOpacity=0.91, width=5),\n",
    "    name=\"EMIT\",\n",
    "    m=map1,\n",
    "    legend=False\n",
    ")\n",
    "map1.fit_bounds(map1.get_bounds(), padding=(30, 30))\n",
    "display(fig)"
   ]
  },
  {
   "cell_type": "code",
   "execution_count": null,
   "id": "512f1a5c-240a-4953-a8a1-aa896bd7b673",
   "metadata": {},
   "outputs": [],
   "source": [
    "### Pick an image granule to explore - we will start with EMIT_L2A_RFL_001_20230729T205630_2321014_019_ortho.nc\n",
    "img_file = 'EMIT_L2A_RFL_001_20230729T205630_2321014_019_ortho.nc'"
   ]
  },
  {
   "cell_type": "code",
   "execution_count": null,
   "id": "7aeaeece-7057-4b70-ac33-7291650abc91",
   "metadata": {},
   "outputs": [],
   "source": [
    "# # Load the selected image to memory\n",
    "img_file_dat = os.path.join(source_file_path,img_file)\n",
    "ds_geo = xr.open_dataset(img_file_dat)"
   ]
  },
  {
   "cell_type": "markdown",
   "id": "33b268a8-7ecd-409b-8419-59b843b6e99f",
   "metadata": {},
   "source": [
    "### Step 4. Quickly display the selected orthorectified image\n",
    "\n",
    "Here we will view the selected orthorectified image that contains Yuma Colorado, shown below with the yellow dot"
   ]
  },
  {
   "cell_type": "code",
   "execution_count": null,
   "id": "3e16c5b4-e8fd-4d7b-85ef-d9d4c1fc7ede",
   "metadata": {},
   "outputs": [],
   "source": [
    "refl850 = ds_geo.sel(wavelengths=850, method='nearest')\n",
    "yuma_df = [[40.1222,-102.7252]]\n",
    "yuma_df = pd.DataFrame(yuma_df, columns=['Latitude', 'Longitude'])\n",
    "\n",
    "img_plot = ds_geo.sel(wavelengths=850, method='nearest').hvplot.image(cmap='Viridis', geo=True, tiles='ESRI', alpha=0.8, frame_height=600).opts(\n",
    "    title=f\"Reflectance at {refl850.wavelengths.values:.3f} {refl850.wavelengths.units} (Orthorectified)\")\n",
    "pt_plot = yuma_df.hvplot.points(\"Longitude\", \"Latitude\", geo=True, color=\"yellow\", alpha=0.9, s=250, global_extent=False)\n",
    "plots = img_plot * pt_plot\n",
    "plots"
   ]
  },
  {
   "cell_type": "markdown",
   "id": "29a967b8-41bf-4210-a67b-22ad63b7d68f",
   "metadata": {},
   "source": [
    "We can see that the orthorectification step placed the data on a geo geographic that matches pretty well with ESRI tiles. Now that we have a better idea of what the target area looks like, we can also plot the spectra using the georeferenced data. "
   ]
  },
  {
   "cell_type": "markdown",
   "id": "cf816177-da0f-4697-9bb8-e90fc8cc4589",
   "metadata": {},
   "source": [
    "We can also display three bands side-by-side that cover the visible through the near-infrared to look a the differences in surfaec reflectance at the three different wavelengths (EMIT band centers)"
   ]
  },
  {
   "cell_type": "code",
   "execution_count": null,
   "id": "a247113d-d867-4b91-b9e1-0f8da80a9ed3",
   "metadata": {},
   "outputs": [],
   "source": [
    "refl550 = ds_geo.sel(wavelengths=550, method='nearest');refl650 = ds_geo.sel(wavelengths=650, method='nearest')\n",
    "plots = refl550.hvplot.image(cmap='viridis', aspect = 'equal', frame_width=500).opts(title=\"Band: 550\") + \\\n",
    "refl650.hvplot.image(cmap='viridis', aspect = 'equal', frame_width=500).opts(title=\"Band: 650\") + \\\n",
    "refl850.hvplot.image(cmap='viridis', aspect = 'equal', frame_width=500).opts(title=\"Band: 850\")\n",
    "plots"
   ]
  },
  {
   "cell_type": "markdown",
   "id": "5cc342af-b7af-48eb-8abe-7a2f0c4c6bae",
   "metadata": {},
   "source": [
    "### Step 5. Plot example spectra\n",
    "\n",
    "Now let's plot some example spectra found in the image. Before we do this, we should filter out the water absorption bands like we did earlier. By limiting the third dimension of the array to good_wavelengths."
   ]
  },
  {
   "cell_type": "code",
   "execution_count": null,
   "id": "320d9b4b-1169-4bb3-8912-4a2da608df34",
   "metadata": {},
   "outputs": [],
   "source": [
    "ds_geo['reflectance'].data[:,:,ds_geo['good_wavelengths'].data==0] = np.nan"
   ]
  },
  {
   "cell_type": "markdown",
   "id": "19227085-07d9-4aa6-b0ad-f62dd0120e1b",
   "metadata": {},
   "source": [
    "Now let's select some random points from within the scene covering different crop types and crop stages from center-pivot irrigation (A), rainfed (B), and bare (C)"
   ]
  },
  {
   "cell_type": "code",
   "execution_count": null,
   "id": "02c56f14-5676-47c6-91ff-e31534b1b51c",
   "metadata": {},
   "outputs": [],
   "source": [
    "point1 = ds_geo.sel(longitude=-102.694,latitude=40.347,method='nearest')\n",
    "point2 = ds_geo.sel(longitude=-102.957,latitude=40.160,method='nearest')\n",
    "point3 = ds_geo.sel(longitude=-102.516,latitude=40.428,method='nearest')\n",
    "spectra_plots = point1.hvplot.line(y='reflectance',x='wavelengths', color='black', frame_height=400, frame_width=440).opts(\n",
    "    title = f'A) Latitude = {point1.latitude.values.round(3)}, Longitude = {point1.longitude.values.round(3)}') + \\\n",
    "point2.hvplot.line(y='reflectance',x='wavelengths', color='black', frame_height=400, frame_width=440).opts(\n",
    "    title = f'B) Latitude = {point2.latitude.values.round(3)}, Longitude = {point2.longitude.values.round(3)}') + \\\n",
    "point3.hvplot.line(y='reflectance',x='wavelengths', color='black', frame_height=400, frame_width=440).opts(\n",
    "    title = f'C) Latitude = {point3.latitude.values.round(3)}, Longitude = {point3.longitude.values.round(3)}') \n",
    "spectra_plots"
   ]
  },
  {
   "cell_type": "markdown",
   "id": "3daf1f59-2ff4-4aab-8b76-f46bcf33d04f",
   "metadata": {},
   "source": [
    "Based on what you see above, what can you take away from these different spectral plots about the status, vigor, and cover of different crops from these three different agricultural fields?"
   ]
  },
  {
   "cell_type": "markdown",
   "id": "f433581d-4d7e-4eac-9bb1-2b34a1af296f",
   "metadata": {},
   "source": [
    "### Step 6. Spectral vegetation indices\n",
    "\n",
    "Before we proceed with our analysis of the spectral differences and characteristics of different crop types in the Yuma, CO region let's first discuss what we can learn about plant health and status using high spectral resolution data like EMIT. We will review what information is contained in the spectral domain as well as how we can use spectral vegetation indices to tease out subtle differences in plant pigments, water content and physiology using just the raw spectral data provided by EMIT.\n",
    "\n",
    "For more examples of how to calculate spectral vegetation indices with EMIT, you can review the \"How To\" notebook **\"Calculate_spectral_vegetation_indices.ipynb\"** located in the HYR-SENSE repo [here](https://github.com/CU-ESIIL/HYR-SENSE/blob/main/notebooks/how_to/Calculate_spectral_vegetation_indices.ipynb).  In this notebook we will proceed with our analysis using the functions provided in the functions file [spectral_index.py](https://github.com/CU-ESIIL/HYR-SENSE/blob/main/tools/functions/spectral_index.py) and use these SVIs later to compare and contrast the water, pigment, and physiological differences of our select crop types.\n",
    "\n",
    "First, let's take a moment to consider again what remote sensing imagery like those provided by EMIT can tell us about the underlying vegetation. The internal structure and biochemistry of leaves (A) within a canopy control the optical signatures observed by remote sensing instrumentation (B). The amount of incident radiation that is reflected by, transmitted through, or absorbed by leaves within a canopy is regulated by these structural and biochemical properties of leaves. For example, leaf properties such as a thick cuticle layer, high wax, and/or a large amount of leaf hairs can significantly influence the amount of first-surface reflectance (that is the reflected light directly off the outer leaf layer that does not interact with the leaf interior), causing less solar radiation to penetrate into the leaf. The thickness of the mesophyll layer associated with other properties, such as thicker leaves, can cause higher degree of internal leaf scattering, less transmittance through the leaf, and higher absorption in some wavelengths. Importantly, the diffuse reflectance out of the leaf is that modified by internal leaf properties and contains useful for mapping functional traits (B). High spectral resolution measurements of leaves and plant canopies enable the indirect, non-contact measurement of key structural and chemical absorption features that are associated with the physiological and biochemical properties of plants (B)"
   ]
  },
  {
   "cell_type": "markdown",
   "id": "ccc3aadd-9e03-4d07-add6-b8beb96ee535",
   "metadata": {},
   "source": [
    "**A)** ![leaf_anatomy.jpg](../../images/leaf_anatomy_figure.jpg) **B)** ![spectral_signatures.jpg](../../images/spectral_signatures.jpg)"
   ]
  },
  {
   "cell_type": "markdown",
   "id": "24e4cb52-8cd7-4f10-a7bb-8daf5d2620cc",
   "metadata": {},
   "source": [
    "We can make use of all of the information contained within the emergent spectral signatures provided by vegetation.  We can do this by directly utilizing the spectral profiles of a leaf or an EMIT pixel, or we can instead target specific wavebands provided by data like EMIT to calculate a spectral vegetation index (SVI). SVIs range widely in the wavelengths/bands, structure, and applications. This article provides some background information ([https://www.nature.com/articles/s41597-023-02096-0](https://www.nature.com/articles/s41597-023-02096-0)) but you can find comprehensive list of SVIs [here](https://www.indexdatabase.de/)\n",
    "\n",
    "\n",
    "For more information, you can review these select articles and resources that discuss how leaf and canopy structure, leaf chemical properties, and stress can alter the spectral signatures we see with remote sensing data like those provided by EMIT and how SVIs provide us a way to easily probe the properties of vegetation remotely.\n",
    "\n",
    "[Sources of variability in canopy reflectance and the convergent properties of plants](https://doi.org/10.1111/j.1469-8137.2010.03536.x)\n",
    "\n",
    "[Retrieval of foliar information about plant pigment systems from high resolution spectroscopy](https://doi.org/10.1016/j.rse.2008.10.019)\n",
    "\n",
    "[Scaling Functional Traits from Leaves to Canopies](https://link.springer.com/chapter/10.1007/978-3-030-33157-3_3)"
   ]
  },
  {
   "cell_type": "markdown",
   "id": "f7bfd0b6-b17d-4380-bfcc-b5da658cfb5b",
   "metadata": {},
   "source": [
    "#### Calculate NDVI\n",
    "\n",
    "We can start by calculating a very simple, yet powerful, and widely-used SVI, the normalized difference vegetation index (NDVI). NDVI has been used for over 40 years to study changes on the Earth's surface, specifically related to vegetation, stress, and agriculture. For more information on NDVI, you can explore this article from NASA: [https://earthobservatory.nasa.gov/features/MeasuringVegetation/measuring_vegetation_1.php](https://earthobservatory.nasa.gov/features/MeasuringVegetation/measuring_vegetation_1.php)"
   ]
  },
  {
   "cell_type": "markdown",
   "id": "386f94fb-1363-4541-923e-4abf7a91f85a",
   "metadata": {},
   "source": [
    "To calculate NDVI, we need to select which bands we want to include in the calculation. In general, NDVI is defined using a red and near-infrared band, so lets use a band centered at 650nm and another at 850nm, both squarely within the red and NIR wavelength range as shown in the example spectral graph above\n",
    "\n",
    "The basic structure of the NDVI is: NDVI = (NIR−Red)/(NIR + Red)"
   ]
  },
  {
   "cell_type": "code",
   "execution_count": null,
   "id": "372d4d53-4467-46c0-b4bf-5ef199bc9330",
   "metadata": {},
   "outputs": [],
   "source": [
    "### Let's calculate the NDVI using the provided normalized_diff function\n",
    "ndvi = normalized_diff(input_xarray = ds_geo, band1=650, band2=850)\n",
    "ndvi.hvplot.image(cmap='viridis', geo=True, tiles='ESRI', aspect = 'equal', frame_width=720, clim=(0,1)).opts(title=\"NDVI Image\")"
   ]
  },
  {
   "cell_type": "markdown",
   "id": "7729a124-204a-48fd-9b40-bcb923646e51",
   "metadata": {},
   "source": [
    "Above is the NDVI map generated from the Yuma CO scene. What do you new imformation or details do you notice in this new NDVI map?"
   ]
  },
  {
   "cell_type": "code",
   "execution_count": null,
   "id": "b467b239-4e86-433e-836d-1fc7dc6ac62f",
   "metadata": {},
   "outputs": [],
   "source": [
    "### Now let's calculate 2 more SVIs and show the three SVIs side by side for comparison\n",
    "\n",
    "# We can calculate the Normalized Difference Water Index that is designed to capture subtle variations in canopy water content\n",
    "ndwi = normalized_diff(input_xarray = ds_geo, band1=2200, band2=864)\n",
    "\n",
    "# We can also calculate the Red Edge NDVI that is highly sensitive the subtle variations in plant photosynthetic pigment content\n",
    "reNDVI = normalized_diff(input_xarray = ds_geo, band1=705, band2=750)\n",
    "\n",
    "# Show the three plots side by side\n",
    "ndvi.hvplot.image(cmap='viridis', geo=True, tiles='ESRI', aspect = 'equal', frame_width=500, clim=(0,1)).opts(title=\"NDVI Image\") + \\\n",
    "ndwi.hvplot.image(cmap='viridis', geo=True, tiles='ESRI', aspect = 'equal', frame_width=500, clim=(0,1)).opts(title=\"NDWI Image\") + \\\n",
    "reNDVI.hvplot.image(cmap='viridis', geo=True, tiles='ESRI', aspect = 'equal', frame_width=500, clim=(0.44,0.48)).opts(title=\"reNDVI Image\")"
   ]
  },
  {
   "cell_type": "markdown",
   "id": "9564c4b4-3e60-416c-9826-d7ce26e2d948",
   "metadata": {},
   "source": [
    "Based on what you see above, what are the similarities and differences across the three normalized-difference SVIs: NDVI, NDWI, and the reNDVI?  Are there particular areas that show strong similarities? Are there observable differences?\n",
    "\n",
    "We will further explore the similarities and differences in crop condition and physiology using raw EMIT spectra and SVIs below."
   ]
  },
  {
   "cell_type": "markdown",
   "id": "8314e2e2-d6b7-4a6a-84ec-2c29c7f860c3",
   "metadata": {},
   "source": [
    "### Step 7. Spectra of major crop types\n",
    "\n",
    "\n",
    "Now let's look at EMIT spectral plots across major crop types represented in the selected EMIT scene.  To do this we are going to need the Cropland Data Layer (CDL) which provides a raster image of different crop types, we will clip to our EMIT granule region, identify the top 10 most common crop classes, and then randomly sample points from the three most common crop classes to compare spectral plots"
   ]
  },
  {
   "cell_type": "code",
   "execution_count": null,
   "id": "e2a28c0a-1603-4f2e-886a-11af4b0b50a6",
   "metadata": {},
   "outputs": [],
   "source": [
    "### Load the Cropland Data Layer (CDL) for our region\n",
    "## Crop to our Yuma, CO footprint\n",
    "# Load the CDL raster\n",
    "cdl_path = os.path.join(datadir,'CDL_2023_CO_SouthPlatte_Republican.tif')\n",
    "cdl = rxr.open_rasterio(cdl_path, mask=True, cache=False).squeeze()\n",
    "cdl = cdl.rio.clip(gdf_yuma.geometry)\n",
    "print(cdl)\n",
    "unique_values = np.unique(cdl.values)\n",
    "print(unique_values)\n",
    "\n",
    "# Get the most common pixel values by counting the frequency\n",
    "cdl_values = cdl.values.flatten()\n",
    "cdl_values = cdl_values[cdl_values > 0]\n",
    "counts = np.bincount(cdl_values)\n",
    "\n",
    "# Get the indices of the ten most common pixel values\n",
    "top_ten_indices = np.argsort(counts)[-10:][::-1]\n",
    "top_ten_counts = counts[top_ten_indices]\n",
    "print(\"Ten most common pixel values and their counts:\", list(zip(top_ten_indices, top_ten_counts)))\n",
    "\n",
    "# Convert the counts to a DataFrame\n",
    "counts_df = pd.DataFrame({'Codes': top_ten_indices, 'Counts': top_ten_counts})\n",
    "\n",
    "# Write the df to a csv to save results\n",
    "counts_df.to_csv(os.path.join(datadir,'CDL_codes_and_counts.csv'), index=False)\n",
    "\n",
    "print(\"Counts DataFrame:\")\n",
    "counts_df"
   ]
  },
  {
   "cell_type": "markdown",
   "id": "3a9f1910-af46-4f35-84ce-80ac35ed2f41",
   "metadata": {},
   "source": [
    "Above you can see the counts by CDL crop class for the 10 most common classes sorted by total counts"
   ]
  },
  {
   "cell_type": "code",
   "execution_count": null,
   "id": "3a1c110d-ed90-4773-a018-665208de334f",
   "metadata": {},
   "outputs": [],
   "source": [
    "# Load the crop type lookup table\n",
    "lookup = pd.read_csv(os.path.join(datadir,'CDL_codes.csv'))\n",
    "\n",
    "# Join the counts DataFrame with the lookup table\n",
    "result_df = counts_df.merge(lookup, on='Codes', how='left')\n",
    "print(\"Top ten most common crop types and their pixel values:\")\n",
    "print(result_df)"
   ]
  },
  {
   "cell_type": "markdown",
   "id": "eea9886b-0449-438b-a797-57d4df5e1397",
   "metadata": {},
   "source": [
    "Now lets select three crop classes to analyze below.  Let's look at **Winter Wheat**, **Corn**, and **Millet** classes"
   ]
  },
  {
   "cell_type": "code",
   "execution_count": null,
   "id": "53730f54-08cc-4514-8321-5d09c33a263c",
   "metadata": {},
   "outputs": [],
   "source": [
    "from shapely.geometry import Point\n",
    "\n",
    "major_crops = [24,1,29]\n",
    "# Generate 10 random points within each of the three classes\n",
    "points = []\n",
    "for code in major_crops:\n",
    "    # Find the indices of the pixels that belong to the current class\n",
    "    indices = np.column_stack(np.where(cdl.values == code))\n",
    "    for _ in range(10):\n",
    "        # Randomly select an index\n",
    "        rand = indices[np.random.choice(len(indices))]\n",
    "        y, x = cdl.y[rand[0]].values, cdl.x[rand[1]].values\n",
    "        point = Point(x, y)\n",
    "        points.append((point, code))\n",
    "\n",
    "# Create a GeoDataFrame with the sample points\n",
    "gdf_samples = gpd.GeoDataFrame(points, columns=['geometry', 'Codes'], crs=cdl.rio.crs)\n",
    "\n",
    "# Join with the lookup table to get the crop types\n",
    "gdf_samples = gdf_samples.merge(lookup, left_on='Codes', right_on='Codes', how='left')\n",
    "gdf_samples = gdf_samples.to_crs(4326)\n",
    "gdf_samples['Latitude'] = gdf_samples.geometry.y\n",
    "gdf_samples['Longitude'] = gdf_samples.geometry.x\n",
    "print(gdf_samples)"
   ]
  },
  {
   "cell_type": "markdown",
   "id": "cc4587cf-ceb6-45ff-8df3-66493461d169",
   "metadata": {},
   "source": [
    "#### Plot average spectra for the three major crop types\n",
    "\n",
    "Now that we have a random sample from the major crop types in our granule, we can plot the spectra at these points to examine any difference between the crop types.\n",
    "\n",
    "NOTE: need to figure out why the points fall outside the EMIT granule?"
   ]
  },
  {
   "cell_type": "code",
   "execution_count": null,
   "id": "5d431f40-418a-402f-b298-3641c79a46f5",
   "metadata": {},
   "outputs": [],
   "source": [
    "# Plot the EMIT data\n",
    "df_samples = pd.DataFrame(gdf_samples.drop(columns='geometry'))\n",
    "\n",
    "emit_plot = ds_geo.sel(wavelengths=850, method='nearest').hvplot.image(\n",
    "    cmap='greys',\n",
    "    frame_height=600,\n",
    "    frame_width=600,\n",
    "    geo=True,\n",
    "    crs='EPSG:4326'\n",
    ").opts(title=\"Major Crop Type Samples\")\n",
    "\n",
    "# Plot the sample points\n",
    "points_plot = df_samples.hvplot.points(\n",
    "    x='Longitude',\n",
    "    y='Latitude',\n",
    "    by='Codes',\n",
    "    color=hv.Cycle('Dark2'),\n",
    "    geo=True,\n",
    "    crs='EPSG:4326'\n",
    ")\n",
    "\n",
    "# Combine the plots\n",
    "combined_plot = emit_plot * points_plot\n",
    "combined_plot"
   ]
  },
  {
   "cell_type": "code",
   "execution_count": null,
   "id": "64f43d92-3a21-4e80-ad25-b236f95269c8",
   "metadata": {},
   "outputs": [],
   "source": [
    "samples = df_samples.set_index(['Codes'])\n",
    "xp = samples.to_xarray()\n",
    "xp"
   ]
  },
  {
   "cell_type": "code",
   "execution_count": null,
   "id": "91fc5740-0a36-46d8-afa0-8269f9021386",
   "metadata": {},
   "outputs": [],
   "source": [
    "extracted = ds_geo.sel(latitude=xp.Latitude,longitude=xp.Longitude, method='nearest').to_dataframe()\n",
    "extracted"
   ]
  },
  {
   "cell_type": "markdown",
   "id": "59f4b29c-0022-4516-8117-8f1f29ebdb07",
   "metadata": {},
   "source": [
    "NOTE: need to figure out the random points being outside the bounds. Also need to probably create an average for each crop type and plot that. Then this plot won't look so terrible ..."
   ]
  },
  {
   "cell_type": "code",
   "execution_count": null,
   "id": "47523bba-b5aa-4001-a6e9-3be087badcca",
   "metadata": {},
   "outputs": [],
   "source": [
    "extracted.hvplot(\n",
    "    x='wavelengths',y='reflectance', by=['Codes'], \n",
    "    color=hv.Cycle('Dark2'), \n",
    "    frame_height=400, frame_width=600\n",
    ").opts(title='Example Points - Reflectance', xlabel='Wavelengths (nm)',ylabel='Reflectance')"
   ]
  },
  {
   "cell_type": "markdown",
   "id": "b7002c99-a0ff-4faa-8274-eda9b67742f5",
   "metadata": {},
   "source": [
    "### Step 6. Experiment with band ratios or what are called Specrtal Vegetation Indices (SVIs)"
   ]
  },
  {
   "cell_type": "markdown",
   "id": "be3ad8fe-3740-4cae-ad09-cbace96ceb39",
   "metadata": {},
   "source": [
    "To explore the utility of high spectral resolution data for calculating SVIs for Earth Science, we can demonstrate how to caluclate a commonly-used index: The Normalized Difference Vegetation Index (NDVI).  NDVI has been used for over 40 years to study changes on the Earth's surface, specifically related to vegetation, stress, and agriculture. For more information on NDVI, you can explore this article from NASA: [https://earthobservatory.nasa.gov/features/MeasuringVegetation/measuring_vegetation_1.php](https://earthobservatory.nasa.gov/features/MeasuringVegetation/measuring_vegetation_1.php)\n",
    "\n",
    "In addition, here is a recent article describing the use of SVIs in Earth Science <br>\n",
    "[https://www.nature.com/articles/s41597-023-02096-0](https://www.nature.com/articles/s41597-023-02096-0)"
   ]
  },
  {
   "cell_type": "markdown",
   "id": "0ce932db-3e5a-4915-8c13-d3cef1e64862",
   "metadata": {},
   "source": [
    "#### Look at spectra across major crop types\n",
    "\n",
    "DRAFT.\n",
    "\n",
    "Load data from the Cropland Data Layer (CDL) which provides a raster image of different crop types.\n",
    "\n",
    "Clip to our EMIT granule region.\n",
    "\n",
    "Identify the top 10 most common classes.\n",
    "\n",
    "Create a random point sample of the top three most common crops."
   ]
  },
  {
   "cell_type": "markdown",
   "id": "e1235816-46df-4073-bccd-585d57e12846",
   "metadata": {},
   "source": [
    "Calculate the Normalized Difference Vegetation Index (NDVI)"
   ]
  },
  {
   "cell_type": "code",
   "execution_count": null,
   "id": "3a188edf-aa88-4129-b672-5eee458bfc58",
   "metadata": {},
   "outputs": [],
   "source": [
    "# NDVI uses a combination of reflectance in the NIR and Red wavelengths.  For example, 850 and 655 nm\n",
    "# First, let's calculate an NDVI image and take a look at the results\n",
    "refl650 = ds_geo.sel(wavelengths=650, method='nearest')\n",
    "refl850 = ds_geo.sel(wavelengths=850, method='nearest')\n",
    "ndvi = (refl850-refl650)/(refl850+refl650)"
   ]
  },
  {
   "cell_type": "code",
   "execution_count": null,
   "id": "979ecca9-a9e3-44c3-9fc2-cee0555e92d2",
   "metadata": {},
   "outputs": [],
   "source": [
    "ndvi.hvplot.image(cmap='viridis', geo=True, tiles='ESRI', aspect = 'equal', frame_width=720, clim=(0,1)).opts(title=\"NDVI Image\")"
   ]
  },
  {
   "cell_type": "code",
   "execution_count": null,
   "id": "09fa4e1c-ed48-4013-9fa6-ecc2525a5134",
   "metadata": {},
   "outputs": [],
   "source": []
  },
  {
   "cell_type": "code",
   "execution_count": null,
   "id": "425c8c49-21f4-4557-8086-84918f22c56c",
   "metadata": {},
   "outputs": [],
   "source": []
  },
  {
   "cell_type": "code",
   "execution_count": null,
   "id": "871cb5b5-46b7-466e-98ba-889b57cdb856",
   "metadata": {},
   "outputs": [],
   "source": []
  },
  {
   "cell_type": "code",
   "execution_count": null,
   "id": "7c2abc91-7487-48dd-8dbc-f0017d9941b5",
   "metadata": {},
   "outputs": [],
   "source": [
    "### STILL A WIP!!!"
   ]
  },
  {
   "cell_type": "markdown",
   "id": "ab2a856e-db1c-4042-9c12-b7df6adeb2c0",
   "metadata": {},
   "source": [
    "### Boxplots of SVIs across crop types"
   ]
  },
  {
   "cell_type": "markdown",
   "id": "83e3a534-b0f6-4a43-be2f-a3cd8801aaa5",
   "metadata": {},
   "source": [
    "### Boxplots of SVIs for irrigated vs. non-irrigated"
   ]
  },
  {
   "cell_type": "code",
   "execution_count": null,
   "id": "19c09a71-3644-4457-90e4-79946716789f",
   "metadata": {},
   "outputs": [],
   "source": [
    "# Load the irrigated lands raster\n",
    "irrigated = rxr.open_rasterio(os.path.join(datadir,'LANID_Irrigation_CO_SouthPlatte_Republican.tif'))\n",
    "print(irrigated)"
   ]
  },
  {
   "cell_type": "code",
   "execution_count": null,
   "id": "bb68048d-f80a-48b3-a8b3-a78eb7871124",
   "metadata": {},
   "outputs": [],
   "source": [
    "# Create a data stack of CDL, irrigation, and EMIT\n",
    "\n",
    "if not ds_geo.rio.crs:\n",
    "    ds_geo = ds_geo.rio.write_crs(\"EPSG:4326\")  # Set to the appropriate CRS if known\n",
    "\n",
    "# Reproject and match our CDL and irrigation layers\n",
    "cdl_repr = cdl.rio.reproject_match(ds_geo)\n",
    "irrigated_repr = irrigated.rio.reproject_match(ds_geo)\n",
    "\n",
    "ds_geo_da = ds_geo['emit_data'] if 'emit_data' in ds_geo.data_vars else ds_geo.to_array().squeeze()\n",
    "\n",
    "# Stack the data layers\n",
    "ds_stack = xr.Dataset({\n",
    "    'emit': ds_geo_da,\n",
    "    'cdl': cdl_repr,\n",
    "    'irrigation': irrigated_repr\n",
    "})\n",
    "\n",
    "print(ds_stack)"
   ]
  },
  {
   "cell_type": "code",
   "execution_count": null,
   "id": "7e07e68c-77a4-4479-994b-3df3e7ee1d4f",
   "metadata": {},
   "outputs": [],
   "source": [
    "wavelengths = ds_stack['emit'].coords['wavelengths']\n",
    "wavelengths"
   ]
  }
 ],
 "metadata": {
  "kernelspec": {
   "display_name": "hyr-sense",
   "language": "python",
   "name": "hyr-sense"
  },
  "language_info": {
   "codemirror_mode": {
    "name": "ipython",
    "version": 3
   },
   "file_extension": ".py",
   "mimetype": "text/x-python",
   "name": "python",
   "nbconvert_exporter": "python",
   "pygments_lexer": "ipython3",
   "version": "3.10.14"
  }
 },
 "nbformat": 4,
 "nbformat_minor": 5
}
