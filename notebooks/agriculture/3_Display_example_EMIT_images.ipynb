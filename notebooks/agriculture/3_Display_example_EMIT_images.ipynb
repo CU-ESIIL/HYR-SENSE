{
 "cells": [
  {
   "cell_type": "markdown",
   "id": "18752e45-af79-4418-8ba3-e1ebadfdb202",
   "metadata": {},
   "source": [
    "## View example downloaded EMIT agricultural scenes\n",
    "\n",
    "We will use the image granules that you ortho-mosaiced in the previous step **\"2_Orthorectify_images.ipynb\"**"
   ]
  },
  {
   "cell_type": "markdown",
   "id": "c71fe6af-fa67-443e-820b-8247c18cd8c2",
   "metadata": {},
   "source": [
    "### Step 1. Setup notebook\n",
    "\n",
    "Import packages"
   ]
  },
  {
   "cell_type": "code",
   "execution_count": null,
   "id": "33992c2b-754d-46dc-9adb-5bad421211fb",
   "metadata": {},
   "outputs": [],
   "source": [
    "import os, sys, fnmatch\n",
    "import warnings\n",
    "import csv\n",
    "from osgeo import gdal\n",
    "import numpy as np\n",
    "import math\n",
    "import rasterio as rio\n",
    "import xarray as xr\n",
    "import holoviews as hv\n",
    "import hvplot.xarray\n",
    "import netCDF4 as nc\n",
    "\n",
    "# This will ignore some warnings caused by holoviews\n",
    "warnings.simplefilter('ignore') "
   ]
  },
  {
   "cell_type": "markdown",
   "id": "41b1c77a-917a-4bad-b313-99bd8df7a874",
   "metadata": {},
   "source": [
    "### Step 2. Find all downloaded and ortho-rectified agricultural images"
   ]
  },
  {
   "cell_type": "code",
   "execution_count": null,
   "id": "208be5e3-7d56-44e6-8818-aad2eb6c9933",
   "metadata": {},
   "outputs": [],
   "source": [
    "# Define workflow which selects the appropriate image data folder\n",
    "workflow = \"agriculture\"\n",
    "source_file_path = os.path.join(os.path.expanduser(\"~\"),\"HYR-SENSE\",\"data\",\"emit\",workflow)"
   ]
  },
  {
   "cell_type": "code",
   "execution_count": null,
   "id": "4db6cefe-0437-47b3-98e1-d67942d01918",
   "metadata": {},
   "outputs": [],
   "source": [
    "granules = fnmatch.filter(os.listdir(source_file_path), '*ortho.nc')\n",
    "granules"
   ]
  },
  {
   "cell_type": "markdown",
   "id": "79f4ff12-23d6-4ff3-bace-ebc7658c1ccb",
   "metadata": {},
   "source": [
    "### Step 3. Select and load a previously orthorectified EMIT image"
   ]
  },
  {
   "cell_type": "code",
   "execution_count": null,
   "id": "512f1a5c-240a-4953-a8a1-aa896bd7b673",
   "metadata": {},
   "outputs": [],
   "source": [
    "# Pick an image granule to explore\n",
    "#img_file = 'EMIT_L2A_RFL_001_20230729T205642_2321014_020.nc'\n",
    "img_file = 'EMIT_L2A_RFL_001_20230729T205630_2321014_019_ortho.nc'"
   ]
  },
  {
   "cell_type": "code",
   "execution_count": null,
   "id": "7aeaeece-7057-4b70-ac33-7291650abc91",
   "metadata": {},
   "outputs": [],
   "source": [
    "# # Load the selected image to memory\n",
    "img_file_dat = os.path.join(source_file_path,img_file)\n",
    "ds_geo = xr.open_dataset(img_file_dat)\n",
    "ds_geo"
   ]
  },
  {
   "cell_type": "markdown",
   "id": "33b268a8-7ecd-409b-8419-59b843b6e99f",
   "metadata": {},
   "source": [
    "### Step 4. Quickly display the selected ortho-rectified image"
   ]
  },
  {
   "cell_type": "code",
   "execution_count": null,
   "id": "3e16c5b4-e8fd-4d7b-85ef-d9d4c1fc7ede",
   "metadata": {},
   "outputs": [],
   "source": [
    "refl850 = ds_geo.sel(wavelengths=850, method='nearest')\n",
    "ds_geo.sel(wavelengths=850, method='nearest').hvplot.image(cmap='Viridis', geo=True, tiles='ESRI', alpha=0.8, frame_height=600).opts(\n",
    "    title=f\"Reflectance at {refl850.wavelengths.values:.3f} {refl850.wavelengths.units} (Orthorectified)\")"
   ]
  },
  {
   "cell_type": "markdown",
   "id": "29a967b8-41bf-4210-a67b-22ad63b7d68f",
   "metadata": {},
   "source": [
    "We can see that the orthorectification step placed the data on a geogrpahic grid that matches pretty well with ESRI tiles. Now that we have a better idea of what the target area looks like, we can also plot the spectra using the georeferenced data. \n",
    "\n",
    "Similarly, we can review a wavelength in the visible spectrum.  Let's use a wavelength found within the green wavelengths "
   ]
  },
  {
   "cell_type": "code",
   "execution_count": null,
   "id": "42981491-2776-49f7-ae3b-7e053f5e4ed8",
   "metadata": {},
   "outputs": [],
   "source": [
    "refl550 = ds_geo.sel(wavelengths=550, method='nearest')\n",
    "ds_geo.sel(wavelengths=550, method='nearest').hvplot.image(cmap='Viridis', geo=True, tiles='ESRI', alpha=0.8, frame_height=600).opts(\n",
    "    title=f\"Reflectance at {refl550.wavelengths.values:.3f} {refl550.wavelengths.units} (Orthorectified)\")"
   ]
  },
  {
   "cell_type": "code",
   "execution_count": null,
   "id": "8e3fbacb-1c33-4129-b7a9-3ddad01f0703",
   "metadata": {},
   "outputs": [],
   "source": [
    "refl650 = ds_geo.sel(wavelengths=650, method='nearest')\n",
    "ds_geo.sel(wavelengths=650, method='nearest').hvplot.image(cmap='Viridis', geo=True, tiles='ESRI', alpha=0.8, frame_height=600).opts(\n",
    "    title=f\"Reflectance at {refl650.wavelengths.values:.3f} {refl650.wavelengths.units} (Orthorectified)\")"
   ]
  },
  {
   "cell_type": "markdown",
   "id": "cf816177-da0f-4697-9bb8-e90fc8cc4589",
   "metadata": {},
   "source": [
    "We can also display all three bands side-by-side to look a the differences in reflectance at different wavelengths from the visible to the near-infrared"
   ]
  },
  {
   "cell_type": "code",
   "execution_count": null,
   "id": "a247113d-d867-4b91-b9e1-0f8da80a9ed3",
   "metadata": {},
   "outputs": [],
   "source": [
    "refl550.hvplot.image(cmap='viridis', aspect = 'equal', frame_width=500).opts(title=\"Band: 550\") + \\\n",
    "refl650.hvplot.image(cmap='viridis', aspect = 'equal', frame_width=500).opts(title=\"Band: 650\") + \\\n",
    "refl850.hvplot.image(cmap='viridis', aspect = 'equal', frame_width=500).opts(title=\"Band: 850\")"
   ]
  },
  {
   "cell_type": "markdown",
   "id": "5cc342af-b7af-48eb-8abe-7a2f0c4c6bae",
   "metadata": {},
   "source": [
    "### Step 5. Plot example spectra\n",
    "\n",
    "Now let's plot some example spectra found in the image. Before we do this, we should filter out the water absorption bands like we did earlier. By limiting the third dimension of the array to good_wavelengths."
   ]
  },
  {
   "cell_type": "code",
   "execution_count": null,
   "id": "320d9b4b-1169-4bb3-8912-4a2da608df34",
   "metadata": {},
   "outputs": [],
   "source": [
    "ds_geo['reflectance'].data[:,:,ds_geo['good_wavelengths'].data==0] = np.nan"
   ]
  },
  {
   "cell_type": "code",
   "execution_count": null,
   "id": "90ad57e4-5a5a-4ef3-adf6-60fdc7477821",
   "metadata": {},
   "outputs": [],
   "source": [
    "\n",
    "point = ds_geo.sel(longitude=-102.694,latitude=40.347,method='nearest')\n",
    "point.hvplot.line(y='reflectance',x='wavelengths', color='black', frame_height=400, frame_width=600).opts(\n",
    "    title = f'Latitude = {point.latitude.values.round(3)}, Longitude = {point.longitude.values.round(3)}')"
   ]
  },
  {
   "cell_type": "markdown",
   "id": "b7002c99-a0ff-4faa-8274-eda9b67742f5",
   "metadata": {},
   "source": [
    "### Step 6. Experiment with band ratios or what are called Specrtal Vegetation Indices (SVIs)"
   ]
  },
  {
   "cell_type": "markdown",
   "id": "be3ad8fe-3740-4cae-ad09-cbace96ceb39",
   "metadata": {},
   "source": [
    "To explore the utility of high spectral resolution data for calculating SVIs for Earth Science, we can demonstrate how to caluclate a commonly-used index: The Normalized Difference Vegetation Index (NDVI).  NDVI has been used for over 40 years to study changes on the Earth's surface, specifically related to vegetation, stress, and agriculture. For more information on NDVI, you can explore this article from NASA: [https://earthobservatory.nasa.gov/features/MeasuringVegetation/measuring_vegetation_1.php](https://earthobservatory.nasa.gov/features/MeasuringVegetation/measuring_vegetation_1.php)\n",
    "\n",
    "In addition, here is a recent article describing the use of SVIs in Earth Science <br>\n",
    "[https://www.nature.com/articles/s41597-023-02096-0](https://www.nature.com/articles/s41597-023-02096-0)"
   ]
  },
  {
   "cell_type": "markdown",
   "id": "e1235816-46df-4073-bccd-585d57e12846",
   "metadata": {},
   "source": [
    "Calculate the Normalized Difference Vegetation Index (NDVI)"
   ]
  },
  {
   "cell_type": "code",
   "execution_count": null,
   "id": "3a188edf-aa88-4129-b672-5eee458bfc58",
   "metadata": {},
   "outputs": [],
   "source": [
    "# NDVI uses a combination of reflectance in the NIR and Red wavelengths.  For example, 850 and 655 nm\n",
    "# First, let's calculate an NDVI image and take a look at the results\n",
    "refl650 = ds.sel(wavelengths=650, method='nearest')\n",
    "refl850 = ds.sel(wavelengths=850, method='nearest')\n",
    "ndvi = (refl850-refl650)/(refl850+refl650)"
   ]
  },
  {
   "cell_type": "code",
   "execution_count": null,
   "id": "979ecca9-a9e3-44c3-9fc2-cee0555e92d2",
   "metadata": {},
   "outputs": [],
   "source": [
    "ndvi.hvplot.image(cmap='viridis', geo=True, tiles='ESRI', aspect = 'equal', frame_width=720, clim=(0,1)).opts(title=\"NDVI Image\")"
   ]
  },
  {
   "cell_type": "code",
   "execution_count": null,
   "id": "09fa4e1c-ed48-4013-9fa6-ecc2525a5134",
   "metadata": {},
   "outputs": [],
   "source": []
  },
  {
   "cell_type": "code",
   "execution_count": null,
   "id": "425c8c49-21f4-4557-8086-84918f22c56c",
   "metadata": {},
   "outputs": [],
   "source": []
  },
  {
   "cell_type": "code",
   "execution_count": null,
   "id": "871cb5b5-46b7-466e-98ba-889b57cdb856",
   "metadata": {},
   "outputs": [],
   "source": []
  },
  {
   "cell_type": "code",
   "execution_count": null,
   "id": "7c2abc91-7487-48dd-8dbc-f0017d9941b5",
   "metadata": {},
   "outputs": [],
   "source": [
    "### STILL A WIP!!!"
   ]
  },
  {
   "cell_type": "code",
   "execution_count": null,
   "id": "cf073a51-18bc-4d13-a4ff-79ea04818dd5",
   "metadata": {},
   "outputs": [],
   "source": []
  },
  {
   "cell_type": "code",
   "execution_count": null,
   "id": "30db441a-ea7a-4bb5-8e3f-03a4bd982541",
   "metadata": {},
   "outputs": [],
   "source": []
  },
  {
   "cell_type": "code",
   "execution_count": null,
   "id": "19c09a71-3644-4457-90e4-79946716789f",
   "metadata": {},
   "outputs": [],
   "source": []
  },
  {
   "cell_type": "code",
   "execution_count": null,
   "id": "bb68048d-f80a-48b3-a8b3-a78eb7871124",
   "metadata": {},
   "outputs": [],
   "source": []
  }
 ],
 "metadata": {
  "kernelspec": {
   "display_name": "hyr-sense",
   "language": "python",
   "name": "hyr-sense"
  },
  "language_info": {
   "codemirror_mode": {
    "name": "ipython",
    "version": 3
   },
   "file_extension": ".py",
   "mimetype": "text/x-python",
   "name": "python",
   "nbconvert_exporter": "python",
   "pygments_lexer": "ipython3",
   "version": "3.10.14"
  }
 },
 "nbformat": 4,
 "nbformat_minor": 5
}
