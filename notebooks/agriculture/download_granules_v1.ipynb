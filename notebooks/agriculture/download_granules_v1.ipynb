{
 "cells": [
  {
   "cell_type": "code",
   "execution_count": 1,
   "id": "d04948a1-01cf-4263-8bc7-a3e06f51a231",
   "metadata": {},
   "outputs": [],
   "source": [
    "# Based on an EarthData search for clear ag scenes near boulder\n",
    "\n",
    "## NE\n",
    "# april\n",
    "# https://data.lpdaac.earthdatacloud.nasa.gov/lp-prod-protected/EMITL2ARFL.001/EMIT_L2A_RFL_001_20240412T210505_2410314_026/EMIT_L2A_RFL_001_20240412T210505_2410314_026.nc\n",
    "# August\n",
    "# https://data.lpdaac.earthdatacloud.nasa.gov/lp-prod-protected/EMITL2ARFL.001/EMIT_L2A_RFL_001_20230822T175130_2323412_008/EMIT_L2A_RFL_001_20230822T175130_2323412_008.nc\n",
    "\n",
    "## NE, KS\n",
    "#https://data.lpdaac.earthdatacloud.nasa.gov/lp-prod-protected/EMITL2ARFL.001/EMIT_L2A_RFL_001_20240404T174917_2409512_019/EMIT_L2A_RFL_001_20240404T174917_2409512_019.nc"
   ]
  },
  {
   "cell_type": "code",
   "execution_count": 2,
   "id": "129a9e67-abb8-4b4b-823f-beb3a3d7580f",
   "metadata": {},
   "outputs": [],
   "source": [
    "import os\n",
    "import earthaccess"
   ]
  },
  {
   "cell_type": "code",
   "execution_count": 3,
   "id": "e57d1067-8502-432c-bd9b-cd5ec28e60c6",
   "metadata": {},
   "outputs": [
    {
     "name": "stdin",
     "output_type": "stream",
     "text": [
      "Enter your Earthdata Login username:  SerbinFav\n",
      "Enter your Earthdata password:  ········\n"
     ]
    },
    {
     "name": "stdout",
     "output_type": "stream",
     "text": [
      "Persisting credentials to .netrc\n"
     ]
    },
    {
     "data": {
      "text/plain": [
       "<earthaccess.auth.Auth at 0x7fca51c6d1b0>"
      ]
     },
     "execution_count": 3,
     "metadata": {},
     "output_type": "execute_result"
    }
   ],
   "source": [
    "earthaccess.login(persist=True)"
   ]
  },
  {
   "cell_type": "code",
   "execution_count": 8,
   "id": "f9465faa-821d-42e3-96d7-5d454b96d198",
   "metadata": {},
   "outputs": [],
   "source": [
    "url = 'https://data.lpdaac.earthdatacloud.nasa.gov/lp-prod-protected/EMITL2ARFL.001/EMIT_L2A_RFL_001_20240412T210505_2410314_026/EMIT_L2A_RFL_001_20240412T210505_2410314_026.nc'\n",
    "url = 'https://data.lpdaac.earthdatacloud.nasa.gov/lp-prod-protected/EMITL2ARFL.001/EMIT_L2A_RFL_001_20230822T175130_2323412_008/EMIT_L2A_RFL_001_20230822T175130_2323412_008.nc'"
   ]
  },
  {
   "cell_type": "code",
   "execution_count": 9,
   "id": "a0d47d05-8961-4f27-96a2-e897bce578be",
   "metadata": {},
   "outputs": [],
   "source": [
    "# Get Https Session using Earthdata Login Info\n",
    "fs = earthaccess.get_fsspec_https_session()\n",
    "# Retrieve granule asset ID from URL (to maintain existing naming convention)\n",
    "granule_asset_id = url.split('/')[-1]\n",
    "# Define Local Filepath\n",
    "fp = f'../../data/emit/{granule_asset_id}'\n",
    "# Download the Granule Asset if it doesn't exist\n",
    "if not os.path.isfile(fp):\n",
    "    fs.download(url, fp)"
   ]
  },
  {
   "cell_type": "code",
   "execution_count": 6,
   "id": "291528f8-d6b5-46aa-bf97-1f2d033f6ad4",
   "metadata": {},
   "outputs": [],
   "source": [
    "#outpath = '../../data/emit/ag/envi' \n",
    "#if not os.path.exists(outpath):\n",
    "#    os.makedirs(outpath)"
   ]
  },
  {
   "cell_type": "code",
   "execution_count": null,
   "id": "7be633e1-92b8-4606-b682-7f8403b04d87",
   "metadata": {},
   "outputs": [],
   "source": []
  }
 ],
 "metadata": {
  "kernelspec": {
   "display_name": "hyr-sense",
   "language": "python",
   "name": "hyr-sense"
  },
  "language_info": {
   "codemirror_mode": {
    "name": "ipython",
    "version": 3
   },
   "file_extension": ".py",
   "mimetype": "text/x-python",
   "name": "python",
   "nbconvert_exporter": "python",
   "pygments_lexer": "ipython3",
   "version": "3.10.13"
  }
 },
 "nbformat": 4,
 "nbformat_minor": 5
}
