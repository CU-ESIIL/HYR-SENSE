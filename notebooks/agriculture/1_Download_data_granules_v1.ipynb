{
 "cells": [
  {
   "cell_type": "markdown",
   "id": "5f8cad89-18a9-4792-a1bb-b2080d42ceff",
   "metadata": {},
   "source": [
    "## Download example agricultural scenes"
   ]
  },
  {
   "cell_type": "markdown",
   "id": "62cc85dc-31f1-4dd7-81ec-9cd5ba906960",
   "metadata": {},
   "source": [
    "### Step 1. Setup notebook\n",
    "\n",
    "Import packages"
   ]
  },
  {
   "cell_type": "code",
   "execution_count": 1,
   "id": "129a9e67-abb8-4b4b-823f-beb3a3d7580f",
   "metadata": {},
   "outputs": [],
   "source": [
    "import os\n",
    "import earthaccess\n",
    "import time "
   ]
  },
  {
   "cell_type": "markdown",
   "id": "2be98bdf-b032-42f6-adaa-9aa1441e7255",
   "metadata": {},
   "source": [
    "### Step 2. Authenticate using Earthdata Login and Download the required Granules\n",
    "\n",
    "Login to your NASA Earthdata account and create a `.netrc` file using the `login` function from the `earthaccess` library. If you do not have an Earthdata Account, you can create one [here](https://urs.earthdata.nasa.gov/home). "
   ]
  },
  {
   "cell_type": "code",
   "execution_count": 2,
   "id": "e57d1067-8502-432c-bd9b-cd5ec28e60c6",
   "metadata": {},
   "outputs": [
    {
     "data": {
      "text/plain": [
       "<earthaccess.auth.Auth at 0x7fcf6c38e0b0>"
      ]
     },
     "execution_count": 2,
     "metadata": {},
     "output_type": "execute_result"
    }
   ],
   "source": [
    "earthaccess.login(persist=True)"
   ]
  },
  {
   "cell_type": "markdown",
   "id": "67535736-4b6a-4329-b8c4-58dc7f8ea1cf",
   "metadata": {},
   "source": [
    "#### Note\n",
    "For this notebook we will download the files necessary using earthaccess. You can also access the data in place or stream it, but this can slow due to the file sizes. Provide a URL for an EMIT L2A Reflectance granule."
   ]
  },
  {
   "cell_type": "markdown",
   "id": "8ccb2420-8699-4701-86a3-7b4306323836",
   "metadata": {},
   "source": [
    "### Step 3. Define granule IDs"
   ]
  },
  {
   "cell_type": "code",
   "execution_count": 3,
   "id": "7385efaf-6a60-4c3e-a217-dc1f9c668db4",
   "metadata": {},
   "outputs": [
    {
     "name": "stdout",
     "output_type": "stream",
     "text": [
      "['EMIT_L2A_RFL_001_20230729T205630_2321014_019/EMIT_L2A_RFL_001_20230729T205630_2321014_019.nc', 'EMIT_L2A_RFL_001_20230729T205642_2321014_020/EMIT_L2A_RFL_001_20230729T205642_2321014_020.nc', 'EMIT_L2A_RFL_001_20230822T175130_2323412_008/EMIT_L2A_RFL_001_20230822T175130_2323412_008.nc']\n"
     ]
    }
   ],
   "source": [
    "granules = ['EMIT_L2A_RFL_001_20230729T205630_2321014_019/EMIT_L2A_RFL_001_20230729T205630_2321014_019.nc',\n",
    "            'EMIT_L2A_RFL_001_20230729T205642_2321014_020/EMIT_L2A_RFL_001_20230729T205642_2321014_020.nc',\n",
    "            'EMIT_L2A_RFL_001_20230822T175130_2323412_008/EMIT_L2A_RFL_001_20230822T175130_2323412_008.nc']\n",
    "print(granules)"
   ]
  },
  {
   "cell_type": "markdown",
   "id": "588b39b3-400b-46a5-9cbd-cb71911966f7",
   "metadata": {},
   "source": [
    "### Step 4. Download granules from the EarthData cloud and store locally"
   ]
  },
  {
   "cell_type": "code",
   "execution_count": 4,
   "id": "873313dc-d84f-4106-968f-e3e6e11d5447",
   "metadata": {},
   "outputs": [],
   "source": [
    "# Get Https Session using Earthdata Login Info\n",
    "fs = earthaccess.get_fsspec_https_session()\n",
    "\n",
    "# Base download URL\n",
    "base_url = 'https://data.lpdaac.earthdatacloud.nasa.gov/lp-prod-protected/EMITL2ARFL.001'"
   ]
  },
  {
   "cell_type": "code",
   "execution_count": 5,
   "id": "750ffb14-e962-4d88-ad84-9085c3c314ef",
   "metadata": {},
   "outputs": [],
   "source": [
    "# Define workflow which selects the appropriate image data folder\n",
    "workflow = \"agriculture\"\n",
    "# set local location to save downloaded EMIT .nc files - default is HYR-SENSE/data/emit/agriculture\n",
    "loc_file_path = os.path.join(os.path.expanduser(\"~\"),\"HYR-SENSE\",\"data\",\"emit\",workflow)"
   ]
  },
  {
   "cell_type": "code",
   "execution_count": 6,
   "id": "6a0c7346-833d-446d-8b2f-c657e2613bcb",
   "metadata": {},
   "outputs": [
    {
     "name": "stdout",
     "output_type": "stream",
     "text": [
      "Granule ID: EMIT_L2A_RFL_001_20230729T205630_2321014_019.nc\n",
      "Granule ID: EMIT_L2A_RFL_001_20230729T205642_2321014_020.nc\n",
      "Granule ID: EMIT_L2A_RFL_001_20230822T175130_2323412_008.nc\n",
      "Total time: 144.0727150440216\n"
     ]
    }
   ],
   "source": [
    "# Download the data granules\n",
    "t0 = time.time()\n",
    "for i in range(len(granules)):\n",
    "    print(\"Granule ID: \" + granules[i].split('/')[1])\n",
    "    granule_asset_id = granules[i].split('/')[1]\n",
    "    #out_path = loc_file_path + f'{granule_asset_id}'\n",
    "    out_path = os.path.join(loc_file_path, f'{granule_asset_id}')\n",
    "    # Download the Granule Asset if it doesn't exist\n",
    "    url = os.path.join(base_url,granules[i])\n",
    "    if not os.path.isfile(out_path):\n",
    "        fs.download(url, out_path)\n",
    "print('Total time:', time.time() - t0)"
   ]
  },
  {
   "cell_type": "markdown",
   "id": "38a8fe14-f942-4db4-817e-6f98b540e6f8",
   "metadata": {},
   "source": [
    "### Step 5. Download of data granules complete - show downloaded files"
   ]
  },
  {
   "cell_type": "code",
   "execution_count": 7,
   "id": "fdebbaa1-01ab-4bbb-9121-e0359eafa286",
   "metadata": {},
   "outputs": [
    {
     "data": {
      "text/plain": [
       "['EMIT_L2A_RFL_001_20230729T205630_2321014_019.nc',\n",
       " 'EMIT_L2A_RFL_001_20230729T205642_2321014_020.nc',\n",
       " 'EMIT_L2A_RFL_001_20230822T175130_2323412_008.nc']"
      ]
     },
     "execution_count": 7,
     "metadata": {},
     "output_type": "execute_result"
    }
   ],
   "source": [
    "# List downloaded files in directory\n",
    "os.listdir(loc_file_path)"
   ]
  }
 ],
 "metadata": {
  "kernelspec": {
   "display_name": "hyr-sense",
   "language": "python",
   "name": "hyr-sense"
  },
  "language_info": {
   "codemirror_mode": {
    "name": "ipython",
    "version": 3
   },
   "file_extension": ".py",
   "mimetype": "text/x-python",
   "name": "python",
   "nbconvert_exporter": "python",
   "pygments_lexer": "ipython3",
   "version": "3.10.14"
  }
 },
 "nbformat": 4,
 "nbformat_minor": 5
}
