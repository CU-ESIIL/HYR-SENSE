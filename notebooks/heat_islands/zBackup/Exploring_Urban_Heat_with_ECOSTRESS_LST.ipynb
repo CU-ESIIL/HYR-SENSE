{
 "cells": [
  {
   "cell_type": "markdown",
   "id": "c026cee8-01e5-451b-99ac-f9afc35786d6",
   "metadata": {},
   "source": [
    "## Application of ECOSTRESS Data: Exploring the imapcts of Urban Heat Islands\n",
    "\n",
    "ADD NOTES HERE"
   ]
  },
  {
   "cell_type": "markdown",
   "id": "4e6c833b-f3de-4c93-b328-c7527605e21b",
   "metadata": {},
   "source": [
    "### Step 1. Setup notebook\n",
    "\n",
    "First, we need to import packages and set up some environment variables for the notebook."
   ]
  },
  {
   "cell_type": "code",
   "execution_count": null,
   "id": "8ebd6689-9780-4770-a02d-bbd7e93d0fc1",
   "metadata": {},
   "outputs": [],
   "source": [
    "# Import Packages\n",
    "import os, time, shutil\n",
    "import warnings\n",
    "\n",
    "import cartopy.crs as ccrs\n",
    "import rioxarray as rxr\n",
    "import hvplot.xarray\n",
    "import hvplot.pandas\n",
    "import holoviews as hv\n",
    "import geoviews as gv\n",
    "import geopandas as gpd\n",
    "\n",
    "# Some cells may generate warnings that we can ignore. Comment below lines to see.\n",
    "warnings.filterwarnings('ignore')\n",
    "\n",
    "# Set some default plotting options.\n",
    "size_opts = dict(frame_width=800, frame_height=600, fontscale=1.5)\n",
    "map_opts = dict(\n",
    "    geo=True, tiles='EsriImagery',\n",
    "    rot=90,\n",
    "    xlabel='Longitude', ylabel='Latitude')"
   ]
  },
  {
   "cell_type": "markdown",
   "id": "9db6c2fd-f438-4a98-9d5c-8bb9f52e2d3d",
   "metadata": {},
   "source": [
    "#### Transfer project data from the cloud\n",
    "\n",
    "We want to copy over data stored in CyVerse so that we can access files quickly for analysis. To do this, we will use Python \"shutil\" package to copy files from the CyVerse data store to a local, temporary location in the HYR-SENSE GitHub repository. The data we are copying is stored in a shared ESIIL / HYR-SENSE location. We can copy the files just from the \"Agriculture\" module which contains data for this exercise. However, if you want to work with other modules, they can be accessed here as well."
   ]
  },
  {
   "cell_type": "code",
   "execution_count": null,
   "id": "8832e78d-de8c-4f2a-a170-acffc20273e1",
   "metadata": {},
   "outputs": [],
   "source": [
    "### Setup notebook data and copy to scratch/working folder\n",
    "# Identify the location of the HYR-SENSE \"data store\"\n",
    "data_store_path = '/data-store/iplant/home/shared/esiil/HYR_SENSE/data/01-Urban-Heat-Island'\n",
    "# Set a destination path (this is a 'local' and temporary path)\n",
    "dest = os.path.join(os.path.expanduser(\"~\"),\"HYR-SENSE\",\"data\",\"Urban_heat\")\n",
    "if not os.path.exists(dest):\n",
    "    os.mkdir(dest) # create the directory for the copied data, if needed\n",
    "    \n",
    "# Using 'shutil' package, copy all the files over\n",
    "shutil.copytree(data_store_path, dest, dirs_exist_ok=True)\n",
    "\n",
    "print(\" \")\n",
    "print(\" \")\n",
    "print(\"*** Copy complete! ***\")\n",
    "print(\" \")"
   ]
  },
  {
   "cell_type": "markdown",
   "id": "338d90b2-0924-4bf3-83b0-97c8f2cff88e",
   "metadata": {},
   "source": [
    "### Step 2. Load Data\n",
    "\n",
    "ADD NOTES HERE"
   ]
  },
  {
   "cell_type": "code",
   "execution_count": null,
   "id": "9a69f20d",
   "metadata": {},
   "outputs": [],
   "source": [
    "### Import the City of Boulder boundary GIS layer\n",
    "\n",
    "# Define a path to the boundary\n",
    "boulder_path = os.path.join(os.path.expanduser(\"~\"),\"HYR-SENSE\",\n",
    "    # GIS directory\n",
    "    'data', 'Urban_heat',\n",
    "    # City of Boulder file\n",
    "    'City_of_Boulder_City_Limits.zip'\n",
    ")\n",
    "\n",
    "# Read file and merge geometries\n",
    "boulder_gdf = gpd.read_file(boulder_path).dissolve()\n",
    "\n",
    "# Check that we have a GeoDataFrame\n",
    "boulder_gdf"
   ]
  },
  {
   "cell_type": "code",
   "execution_count": null,
   "id": "e2c4a81d-31b2-44aa-8c13-0abccec55ae7",
   "metadata": {},
   "outputs": [],
   "source": [
    "### Load the tree inventory data\n",
    "# Define a path to the open tree data\n",
    "tree_path = os.path.join(os.path.expanduser(\"~\"),\"HYR-SENSE\",\n",
    "    # GIS directory\n",
    "    'data', 'Urban_heat',\n",
    "    # City of Boulder file\n",
    "    'Tree_Inventory_Open_Data.zip'\n",
    ")\n",
    "# Read file and merge geometries\n",
    "tree_gdf = gpd.read_file(tree_path).dissolve()\n",
    "\n",
    "# Check that we have a GeoDataFrame\n",
    "tree_gdf"
   ]
  },
  {
   "cell_type": "code",
   "execution_count": null,
   "id": "cad92e84-412e-4f77-becd-0711d369b870",
   "metadata": {},
   "outputs": [],
   "source": [
    "### Load the example ECOSTRESS layer covering Boulder, CO\n",
    "\n",
    "# Define the filename to use:  ECOSTRESS L2T LSTE\n",
    "eco_file = 'ECOv002_L2T_LSTE_28527_009_13TDE_20230718T081442_0710_01_LST.tif'\n",
    "# Define ECOSTRESS file path\n",
    "data_dir = os.path.join(os.path.expanduser(\"~\"),\"HYR-SENSE\",\"data\",\"Urban_heat\")\n",
    "\n",
    "# Open the LSTE file using open_rasterio from the rioxarray library\n",
    "eco_path = os.path.join(data_dir,eco_file)\n",
    "eco_lst_ds = (\n",
    "    rxr.open_rasterio(eco_path)\n",
    "    # There is only 1 band, so we can squeeze and remove the band dimension.\n",
    "    .squeeze('band', drop=True)\n",
    ")\n",
    "eco_lst_ds"
   ]
  },
  {
   "cell_type": "markdown",
   "id": "9b074cd3-e830-454e-b3c8-ae0df12efcf2",
   "metadata": {},
   "source": [
    "### Step 3. Prepare the ECOSTRESS data for analysis\n",
    "\n",
    "ADD NOTES HERE"
   ]
  },
  {
   "cell_type": "markdown",
   "id": "42777edc-eb59-4da3-8181-29be421b51eb",
   "metadata": {},
   "source": [
    "Let's start by looking at the GIS layer we loaded that delineates the city limits of Boulder, CO"
   ]
  },
  {
   "cell_type": "code",
   "execution_count": null,
   "id": "0b647721",
   "metadata": {},
   "outputs": [],
   "source": [
    "### Plot the GIS boundary for Boulder, Colorado\n",
    "(\n",
    "    boulder_gdf.hvplot(\n",
    "        **map_opts,\n",
    "        line_color='orange', line_width=3,\n",
    "        fill_color='white', fill_alpha=.05,\n",
    "    )\n",
    "    *\n",
    "    gpd.GeoDataFrame(geometry=boulder_gdf.envelope).hvplot(\n",
    "        **map_opts,\n",
    "        line_color='skyblue', fill_color=None\n",
    "    )\n",
    ").opts(**size_opts)"
   ]
  },
  {
   "cell_type": "code",
   "execution_count": null,
   "id": "4329b369-ef1c-4f7d-82b6-9d2316f148e3",
   "metadata": {},
   "outputs": [],
   "source": [
    "### Plot the tree locations\n",
    "trees_plot = tree_gdf.hvplot.points(\n",
    "    **map_opts,\n",
    "    size=15\n",
    ").opts(**size_opts)\n",
    "trees_plot"
   ]
  },
  {
   "cell_type": "markdown",
   "id": "789fe8ff-e9aa-48b2-a9ab-2648b9be4984",
   "metadata": {},
   "source": [
    "Now let's load the ECOSTRESS image to show what data we will be working with in this notebook"
   ]
  },
  {
   "cell_type": "code",
   "execution_count": null,
   "id": "c19b4789-b169-471d-8ae2-347c809f63f4",
   "metadata": {},
   "outputs": [],
   "source": [
    "### Load the ECOSTRESS data\n",
    "(\n",
    "    eco_lst_ds\n",
    "    .rio.reproject('EPSG:4326')\n",
    "    .hvplot.image(\n",
    "        x='x', y='y', **size_opts, \n",
    "        cmap='inferno', tiles='ESRI', \n",
    "        xlabel='Longitude', ylabel='Latitude', \n",
    "        title='ECOSTRESS LST (K)', \n",
    "        crs='EPSG:4326')\n",
    ")\n"
   ]
  },
  {
   "cell_type": "markdown",
   "id": "7a8a906e-2501-402b-996b-6670fd1d1e74",
   "metadata": {},
   "source": [
    "Above you can see a strong temperature gradients fro west to east moving from higher altitude to lower altitudes around the Boulder, CO area.  You will also see the data is presented in degrees Kelvin.  We can easily change degrees Kelvin to Degrees Celsius, which we will work with in the next steps "
   ]
  },
  {
   "cell_type": "code",
   "execution_count": null,
   "id": "ee289adb-b262-4f9a-9235-4006f5f14b8f",
   "metadata": {},
   "outputs": [],
   "source": [
    "### Convert degrees Kelvin to degrees Celsius\n",
    "eco_lst_ds_degC = eco_lst_ds\n",
    "eco_lst_ds_degC.values = eco_lst_ds_degC.values-273.15\n",
    "eco_lst_ds_degC"
   ]
  },
  {
   "cell_type": "code",
   "execution_count": null,
   "id": "b1e263d1-a838-4418-8d23-53c56dd24e53",
   "metadata": {},
   "outputs": [],
   "source": [
    "### Confirm we have data in degrees C\n",
    "(\n",
    "    eco_lst_ds_degC\n",
    "    .rio.reproject('EPSG:4326')\n",
    "    .hvplot.image(\n",
    "        x='x', y='y', **size_opts, \n",
    "        cmap='inferno', tiles='ESRI', \n",
    "        xlabel='Longitude', ylabel='Latitude', \n",
    "        title='ECOSTRESS LST (degC)', \n",
    "        crs='EPSG:4326')\n",
    ")"
   ]
  },
  {
   "cell_type": "markdown",
   "id": "d3b6d1ab-1759-4429-9196-b8372b13dab5",
   "metadata": {},
   "source": [
    "Let's also overlay the GIS boundary on the ECOSTRESS data to ensure we have data that includes Boulder, CO"
   ]
  },
  {
   "cell_type": "code",
   "execution_count": null,
   "id": "76300d02-bb9b-4a58-83ef-b8fc44fef20b",
   "metadata": {},
   "outputs": [],
   "source": [
    "### Load the ECOSTRESS data and overlay the GIS boundary\n",
    "eco_plot = (\n",
    "    eco_lst_ds_degC\n",
    "    .rio.reproject('EPSG:4326')\n",
    "    .hvplot.image(\n",
    "        x='x', y='y', **size_opts, \n",
    "        cmap='inferno', tiles='ESRI', \n",
    "        xlabel='Longitude', ylabel='Latitude', \n",
    "        title='ECOSTRESS LST (degC)', \n",
    "        crs='EPSG:4326')\n",
    ")\n",
    "gis_boundary_plot = (\n",
    "    boulder_gdf.hvplot(\n",
    "        **map_opts,\n",
    "        line_color='black', line_width=5,\n",
    "        fill_color='white', fill_alpha=.05,\n",
    "    )\n",
    "    *\n",
    "    gpd.GeoDataFrame(geometry=boulder_gdf.envelope).hvplot(\n",
    "        **map_opts,\n",
    "        line_color='skyblue', fill_color=None\n",
    "    )\n",
    ").opts(**size_opts)\n",
    "combined_plot = eco_plot * gis_boundary_plot\n",
    "combined_plot"
   ]
  },
  {
   "cell_type": "markdown",
   "id": "ba112c80-f3b5-4056-9361-9763c947fe26",
   "metadata": {},
   "source": [
    "We can also plot the data with the Boulder Open Tree data"
   ]
  },
  {
   "cell_type": "code",
   "execution_count": null,
   "id": "f5a7f8b9-f9af-458a-86c6-47c245927847",
   "metadata": {},
   "outputs": [],
   "source": [
    "### Plot again with the tree locations\n",
    "eco_plot = (\n",
    "    eco_lst_ds_degC\n",
    "    .rio.reproject('EPSG:4326')\n",
    "    .hvplot.image(\n",
    "        x='x', y='y', **size_opts, \n",
    "        cmap='inferno', tiles='ESRI', \n",
    "        xlabel='Longitude', ylabel='Latitude', \n",
    "        title='ECOSTRESS LST (degC)', \n",
    "        crs='EPSG:4326')\n",
    ")\n",
    "gis_boundary_plot = (\n",
    "    boulder_gdf.hvplot(\n",
    "        **map_opts,\n",
    "        line_color='black', line_width=5,\n",
    "        fill_color='white', fill_alpha=.05,\n",
    "    )\n",
    "    *\n",
    "    gpd.GeoDataFrame(geometry=boulder_gdf.envelope).hvplot(\n",
    "        **map_opts,\n",
    "        line_color='skyblue', fill_color=None\n",
    "    )\n",
    ").opts(**size_opts)\n",
    "trees_plot = tree_gdf.hvplot.points(\n",
    "    **map_opts,\n",
    "    size=15\n",
    ").opts(**size_opts)\n",
    "combined_plot = eco_plot * gis_boundary_plot * trees_plot\n",
    "combined_plot"
   ]
  },
  {
   "cell_type": "markdown",
   "id": "ed8f4bf8-83a7-43d9-81a7-a32895d85b5f",
   "metadata": {},
   "source": [
    "### Step 4. Analyze the ECOSTRESS data"
   ]
  },
  {
   "cell_type": "code",
   "execution_count": null,
   "id": "ab0d5b26-6460-46e9-ae53-a08f7fde9110",
   "metadata": {},
   "outputs": [],
   "source": [
    "#https://py.geocompx.org/05-raster-vector"
   ]
  },
  {
   "cell_type": "code",
   "execution_count": null,
   "id": "88ffd9a3-0c23-4070-9951-62f717f9fc55",
   "metadata": {},
   "outputs": [],
   "source": []
  },
  {
   "cell_type": "code",
   "execution_count": null,
   "id": "2c593675-6e1c-4653-9bd5-050a1a46f3d6",
   "metadata": {},
   "outputs": [],
   "source": []
  }
 ],
 "metadata": {
  "kernelspec": {
   "display_name": "hyr-sense",
   "language": "python",
   "name": "hyr-sense"
  },
  "language_info": {
   "codemirror_mode": {
    "name": "ipython",
    "version": 3
   },
   "file_extension": ".py",
   "mimetype": "text/x-python",
   "name": "python",
   "nbconvert_exporter": "python",
   "pygments_lexer": "ipython3",
   "version": "3.10.14"
  }
 },
 "nbformat": 4,
 "nbformat_minor": 5
}
