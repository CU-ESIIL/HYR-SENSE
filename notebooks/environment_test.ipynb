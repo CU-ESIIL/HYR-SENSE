{
 "cells": [
  {
   "cell_type": "markdown",
   "id": "58fa2cc7-0a90-45ed-8c5e-a905d9a7858a",
   "metadata": {},
   "source": [
    "# Test the hyr-sense environment"
   ]
  },
  {
   "cell_type": "markdown",
   "id": "676db9b3-1661-41e0-875a-fef6f8e0fc65",
   "metadata": {},
   "source": [
    "## Make sure all the necessary libraries can load"
   ]
  },
  {
   "cell_type": "code",
   "execution_count": 2,
   "id": "92e691a0-4952-4a0b-993e-7bbdc80dc9b6",
   "metadata": {},
   "outputs": [],
   "source": [
    "import earthaccess\n",
    "import rioxarray as rxr"
   ]
  },
  {
   "cell_type": "markdown",
   "id": "2023a86c-c89f-413b-b2ee-771c56d47bd5",
   "metadata": {},
   "source": [
    "## Test access to the data library"
   ]
  },
  {
   "cell_type": "code",
   "execution_count": null,
   "id": "ebc269c4-e435-4c9c-b4f2-fa7ee5d1c1e4",
   "metadata": {},
   "outputs": [],
   "source": []
  }
 ],
 "metadata": {
  "kernelspec": {
   "display_name": "hyr-sense",
   "language": "python",
   "name": "hyr-sense"
  },
  "language_info": {
   "codemirror_mode": {
    "name": "ipython",
    "version": 3
   },
   "file_extension": ".py",
   "mimetype": "text/x-python",
   "name": "python",
   "nbconvert_exporter": "python",
   "pygments_lexer": "ipython3",
   "version": "3.10.13"
  }
 },
 "nbformat": 4,
 "nbformat_minor": 5
}
