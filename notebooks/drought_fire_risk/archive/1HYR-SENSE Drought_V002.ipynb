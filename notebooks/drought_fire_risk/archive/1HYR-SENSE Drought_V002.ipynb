{
 "cells": [
  {
   "cell_type": "code",
   "execution_count": null,
   "id": "5f9094ee-18c4-4286-8d22-5ce6dddb0f58",
   "metadata": {},
   "outputs": [],
   "source": [
    "import warnings\n",
    "warnings.filterwarnings('ignore')\n",
    "\n",
    "import os\n",
    "from os.path import join, expanduser, splitext, basename\n",
    "import numpy as np\n",
    "import pandas as pd\n",
    "import geopandas as gpd\n",
    "from osgeo import gdal\n",
    "import rasterio as rio\n",
    "import rioxarray as rxr\n",
    "import holoviews as hv\n",
    "import hvplot.xarray\n",
    "import hvplot.pandas\n",
    "import geoviews as gv\n",
    "import seaborn as sns\n",
    "import matplotlib.pyplot as plt\n",
    "from matplotlib.colors import LinearSegmentedColormap\n",
    "\n",
    "from holoviews.streams import SingleTap\n",
    "from scipy.stats import linregress\n",
    "\n"
   ]
  },
  {
   "cell_type": "code",
   "execution_count": null,
   "id": "5ab81b78-ef9b-4544-b023-7df40629fa4a",
   "metadata": {},
   "outputs": [],
   "source": []
  },
  {
   "cell_type": "code",
   "execution_count": null,
   "id": "785228f1-4556-40fe-a383-62f7ed238077",
   "metadata": {},
   "outputs": [],
   "source": [
    "FIG_WIDTH_PX = 1080\n",
    "FIG_HEIGHT_PX = 720\n",
    "FIG_WIDTH_IN = 16\n",
    "FIG_HEIGHT_IN = 9\n",
    "FIG_ALPHA = 0.7\n",
    "BASEMAP = \"EsriImagery\"\n",
    "SEABORN_STYLE = \"whitegrid\"\n",
    "FILL_COLOR = \"none\"\n",
    "LINE_COLOR = \"red\"\n",
    "LINE_WIDTH = 3\n",
    "WEBMAP_PROJECTION = \"EPSG:4326\"\n",
    "sns.set_style(SEABORN_STYLE)\n"
   ]
  },
  {
   "cell_type": "code",
   "execution_count": null,
   "id": "00c1e422-8962-4d70-a411-d3bf0be09225",
   "metadata": {},
   "outputs": [],
   "source": [
    "data_dir = \"HYRSENSE drought\" \n",
    "data_dir"
   ]
  },
  {
   "cell_type": "code",
   "execution_count": null,
   "id": "e17ded35-aa4a-4105-90be-046189e56e36",
   "metadata": {},
   "outputs": [],
   "source": [
    "ST_K = rxr.open_rasterio(ST_filename).squeeze('band', drop=True)\n",
    "ST_C = ST_K - 273.15\n",
    "\n",
    "ST_C.rio.to_raster(join(data_dir,\"ST.tif\"))\n",
    "\n",
    "ST_vmin, ST_vmax = np.nanquantile(np.array(ST_C), [0.02, 0.98])\n",
    "ST_title = \"ECOSTRESS Surface Temperature (Celsius)\"\n",
    "\n",
    "ST_C.rio.reproject(WEBMAP_PROJECTION,nodata=np.nan).hvplot.image(\n",
    "    geo=True,\n",
    "    rasterize=True, \n",
    "    cmap=\"jet\", \n",
    "    alpha=FIG_ALPHA, \n",
    "    tiles=BASEMAP,\n",
    "    clim=(ST_vmin, ST_vmax),\n",
    "    title=ST_title\n",
    ")"
   ]
  },
  {
   "cell_type": "code",
   "execution_count": null,
   "id": "7ed705ff-c9bf-42a4-8cff-d81e22be4c8e",
   "metadata": {},
   "outputs": [],
   "source": [
    "ST_filename = join(data_dir, 'ECOv002_L2T_LSTE_27352_012_13TDE_20230503T142012_0710_01_LST.tif') \n",
    "ST_filename\n"
   ]
  },
  {
   "cell_type": "code",
   "execution_count": null,
   "id": "76cc599b-60dc-4533-b35b-4d568c248645",
   "metadata": {},
   "outputs": [],
   "source": [
    "def interpolate_hex(hex1, hex2, ratio):\n",
    "    rgb1 = [int(hex1[i:i+2], 16) for i in (1, 3, 5)]\n",
    "    rgb2 = [int(hex2[i:i+2], 16) for i in (1, 3, 5)]\n",
    "    rgb = [int(rgb1[i] + (rgb2[i] - rgb1[i]) * ratio) for i in range(3)]\n",
    "    \n",
    "    return '#{:02x}{:02x}{:02x}'.format(*rgb)\n",
    "\n",
    "def create_gradient(colors, steps):\n",
    "    gradient = []\n",
    "    \n",
    "    for i in range(len(colors) - 1):\n",
    "        for j in range(steps):\n",
    "            ratio = j / float(steps)\n",
    "            gradient.append(interpolate_hex(colors[i], colors[i+1], ratio))\n",
    "    \n",
    "    gradient.append(colors[-1])\n",
    "    \n",
    "    return gradient\n",
    "\n",
    "def plot_cmap(cmap):\n",
    "    gradient = np.linspace(0, 1, 256)  # Gradient from 0 to 1\n",
    "    gradient = np.vstack((gradient, gradient))  # Make 2D image\n",
    "\n",
    "    # Display the colormap\n",
    "    plt.figure(figsize=(6, 2))\n",
    "    plt.imshow(gradient, aspect='auto', cmap=cmap)\n",
    "    plt.axis('off')\n",
    "    plt.show()"
   ]
  },
  {
   "cell_type": "code",
   "execution_count": null,
   "id": "7e90642c-0759-44d5-9aea-900f700db5e4",
   "metadata": {},
   "outputs": [],
   "source": [
    "ST_colors = [\n",
    "    \"#054fb9\",\n",
    "    \"#0073e6\",\n",
    "    \"#8babf1\",\n",
    "    \"#cccccc\",\n",
    "    \"#e1ad01\",\n",
    "    \"#f57600\",\n",
    "    \"#c44601\"\n",
    "]\n",
    "\n",
    "ST_gradient = create_gradient(ST_colors, 100)\n",
    "ST_cmap = LinearSegmentedColormap.from_list(name=\"ST\", colors=ST_colors)\n",
    "plot_cmap(ST_cmap)"
   ]
  },
  {
   "cell_type": "code",
   "execution_count": null,
   "id": "775369e5-e2b1-4221-aa03-62885e7c5454",
   "metadata": {},
   "outputs": [],
   "source": [
    "ST_vmin, ST_vmax = np.nanquantile(np.array(ST_C), [0.02, 0.98])\n",
    "ST_title = \"ECOSTRESS Surface Temperature (Celsius)\"\n",
    "\n",
    "ST_C.rio.reproject(WEBMAP_PROJECTION).hvplot.image(\n",
    "    geo=True,\n",
    "    rasterize=True, \n",
    "    cmap=ST_gradient, \n",
    "    alpha=FIG_ALPHA, \n",
    "    tiles=BASEMAP,\n",
    "    clim=(ST_vmin, ST_vmax),\n",
    "    title=ST_title\n",
    ")"
   ]
  },
  {
   "cell_type": "code",
   "execution_count": null,
   "id": "2bc361bd-7b0e-4741-a478-54e0a059a880",
   "metadata": {},
   "outputs": [],
   "source": [
    "ST_filename = join(data_dir, 'ECOv002_L2T_LSTE_29652_004_13TDE_20230928T210002_0711_01_LST.tif') \n",
    "ST_filename"
   ]
  },
  {
   "cell_type": "code",
   "execution_count": null,
   "id": "785a079e-c536-497a-9b3a-febaf837019d",
   "metadata": {},
   "outputs": [],
   "source": [
    "ST_K = rxr.open_rasterio(ST_filename).squeeze('band', drop=True)\n",
    "ST_C = ST_K - 273.15\n",
    "\n",
    "ST_C.rio.to_raster(join(data_dir,\"ST.tif\"))\n",
    "\n",
    "ST_vmin, ST_vmax = np.nanquantile(np.array(ST_C), [0.02, 0.98])\n",
    "ST_title = \"ECOSTRESS Surface Temperature (Celsius)\"\n",
    "\n",
    "ST_C.rio.reproject(WEBMAP_PROJECTION,nodata=np.nan).hvplot.image(\n",
    "    geo=True,\n",
    "    rasterize=True, \n",
    "    cmap=\"jet\", \n",
    "    alpha=FIG_ALPHA, \n",
    "    tiles=BASEMAP,\n",
    "    clim=(ST_vmin, ST_vmax),\n",
    "    title=ST_title\n",
    ")"
   ]
  },
  {
   "cell_type": "code",
   "execution_count": null,
   "id": "d573c24c-c8c6-42a4-857e-a6654ff299ad",
   "metadata": {},
   "outputs": [],
   "source": [
    "ST_vmin, ST_vmax = np.nanquantile(np.array(ST_C), [0.02, 0.98])\n",
    "ST_title = \"ECOSTRESS Surface Temperature (Celsius)\"\n",
    "\n",
    "ST_C.rio.reproject(WEBMAP_PROJECTION).hvplot.image(\n",
    "    geo=True,\n",
    "    rasterize=True, \n",
    "    cmap=ST_gradient, \n",
    "    alpha=FIG_ALPHA, \n",
    "    tiles=BASEMAP,\n",
    "    clim=(ST_vmin, ST_vmax),\n",
    "    title=ST_title\n",
    ")"
   ]
  },
  {
   "cell_type": "code",
   "execution_count": null,
   "id": "1c85089f-b398-4ec1-ad55-95439092b6c1",
   "metadata": {},
   "outputs": [],
   "source": [
    "import geopandas as gp\n",
    "import rasterio as rio\n",
    "import rioxarray as rxr\n",
    "import hvplot.xarray\n",
    "import hvplot.pandas"
   ]
  },
  {
   "cell_type": "code",
   "execution_count": null,
   "id": "729140f8-3778-4065-9356-b335687051e0",
   "metadata": {},
   "outputs": [],
   "source": [
    "size_opts = dict(frame_height=405, frame_width=720, fontscale=2)\n",
    "map_opts = dict(geo=True, crs='EPSG:4326', alpha=0.7, xlabel='Longitude',ylabel='Latitude')"
   ]
  },
  {
   "cell_type": "code",
   "execution_count": null,
   "id": "4f0f49cd-bd79-431c-b91f-16930d734000",
   "metadata": {},
   "outputs": [],
   "source": [
    "shape = gp.read_file(\"HYRSENSE drought/ROMO_BND_Boundary_py_NAD83_1_-2935172777854153534.geojson\")\n",
    "shape"
   ]
  },
  {
   "cell_type": "code",
   "execution_count": null,
   "id": "2717125e-a497-44a2-ad85-faa3d820cdb3",
   "metadata": {},
   "outputs": [],
   "source": [
    "eco_fp = \"HYRSENSE drought/ECOv002_L2T_LSTE_27352_012_13TDE_20230503T142012_0710_01_LST.tif\""
   ]
  },
  {
   "cell_type": "code",
   "execution_count": null,
   "id": "498380a8-7498-40a7-9625-21cb39118eef",
   "metadata": {},
   "outputs": [],
   "source": [
    "eco_lst_ds = rxr.open_rasterio(eco_fp).squeeze('band', drop=True)\n",
    "eco_lst_ds"
   ]
  },
  {
   "cell_type": "code",
   "execution_count": null,
   "id": "8b95576b-c0fb-4237-afd1-69b3cc0e26c0",
   "metadata": {},
   "outputs": [],
   "source": [
    "eco_lst_ds.rio.reproject('EPSG:4326').hvplot.image(x='x',y='y',**size_opts, cmap='inferno',tiles='ESRI', xlabel='Longitude',ylabel='Latitude',title='ECOSTRESS LST (F)',)*shape.hvplot(color='#d95f02',alpha=0.5, )\n"
   ]
  },
  {
   "cell_type": "code",
   "execution_count": null,
   "id": "621dda2a-a9d6-454e-93ff-e9619a487b2c",
   "metadata": {},
   "outputs": [],
   "source": [
    "eco_cropped = eco_lst_ds.rio.clip(shape.geometry.values,shape.crs, all_touched=True)"
   ]
  },
  {
   "cell_type": "code",
   "execution_count": null,
   "id": "1cfd92a5-073b-4abd-b0f9-f4876db76078",
   "metadata": {},
   "outputs": [],
   "source": [
    "eco_lst_ds.rio.reproject('EPSG:4326').hvplot.image(x='x',y='y',**size_opts, cmap='inferno',tiles='ESRI', xlabel='Longitude',ylabel='Latitude',title='ECOSTRESS LST (K)', crs='EPSG:4326')\n"
   ]
  },
  {
   "cell_type": "code",
   "execution_count": null,
   "id": "c725a5ab-b4b7-4d2c-b8a5-099902ae9294",
   "metadata": {},
   "outputs": [],
   "source": []
  },
  {
   "cell_type": "code",
   "execution_count": null,
   "id": "3e0cfe40-fd6c-47a1-87ce-3c01cfa98199",
   "metadata": {},
   "outputs": [],
   "source": [
    "eco_lst_ds = rxr.open_rasterio(eco_fp).squeeze('band', drop=True)\n",
    "eco_lst_ds"
   ]
  },
  {
   "cell_type": "code",
   "execution_count": null,
   "id": "014fc134-f634-4084-b187-667609e3cd18",
   "metadata": {},
   "outputs": [],
   "source": [
    "eco_lst_ds.rio.reproject('EPSG:4326').hvplot.image(x='x',y='y',**size_opts, cmap='inferno',tiles='ESRI', xlabel='Longitude',ylabel='Latitude',title='ECOSTRESS LST (K)', crs='EPSG:4326')\n"
   ]
  },
  {
   "cell_type": "code",
   "execution_count": null,
   "id": "14ac6962-9bef-4d21-9662-1863cb21ab9b",
   "metadata": {},
   "outputs": [],
   "source": [
    "eco_lst_ds_regrid = eco_lst_ds.rio.reproject_match\n"
   ]
  },
  {
   "cell_type": "code",
   "execution_count": null,
   "id": "4dbd32c7-2071-410f-9ef6-a3714eb4197d",
   "metadata": {},
   "outputs": [],
   "source": []
  },
  {
   "cell_type": "code",
   "execution_count": null,
   "id": "3802b89f-17a4-402f-9dea-df839bf012b6",
   "metadata": {},
   "outputs": [],
   "source": []
  },
  {
   "cell_type": "code",
   "execution_count": null,
   "id": "8fad453a-ada1-4957-8728-10d3541cf54c",
   "metadata": {},
   "outputs": [],
   "source": []
  },
  {
   "cell_type": "code",
   "execution_count": null,
   "id": "e9cdd283-87a4-4fe9-a939-545baddff339",
   "metadata": {},
   "outputs": [],
   "source": []
  }
 ],
 "metadata": {
  "kernelspec": {
   "display_name": "Python 3 (ipykernel)",
   "language": "python",
   "name": "python3"
  },
  "language_info": {
   "codemirror_mode": {
    "name": "ipython",
    "version": 3
   },
   "file_extension": ".py",
   "mimetype": "text/x-python",
   "name": "python",
   "nbconvert_exporter": "python",
   "pygments_lexer": "ipython3",
   "version": "3.10.14"
  }
 },
 "nbformat": 4,
 "nbformat_minor": 5
}
