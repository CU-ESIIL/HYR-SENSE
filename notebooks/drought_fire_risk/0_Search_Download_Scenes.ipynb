{
 "cells": [
  {
   "cell_type": "markdown",
   "id": "36554aee-a785-41e8-b73a-f37d25d18515",
   "metadata": {},
   "source": [
    "## Applications of ECOSTRESS: Drought and Wildfire Risk Assessment\n",
    "### Rocky Mountain National Park, Colorado\n",
    "\n",
    "Add introduction here.\n",
    "\n",
    "Wildfire impacts to communities are on the rise. Changing hazard and risk for communities has been a function of warmer and drier climate (REF), lack of fire and a culture of fire suppression in fire-prone regions (REF), and rapid development in flammable landscapes (REF). Wildfire risk to communities is often transmitted from wildlands into the built environment or the Wildland Urban Interface (WUI), where buildings and people intermix with flammable vegetation. The Colorado Front Range is particularly vulnerable/susceptible to wildfire risk with a rapidly growing population and impacts from changing climatic patterns. \n",
    "\n",
    "(add more info here about the Park and East Troublesome Fire) - Rocky Mountain National Park (RMNP) ... Estes Park, CO and Grand Lake, CO, vulnerable populations fire risk transmitted from the park\n",
    "\n",
    "Previous research has shown relationships between the intensity of a wildfire and the water stress in plants measured in the months before wildfire: https://ecostress.jpl.nasa.gov/news/111cnasa-data-on-plant-2018sweating-could-help-predict-wildfire-severity\n",
    "\n",
    "(OPTION) Social Vulnerability Index (SVI) - how is fire risk distributed in relation to vulnerable populations? https://www.atsdr.cdc.gov/placeandhealth/svi/index.html\n",
    "\n",
    "![East Troublesome](https://github.com/CU-ESIIL/HYR-SENSE/blob/main/images/east_troublesome-coloradoan.png)\n",
    "Image source: https://www.coloradoan.com/story/news/2020/12/10/rocky-mountain-national-park-trails-reopening-after-fires-closed-area/3884310001/\n",
    "\n",
    "Citations:\n",
    "\n",
    "1.\n",
    "2.\n",
    "3. "
   ]
  },
  {
   "cell_type": "markdown",
   "id": "0cbabd0e-7801-4c48-82c2-1bcf638614da",
   "metadata": {},
   "source": [
    "## Search and download ECOSTRESS Land Surface Temp. (LST) and Evapotranspiration (ET)\n",
    "\n",
    "In this notebook, we will use the 'earthaccess' Python package to search and download ECOSTRESS data products which overlap RMNP (refer to this notebook for the introduction to earthaccess: XXX). Using this package, we can search for ECOSTRESS granules using our region of interest and identify data granules which meet certain criteria for analysis (i.e., cloud cover, seasonality, etc).\n",
    "\n",
    "### Step 1. Setup the Notebook\n",
    "\n",
    "First, we need to import our Python packages and define some environment variable like coordinate reference systems and file paths. "
   ]
  },
  {
   "cell_type": "code",
   "execution_count": 1,
   "id": "50c4bc0a-307b-4777-9c72-7fb9990757b5",
   "metadata": {},
   "outputs": [
    {
     "name": "stdout",
     "output_type": "stream",
     "text": [
      "Success\n"
     ]
    }
   ],
   "source": [
    "\"\"\"\n",
    "Load the necessary packages and set environment variables\n",
    "\"\"\"\n",
    "\n",
    "# Import packages\n",
    "import os, shutil\n",
    "import folium\n",
    "import earthaccess\n",
    "import warnings\n",
    "import folium.plugins\n",
    "import pandas as pd\n",
    "import geopandas as gpd\n",
    "import rasterio as rio\n",
    "import math\n",
    "\n",
    "from branca.element import Figure\n",
    "from IPython.display import display\n",
    "from shapely import geometry\n",
    "from skimage import io\n",
    "from datetime import timedelta\n",
    "from shapely.geometry.polygon import orient\n",
    "from matplotlib import pyplot as plt\n",
    "\n",
    "# Projection information\n",
    "geog = 'EPSG:4326'  # Geographic projection\n",
    "prj = 'EPSG:5070'  # Projected coordinate system- WGS 84 NAD83 UTM Zone 13N\n",
    "\n",
    "# File path information\n",
    "datadir = '/data-store/iplant/home/shared/esiil/HYR_SENSE/'\n",
    "\n",
    "# File path information\n",
    "print(\"Success\")"
   ]
  },
  {
   "cell_type": "markdown",
   "id": "82919ccc-e8ec-49f8-97b4-f0bcd633eed5",
   "metadata": {},
   "source": [
    "#### Define Custom Functions\n",
    "\n",
    "These helper functions will be used throughout the notebook. For each function, there is a description of what purpose it serves and where it is used in the notebook. Feel free to read through each function to get an idea of what it does, but we will not cover these in great detail. Ask a facilitator if you have any questions!"
   ]
  },
  {
   "cell_type": "code",
   "execution_count": 18,
   "id": "ca425f2b-7aa6-4e1e-a487-38403b35ddcd",
   "metadata": {},
   "outputs": [
    {
     "name": "stdout",
     "output_type": "stream",
     "text": [
      "Functions are ready to use!\n"
     ]
    }
   ],
   "source": [
    "def get_shapely_object(result:earthaccess.results.DataGranule):\n",
    "    \"\"\"\n",
    "    Retrieve geospatial information from ECOSTRESS granule footprints.\n",
    "    This function allows us to retrieve the geographic coverage for each granule and plot it on a map.\n",
    "    \n",
    "    :param 'result:earthaccess.results.DataGranule': a single data granule from earthaccess data search\n",
    "    \"\"\"\n",
    "    \n",
    "    # Get Geometry Keys\n",
    "    geo = result['umm']['SpatialExtent']['HorizontalSpatialDomain']['Geometry']\n",
    "    keys = geo.keys()\n",
    "\n",
    "    if 'BoundingRectangles' in keys:\n",
    "        bounding_rectangle = geo['BoundingRectangles'][0]\n",
    "        # Create bbox tuple\n",
    "        bbox_coords = (bounding_rectangle['WestBoundingCoordinate'],bounding_rectangle['SouthBoundingCoordinate'],\n",
    "                       bounding_rectangle['EastBoundingCoordinate'],bounding_rectangle['NorthBoundingCoordinate'])\n",
    "        # Create shapely geometry from bbox\n",
    "        shape = geometry.box(*bbox_coords, ccw=True)\n",
    "    elif 'GPolygons' in keys:\n",
    "        points = geo['GPolygons'][0]['Boundary']['Points']\n",
    "        # Create shapely geometry from polygons\n",
    "        shape = geometry.Polygon([[p['Longitude'],p['Latitude']] for p in points])\n",
    "    else:\n",
    "         raise ValueError('Provided result does not contain bounding boxes/polygons or is incompatible.')\n",
    "    return(shape)\n",
    "\n",
    "\n",
    "def get_png(result:earthaccess.results.DataGranule):\n",
    "    \"\"\"\n",
    "    Retrieve the browse image from the search results\n",
    "    This browse image can be used to display the granule quickly and effectively before downloading\n",
    "\n",
    "    :param 'result:earthaccess.results.DataGranule': a single data granule from earthaccess data search\n",
    "    \"\"\"\n",
    "    https_links = [link for link in result.dataviz_links() if 'https' in link]\n",
    "    if len(https_links) == 1:\n",
    "        browse = https_links[0]\n",
    "    elif len(https_links) == 0:\n",
    "        browse = 'no browse image'\n",
    "        warnings.warn(f\"There is no browse imagery for {result['umm']['GranuleUR']}.\")\n",
    "    else:\n",
    "        browse = [png for png in https_links if '.png' in png][0]\n",
    "    return(browse)\n",
    "\n",
    "\n",
    "def convert_bounds(bbox, invert_y=False):\n",
    "    \"\"\"\n",
    "    Helper method for changing bounding box representation to leaflet notation\n",
    "    Leaflet interactive maps require a specific format for coordinates, this function sets that up for a given bounding box.\n",
    "\n",
    "    ``(lon1, lat1, lon2, lat2) -> ((lat1, lon1), (lat2, lon2))``\n",
    "    \"\"\"\n",
    "    x1, y1, x2, y2 = bbox\n",
    "    if invert_y:\n",
    "        y1, y2 = y2, y1\n",
    "    return ((y1, x1), (y2, x2))\n",
    "\n",
    "\n",
    "def extract_granule_id(link):\n",
    "    return os.path.basename(link)[:-3]\n",
    "    \n",
    "print(\"Functions are ready to use!\")"
   ]
  },
  {
   "cell_type": "markdown",
   "id": "f520f271-a7ea-4a56-9106-8a07186633fc",
   "metadata": {},
   "source": [
    "### Step 2. Data Preparation\n",
    "\n",
    "#### Accessing data from the CyVerse Data Store\n",
    "\n",
    "The CyVerse \"data store\" contains some geospatial and tabular data for the workshop. These data can be accessed directly using file paths. However, this sometimes can cause delays. To avoid these issues, we can copy the data for this notebook into a local directory, which will increase the analysis speed."
   ]
  },
  {
   "cell_type": "code",
   "execution_count": 3,
   "id": "13d1a2b5-714a-4635-b29f-1ba6191aae8b",
   "metadata": {},
   "outputs": [
    {
     "data": {
      "text/plain": [
       "'/home/jovyan/HYR-SENSE/data/Drought-FireRisk/'"
      ]
     },
     "execution_count": 3,
     "metadata": {},
     "output_type": "execute_result"
    }
   ],
   "source": [
    "\"\"\"\n",
    "Copy the data-store to 'local' directory\n",
    "This enables quick access to data files\n",
    "\"\"\"\n",
    "\n",
    "# Identify the location of the HYR-SENSE \"data store\"\n",
    "data_store_path = '/data-store/iplant/home/shared/esiil/HYR_SENSE/data/Drought-FireRisk'\n",
    "# Set a destination path (this is a 'local' and temporary path)\n",
    "dest = '/home/jovyan/HYR-SENSE/data/Drought-FireRisk/' # in the GitHub repo we cloned\n",
    "if not os.path.exists(dest):\n",
    "    os.mkdir(dest) # create the directory for the copied data, if needed\n",
    "    \n",
    "# Using 'shutil' package, copy all the files over\n",
    "shutil.copytree(data_store_path, dest, dirs_exist_ok=True)"
   ]
  },
  {
   "cell_type": "markdown",
   "id": "b78560d4-c6b9-4efb-afbd-ba9186c6445c",
   "metadata": {},
   "source": [
    "#### Importing project data\n",
    "\n",
    "Now that we have a local copy of our project data, we can read in some of the data files like our region of interest (ROI). For this notebook, we will load two spatial datasets:\n",
    "\n",
    "- Rocky Mountain National Park (RMNP) boundary\n",
    "- Colorado Fire Protection Districts (FPDs)\n",
    "\n",
    "To begin, let's create a map of our ROI and the intersecting FPDs."
   ]
  },
  {
   "cell_type": "code",
   "execution_count": 4,
   "id": "7323c1cf-c71d-4ee8-bef3-619d2328ebd0",
   "metadata": {},
   "outputs": [
    {
     "name": "stderr",
     "output_type": "stream",
     "text": [
      "ERROR 1: PROJ: proj_create_from_database: Open of /opt/conda/envs/hyr-sense/share/proj failed\n"
     ]
    },
    {
     "data": {
      "image/png": "[encoded data removed]",
      "text/plain": [
       "<Figure size 600x600 with 1 Axes>"
      ]
     },
     "metadata": {},
     "output_type": "display_data"
    }
   ],
   "source": [
    "# Load the RMNP boundary as a GeoJSON using the Python package GeoPandas\n",
    "rmnp = gpd.read_file(os.path.join(dest, 'NPS_ROMO_Boundary.geojson'))\n",
    "rmnp = rmnp.to_crs(prj) # projected CRS\n",
    "\n",
    "# Load the Colorado Fire Protection Districts\n",
    "# Intersect with the RMNP boundary\n",
    "fpd = gpd.read_file(os.path.join(dest, 'CO_Fire_Protection_Districts.geojson'))\n",
    "fpd = fpd.to_crs(prj) # make sure the projections match\n",
    "fpd_rmnp = fpd[fpd.intersects(rmnp.unary_union)] # Perform the spatial intersection\n",
    "\n",
    "# Create a map of RMNP and adjacent FPDs\n",
    "fig, ax = plt.subplots(1, 1, figsize=(6, 6))\n",
    "# Plot the intersecting Fire Protection Districts\n",
    "# (convert to geographic coordinates so axis labels are in lat/long)\n",
    "fpd_rmnp.to_crs(geog).plot(ax=ax, color='none', edgecolor='black', linewidth=1, linestyle='--', label='Intersecting Districts')\n",
    "# Plot the RMNP boundary \n",
    "rmnp.to_crs(geog).plot(ax=ax, color='none', edgecolor='blue', linewidth=2, label='RMNP Boundary')\n",
    "# Add legend and title\n",
    "plt.title('RMNP Boundary and Fire Protection Districts')\n",
    "plt.show()"
   ]
  },
  {
   "cell_type": "markdown",
   "id": "cb40ce52-3e9b-4887-8191-0000a6d79e6a",
   "metadata": {},
   "source": [
    "### Step 3. Search for ECOSTRESS Data Products \n",
    " - Land Surface Temperature and Emissivity Daily L2 Global 70 m\n",
    " - Evapotranspiration (ET) PT-JPL Daily Daily L3 Global 70 m\n",
    " - Evaporative Stress Index (ESI) PT-JPL Daily L4 Gloabl 70 m \n",
    "\n",
    "Now that we have our ROI loaded, we can use the \"earthaccess\" Python package to find ECOSTRESS data products. In particular, we will search for the Land Surface Temperature and Emissivity Daily Gridded L2 70-m product (ECO_L2G_LSTE), Evapotranspiration Daily L3 70-m product (ECO3ETPTJPL), and the Evaporative Stress Index Daily L4 70 m product (ECO4ESIPTJPL). With earthaccess, we can search for and print all of the available data sets. Using this capability, we can also search for a specific data product by its \"short name\". To start, let's get a list of all the ECOSTRESS products available.\n",
    "\n",
    "Read more about the data products:\\\n",
    "ECOSTRESS LSTE: https://lpdaac.usgs.gov/products/eco2lstev001/ \\\n",
    "ECOSTRESS ET: https://lpdaac.usgs.gov/products/eco3etptjplv001/ \\\n",
    "ECOSTRESS ESI: https://lpdaac.usgs.gov/products/eco4esiptjplv001/\n"
   ]
  },
  {
   "cell_type": "code",
   "execution_count": 5,
   "id": "4864101d-ce80-4e5c-a3fd-3b66093a620c",
   "metadata": {},
   "outputs": [
    {
     "name": "stdout",
     "output_type": "stream",
     "text": [
      "Collections found: 37\n",
      "All available data products: \n"
     ]
    },
    {
     "data": {
      "text/plain": [
       "['ECO2LSTE',\n",
       " 'ECO4ESIPTJPL',\n",
       " 'ECO4WUE',\n",
       " 'ECO3ETPTJPL',\n",
       " 'ECO2CLD',\n",
       " 'ECO1BMAPRAD',\n",
       " 'ECO1BRAD',\n",
       " 'ECO3ETALEXI',\n",
       " 'ECO4ESIALEXI',\n",
       " 'ECO1BGEO',\n",
       " 'ECO4ESIALEXIU',\n",
       " 'ECO_L4G_ESI',\n",
       " 'ECO_L4G_WUE',\n",
       " 'ECO_L4T_ESI',\n",
       " 'ECO_L4T_WUE',\n",
       " 'ECO3ANCQA',\n",
       " 'ECO3ETALEXIU',\n",
       " 'ECO_L3G_JET',\n",
       " 'ECO_L3G_MET',\n",
       " 'ECO_L3G_SEB',\n",
       " 'ECO_L3G_SM',\n",
       " 'ECO_L3T_JET',\n",
       " 'ECO_L3T_MET',\n",
       " 'ECO_L3T_SEB',\n",
       " 'ECO_L3T_SM',\n",
       " 'ECO_L2G_CLOUD',\n",
       " 'ECO_L2G_LSTE',\n",
       " 'ECO_L2T_LSTE',\n",
       " 'ECO_L2T_STARS',\n",
       " 'ECO_L2_CLOUD',\n",
       " 'ECO_L2_LSTE',\n",
       " 'ECO1BATT',\n",
       " 'ECO_L1B_ATT',\n",
       " 'ECO_L1B_GEO',\n",
       " 'ECO_L1B_RAD',\n",
       " 'ECO_L1CG_RAD',\n",
       " 'ECO_L1CT_RAD']"
      ]
     },
     "execution_count": 5,
     "metadata": {},
     "output_type": "execute_result"
    }
   ],
   "source": [
    "## Query the collections for ECOSTRESS\n",
    "Query = earthaccess.collection_query().keyword('ECOSTRESS')\n",
    "print(f'Collections found: {Query.hits()}')\n",
    "\n",
    "# Return search results as a list\n",
    "collections = Query.fields(['ShortName']).get(Query.hits())\n",
    "\n",
    "# Retrieve Collection short-names\n",
    "print(\"All available data products: \")\n",
    "[product['short-name'] for product in [collection.summary() for collection in collections]]"
   ]
  },
  {
   "cell_type": "code",
   "execution_count": null,
   "id": "147afc36-ad19-4a19-b9b6-fc1ccde0e1d2",
   "metadata": {},
   "outputs": [],
   "source": [
    "# # (OPTIONAL) \n",
    "# # If you are using a Shapefile or GeoPackage you need to retrieve the coordinate pairs\n",
    "\n",
    "# # ~ Extract a list coordinate pairs for ROI ~\n",
    "\n",
    "# # First, reproject to WGS84 for coordinates are in degrees\n",
    "# roi = roi.to_crs(epsg=4326)\n",
    "\n",
    "# # Extract the bounds\n",
    "# coord_list = []\n",
    "# for iter, row in roi.iterrows():\n",
    "#     bounds = row['geometry'].bounds\n",
    "#     coord_list.append(bounds)\n",
    "# print(coord_list)\n",
    "# if len(coord_list) == 1:\n",
    "#     coord_list = coord_list[0]\n",
    "# else:\n",
    "#     coord_list = coord_list"
   ]
  },
  {
   "cell_type": "markdown",
   "id": "50fb426f-fd3f-4957-af86-060a662e1bad",
   "metadata": {},
   "source": [
    "#### Define a search request using 'earthaccess'\n",
    "\n",
    "We are ready to submit a search request for our ECOSTRESS data over RMNP. For this exercise, we will look for data within three seasonal time periods; spring (May), summer (July) and fall (September). In doing so, we can examine the changing drought and fire risk conditions over a single fire season for this region. \n",
    "\n",
    "In the code below, we define the three data products using their short names, the date ranges of interest, and a label for the season of the date range. Then, we loop through each data product short name and create a search request with our criteria"
   ]
  },
  {
   "cell_type": "code",
   "execution_count": 22,
   "id": "1c3ea005-0ecd-4fdc-8f78-e62a4c894c82",
   "metadata": {},
   "outputs": [
    {
     "name": "stdout",
     "output_type": "stream",
     "text": [
      "~~~~~~~~~~~~~~~~~~~~~~~~~~~\n",
      "Data product: ECO_L2G_LSTE\n",
      "Season: Spring; Date range: ('2022-05-01', '2022-05-31')\n",
      "Granules found: 32\n",
      "Season: Summer; Date range: ('2022-07-01', '2022-07-31')\n",
      "Granules found: 33\n",
      "Season: Fall; Date range: ('2022-09-01', '2022-09-30')\n",
      "Granules found: 28\n",
      "~~~~~~~~~~~~~~~~~~~~~~~~~~~\n",
      "Data product: ECO3ETPTJPL\n",
      "Season: Spring; Date range: ('2022-05-01', '2022-05-31')\n",
      "Granules found: 14\n",
      "Season: Summer; Date range: ('2022-07-01', '2022-07-31')\n",
      "Granules found: 10\n",
      "Season: Fall; Date range: ('2022-09-01', '2022-09-30')\n",
      "Granules found: 8\n",
      "~~~~~~~~~~~~~~~~~~~~~~~~~~~\n",
      "Data product: ECO4ESIPTJPL\n",
      "Season: Spring; Date range: ('2022-05-01', '2022-05-31')\n",
      "Granules found: 14\n",
      "Season: Summer; Date range: ('2022-07-01', '2022-07-31')\n",
      "Granules found: 10\n",
      "Season: Fall; Date range: ('2022-09-01', '2022-09-30')\n",
      "Granules found: 8\n"
     ]
    }
   ],
   "source": [
    "# 1. Define some search parameters\n",
    "short_names = ['ECO_L2G_LSTE', 'ECO3ETPTJPL', 'ECO4ESIPTJPL']\n",
    "date_ranges = [('2022-05-01','2022-05-31'),('2022-07-01','2022-07-31'),('2022-09-01','2022-09-30')]\n",
    "seasons = ['Spring','Summer','Fall']  \n",
    "\n",
    "# 2. Retrieve the coordinate pairs for the region of interest\n",
    "rmnp = rmnp.to_crs(geog) # convert back to geographic coordinates\n",
    "geom = rmnp.unary_union.envelope # dissolve into a single shape and get the envelope\n",
    "coords = list(geom.exterior.coords) # retrieve the coordinate pairs\n",
    "\n",
    "# 3. Loop through each short name\n",
    "results = {} # empty dictionary to store the search results for each product\n",
    "for short_name in short_names:\n",
    "    print(\"~~~~~~~~~~~~~~~~~~~~~~~~~~~\")\n",
    "    print(f\"Data product: {short_name}\")\n",
    "    i=0 # counter\n",
    "    season_results = [] # to store the search results for each season\n",
    "    # 4. Loop each season\n",
    "    for date_range in date_ranges:\n",
    "        season = seasons[i] # get the season name for labelling\n",
    "        print(f\"Season: {season}; Date range: {date_range}\")\n",
    "    \n",
    "        # 4a. Search for ECOSTRESS products matching our short names\n",
    "        result = earthaccess.search_data(\n",
    "            short_name=short_name,\n",
    "            polygon=coords,\n",
    "            temporal=date_range,\n",
    "            count=500, \n",
    "        )\n",
    "    \n",
    "        # 4b. Save the results as a data frame, append to dictionary\n",
    "        df = pd.json_normalize(result)\n",
    "        df['season'] = season\n",
    "\n",
    "        # 4c. Create shapely polygons for result\n",
    "        geometries = [get_shapely_object(result[index]) for index in df.index.to_list()]\n",
    "        # Convert to GeoDataframe\n",
    "        results_gdf = gpd.GeoDataFrame(df, geometry=geometries, crs=\"EPSG:4326\")\n",
    "        \n",
    "        # 4d. Add browse imagery links (we will use this later)\n",
    "        results_gdf['browse'] = [get_png(granule) for granule in result]\n",
    "\n",
    "        # 4e. Retrieve the data links (used later for downloading)\n",
    "        data_links = pd.DataFrame([granule.data_links()[0] for granule in result], columns=['data_link']) \n",
    "        # print([os.path.basename(link)[:-3] for link in data_links['data_link']])\n",
    "        data_links['granule_id'] = data_links['data_link'].apply(extract_granule_id)  \n",
    "        # Merge the data link\n",
    "        results_gdf = pd.merge(results_gdf, data_links, left_on=\"meta.native-id\", right_on=\"granule_id\")\n",
    "        # 4f. Append the results to the season results list\n",
    "        season_results.append(results_gdf)\n",
    "        \n",
    "        i=i+1\n",
    "\n",
    "    # 5. Merge the results for all seasons and add to the dictionary (using the short name as the key)\n",
    "    season_results = pd.concat(season_results)\n",
    "    \n",
    "    results[short_name] = season_results"
   ]
  },
  {
   "cell_type": "markdown",
   "id": "59b7b900-c7e6-4e6f-a668-4271251064e3",
   "metadata": {},
   "source": [
    "#### Examine the metadata from the search results  \n",
    "It looks like we have some options for data products during this spatial and temporal window. However, to identify data granules which will be useful for analysis, we need to dig into the metadata a bit more. Thankfully, the earthaccess enables us to work with the metadata from our search results as a data frame. "
   ]
  },
  {
   "cell_type": "code",
   "execution_count": 23,
   "id": "41174038-cce6-42dd-ad93-f4267584360d",
   "metadata": {},
   "outputs": [
    {
     "name": "stdout",
     "output_type": "stream",
     "text": [
      "Index(['size', 'meta.concept-type', 'meta.concept-id', 'meta.revision-id',\n",
      "       'meta.native-id', 'meta.collection-concept-id', 'meta.provider-id',\n",
      "       'meta.format', 'meta.revision-date',\n",
      "       'umm.TemporalExtent.RangeDateTime.BeginningDateTime',\n",
      "       'umm.TemporalExtent.RangeDateTime.EndingDateTime',\n",
      "       'umm.OrbitCalculatedSpatialDomains', 'umm.GranuleUR',\n",
      "       'umm.AdditionalAttributes', 'umm.MeasuredParameters',\n",
      "       'umm.SpatialExtent.HorizontalSpatialDomain.Geometry.BoundingRectangles',\n",
      "       'umm.ProviderDates', 'umm.CollectionReference.ShortName',\n",
      "       'umm.CollectionReference.Version', 'umm.PGEVersionClass.PGEVersion',\n",
      "       'umm.RelatedUrls', 'umm.DataGranule.DayNightFlag',\n",
      "       'umm.DataGranule.Identifiers', 'umm.DataGranule.ProductionDateTime',\n",
      "       'umm.DataGranule.ArchiveAndDistributionInformation', 'umm.Platforms',\n",
      "       'umm.MetadataSpecification.URL', 'umm.MetadataSpecification.Name',\n",
      "       'umm.MetadataSpecification.Version', 'season', 'geometry', 'browse',\n",
      "       'data_link', 'granule_id'],\n",
      "      dtype='object')\n",
      "93 granules total\n"
     ]
    }
   ],
   "source": [
    "# Let's take a look at the columns available in the metadata\n",
    "# We can use just one of the products to get an idea of the data structure\n",
    "results_gdf = results['ECO_L2G_LSTE']\n",
    "print(results_gdf.columns)\n",
    "\n",
    "# How many granules do we have in total (all seasons)\n",
    "print(f'{results_gdf.shape[0]} granules total')"
   ]
  },
  {
   "cell_type": "markdown",
   "id": "2f1d0e41-6b01-4b39-91c5-6d82a691ecf4",
   "metadata": {},
   "source": [
    "#### Identify granules with less than 5% cloud cover\n",
    "\n",
    "We can use the metadata information to limit our search results to only granules with low cloud cover. This should help us narrow down the amount of data."
   ]
  },
  {
   "cell_type": "code",
   "execution_count": null,
   "id": "73b86533-6838-494d-a365-b0112dae1d8a",
   "metadata": {},
   "outputs": [],
   "source": [
    "for short_name in short_names:\n",
    "    # Retrieve the search results data frame for that product\n",
    "    gdf = results[short_name]\n",
    "    \n",
    "    # Find cloud-free granules\n",
    "    print(\"Cloud cover statistics for granules: \\n\")\n",
    "    print(gdf['umm.CloudCover'].describe())\n",
    "    print(\"~~~~~~~~~~~~~~\")\n",
    "    \n",
    "    # # How many granules have less than 5% cloud cover?\n",
    "    # no_clouds_n = (search_df['umm.CloudCover'] <= 5).sum()\n",
    "    # print(f\"Number of granules with less than or equal to 5% cloud cover: {no_clouds_n}\")\n",
    "    # print(\"~~~~~~~~~~~~~~\")\n",
    "    \n",
    "    # # Filter our search results to just these low cloud granules\n",
    "    # search_df_nc = search_df[search_df['umm.CloudCover'] <= 5]\n",
    "    # print(search_df_nc.head())"
   ]
  },
  {
   "cell_type": "code",
   "execution_count": null,
   "id": "a36efe8d-6aa4-465f-bcdb-0438a818cf6f",
   "metadata": {},
   "outputs": [],
   "source": [
    "#### # Create a list of columns to keep\n",
    "# keep_cols = ['season','meta.concept-id','meta.native-id', \n",
    "#              'umm.TemporalExtent.RangeDateTime.BeginningDateTime',\n",
    "#              'umm.TemporalExtent.RangeDateTime.EndingDateTime',\n",
    "#              'umm.CloudCover','umm.DataGranule.DayNightFlag', 'umm.GranuleUR',\n",
    "#              'geometry','browse', 'shortname', 'data_link']\n",
    "# # Remove unneeded columns\n",
    "# results_gdf = results_gdf.loc[:, results_gdf.columns.intersection(keep_cols)]\n",
    "\n",
    "results_gdf.rename(\n",
    "    columns = {'meta.concept-id':'concept_id','meta.native-id':'granule',\n",
    "               'umm.TemporalExtent.RangeDateTime.BeginningDateTime':'start_datetime',\n",
    "               'umm.TemporalExtent.RangeDateTime.EndingDateTime':'end_datetime',\n",
    "               'umm.CloudCover':'cloud_cover',\n",
    "               'umm.GranuleUR':'granule_id',\n",
    "               'umm.DataGranule.DayNightFlag':'day_night',\n",
    "              }, inplace=True)\n",
    "results_gdf['datetime_obj'] = pd.to_datetime(results_gdf['start_datetime']) # 2i2c\n",
    "results_gdf.head()"
   ]
  },
  {
   "cell_type": "code",
   "execution_count": null,
   "id": "af0f0bda-3d6c-42ed-9be2-70ba389b1efe",
   "metadata": {},
   "outputs": [],
   "source": [
    "# Spatial filtering\n",
    "\n",
    "# Function to check if a bounding box fully contains the romo region\n",
    "def bbox_contains(bbox_geom, roi_geom):\n",
    "    return bbox_geom.contains(roi_geom.unary_union)\n",
    "\n",
    "# Filter results based on spatial containment\n",
    "filtered_results = results_gdf[results_gdf['geometry'].apply(lambda x: bbox_contains(x, romo.geometry))]"
   ]
  },
  {
   "cell_type": "code",
   "execution_count": null,
   "id": "f0611d8e-da44-4a5b-82bb-53eb73914efe",
   "metadata": {
    "scrolled": true
   },
   "outputs": [],
   "source": [
    "# Create Figure and Select Background Tiles\n",
    "\n",
    "fig = Figure(width=\"750px\", height=\"375px\")\n",
    "map1 = folium.Map(tiles='https://mt1.google.com/vt/lyrs=y&x={x}&y={y}&z={z}', attr='Google')\n",
    "fig.add_child(map1)\n",
    "\n",
    "# Plot Region of Interest\n",
    "romo.explore(\n",
    "    popup=False,\n",
    "    style_kwds=dict(fillOpacity=0.1, width=2),\n",
    "    name=\"Region of Interest\",\n",
    "    m=map1\n",
    ")\n",
    "\n",
    "filtered_results.drop(columns=['datetime_obj']).explore(\n",
    "    \"granule\",\n",
    "    categorical=True,\n",
    "    tooltip=[\n",
    "        \"granule\",\n",
    "        \"start_datetime\",\n",
    "    ],\n",
    "    popup=True,\n",
    "    style_kwds=dict(fillOpacity=0.1, width=2),\n",
    "    name=\"ECOSTRESS\",\n",
    "    m=map1,\n",
    "    legend=False\n",
    ")\n",
    "\n",
    "map1.fit_bounds(bounds=convert_bounds(results_gdf.unary_union.bounds))\n",
    "map1.add_child(folium.LayerControl())\n",
    "display(fig)"
   ]
  },
  {
   "cell_type": "markdown",
   "id": "4196005d-1860-408d-a094-992234eed0d7",
   "metadata": {},
   "source": [
    "Now we can filter the granules to find ones which fully overlap the RMNP boundary."
   ]
  },
  {
   "cell_type": "code",
   "execution_count": null,
   "id": "62502be9-12e8-4e30-9377-ab263c0ddb07",
   "metadata": {},
   "outputs": [],
   "source": [
    "# Spatial filtering\n",
    "filtered_asset_links = []\n",
    "print(results_gdf['data_link'])\n",
    "# Pick Desired Assets (leave _ on RFL to distinguish from RFLUNC, LST. to distinguish from LST_err)\n",
    "desired_assets = ['LST.'] # Add more or do individually for reflectance, reflectance uncertainty, or mask\n",
    "# Step through each sublist (granule) and filter based on desired assets.\n",
    "for n, granule in enumerate(results_gdf['data_link']):\n",
    "    for url in granule: \n",
    "        asset_name = url.split('/')[-1]\n",
    "        if any(asset in asset_name for asset in desired_assets):\n",
    "            filtered_asset_links.append(url)\n",
    "filtered_asset_links"
   ]
  },
  {
   "cell_type": "markdown",
   "id": "daffd3f6-d33a-41dc-83b5-86ec3ec1d208",
   "metadata": {},
   "source": [
    "### Analyzing the ECOSTRESS data in the cloud\n",
    "\n",
    "We now have a list of ECOSTRESS granules for our study region. We can now leverage the capabilities for analyzing data in the cloud using the ECOSTRESS Cloud-optimized GeoTiff (COG) formats. ... more info here ...\n",
    "\n",
    "For example, we can create a median LSTE composite for RMNP for Spring and Fall."
   ]
  },
  {
   "cell_type": "code",
   "execution_count": null,
   "id": "7c20e1d1-f8d8-43fe-bd56-b16db0e15d93",
   "metadata": {},
   "outputs": [],
   "source": [
    "print(results_gdf['season'].unique())"
   ]
  },
  {
   "cell_type": "code",
   "execution_count": null,
   "id": "cd137268-5d41-4702-a163-551069db161a",
   "metadata": {},
   "outputs": [],
   "source": [
    "print(results_gdf['data_link'][0])\n",
    "\n",
    "cog_urls = results_gdf['data_link'][0]\n",
    "\n",
    "# Stream and process the data\n",
    "for cog_url in cog_urls:\n",
    "    with rio.open(cog_url) as src:\n",
    "        # Read the entire COG\n",
    "        array = src.read(1)  # Reading the first band\n",
    "\n",
    "        # Process the array (e.g., calculate statistics or apply filters)\n",
    "        mean_temp = np.mean(array)\n",
    "        print(f\"Mean temperature for granule: {mean_temp}\")\n",
    "\n",
    "        # Optionally, visualize the data\n",
    "        plt.imshow(array, cmap='hot')\n",
    "        plt.colorbar()\n",
    "        plt.title(\"ECOSTRESS Land Surface Temperature\")\n",
    "        plt.show()"
   ]
  }
 ],
 "metadata": {
  "kernelspec": {
   "display_name": "hyr-sense",
   "language": "python",
   "name": "hyr-sense"
  },
  "language_info": {
   "codemirror_mode": {
    "name": "ipython",
    "version": 3
   },
   "file_extension": ".py",
   "mimetype": "text/x-python",
   "name": "python",
   "nbconvert_exporter": "python",
   "pygments_lexer": "ipython3",
   "version": "3.10.14"
  }
 },
 "nbformat": 4,
 "nbformat_minor": 5
}
