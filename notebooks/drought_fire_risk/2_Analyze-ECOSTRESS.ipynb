{
 "cells": [
  {
   "cell_type": "markdown",
   "id": "3913b6f7-e243-4003-9cf1-7153866c154b",
   "metadata": {},
   "source": [
    "## Relationship between LSTE and ESI and Wildfire Burn Probability\n",
    "\n",
    "To examine the capability for ECOSTRESS data to understand drought conditions and wildfire risk in Rocky Mountain National Park (RMNP), we will use our LST and ESI data to look at how surface temperatures are related to vegetation drought stress and how this correlates to different land cover types.\n",
    "\n",
    "More intro here.\n",
    "\n",
    "#### Step 1. Setup the notebook\n",
    "\n",
    "As before, we need to import the required Python packages and define some environment variables (coordinate systems, file paths). "
   ]
  },
  {
   "cell_type": "code",
   "execution_count": null,
   "id": "36a61af7-d8cd-486f-a192-ef30d9859533",
   "metadata": {},
   "outputs": [],
   "source": []
  },
  {
   "cell_type": "markdown",
   "id": "d7aa1f9c-fe3a-42a5-abba-a7624344436c",
   "metadata": {},
   "source": [
    "#### Step 2. Read in the data\n",
    "\n",
    "Now we can read in our ECOSTRESS LST and ESI data from the previous notebook"
   ]
  },
  {
   "cell_type": "code",
   "execution_count": null,
   "id": "f19adabd-95d7-4939-a4a8-eb5be1e11acb",
   "metadata": {},
   "outputs": [],
   "source": []
  },
  {
   "cell_type": "markdown",
   "id": "055ebc09-3715-4a39-9533-699f73564bcf",
   "metadata": {},
   "source": [
    "#### Step 3. Create a raster data stack\n",
    "\n",
    "Now we want to create a data stack with our raster inputs. "
   ]
  },
  {
   "cell_type": "code",
   "execution_count": null,
   "id": "d6682454-d2fe-4511-855c-0522eaea2620",
   "metadata": {},
   "outputs": [],
   "source": []
  },
  {
   "cell_type": "markdown",
   "id": "a2bb5667-455a-48f6-b946-ffa5bb3df21f",
   "metadata": {},
   "source": [
    "#### Step 4. Test the relationship between LST and ESI\n",
    "\n",
    "In the sections below, we will examine the relationship between LST and ESI within our study area. To do this, we will create a scatter plot of the pixel values for the entire study region and then again across major land cover types."
   ]
  }
 ],
 "metadata": {
  "kernelspec": {
   "display_name": "hyr-sense",
   "language": "python",
   "name": "hyr-sense"
  },
  "language_info": {
   "codemirror_mode": {
    "name": "ipython",
    "version": 3
   },
   "file_extension": ".py",
   "mimetype": "text/x-python",
   "name": "python",
   "nbconvert_exporter": "python",
   "pygments_lexer": "ipython3",
   "version": "3.10.14"
  }
 },
 "nbformat": 4,
 "nbformat_minor": 5
}
