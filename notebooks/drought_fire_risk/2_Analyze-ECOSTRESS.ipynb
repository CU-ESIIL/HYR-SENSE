{
 "cells": [
  {
   "cell_type": "markdown",
   "id": "3913b6f7-e243-4003-9cf1-7153866c154b",
   "metadata": {},
   "source": [
    "## Relationship between LSTE and ESI and Wildfire Burn Probability"
   ]
  },
  {
   "cell_type": "code",
   "execution_count": null,
   "id": "36a61af7-d8cd-486f-a192-ef30d9859533",
   "metadata": {},
   "outputs": [],
   "source": []
  }
 ],
 "metadata": {
  "kernelspec": {
   "display_name": "hyr-sense",
   "language": "python",
   "name": "hyr-sense"
  },
  "language_info": {
   "codemirror_mode": {
    "name": "ipython",
    "version": 3
   },
   "file_extension": ".py",
   "mimetype": "text/x-python",
   "name": "python",
   "nbconvert_exporter": "python",
   "pygments_lexer": "ipython3",
   "version": "3.10.14"
  }
 },
 "nbformat": 4,
 "nbformat_minor": 5
}
