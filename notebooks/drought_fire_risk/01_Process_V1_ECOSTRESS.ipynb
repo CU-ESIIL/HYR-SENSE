{
 "cells": [
  {
   "cell_type": "markdown",
   "id": "a4c2ddff-d80e-4ec1-acf1-c9c556c90c02",
   "metadata": {},
   "source": [
    "## Processing Version 001 ECOSTRESS Data: Swath to Grid \n",
    "\n",
    "In this notebook, we convert the raw ECOSTRESS version 001 product to a grid."
   ]
  },
  {
   "cell_type": "code",
   "execution_count": 57,
   "id": "199c10ed-dff2-439c-9faf-95cf74327297",
   "metadata": {},
   "outputs": [
    {
     "name": "stdout",
     "output_type": "stream",
     "text": [
      "Collecting pyresample\n",
      "  Downloading pyresample-1.28.3-cp311-cp311-manylinux_2_17_x86_64.manylinux2014_x86_64.whl.metadata (4.8 kB)\n",
      "Requirement already satisfied: setuptools>=3.2 in /opt/conda/lib/python3.11/site-packages (from pyresample) (69.5.1)\n",
      "Collecting pyproj>=3.0 (from pyresample)\n",
      "  Downloading pyproj-3.6.1-cp311-cp311-manylinux_2_17_x86_64.manylinux2014_x86_64.whl.metadata (31 kB)\n",
      "Collecting configobj (from pyresample)\n",
      "  Downloading configobj-5.0.8-py2.py3-none-any.whl.metadata (3.4 kB)\n",
      "Collecting pykdtree>=1.3.1 (from pyresample)\n",
      "  Downloading pykdtree-1.3.12-cp311-cp311-manylinux_2_17_x86_64.manylinux2014_x86_64.whl.metadata (8.6 kB)\n",
      "Requirement already satisfied: pyyaml in /opt/conda/lib/python3.11/site-packages (from pyresample) (6.0.1)\n",
      "Collecting numpy>=1.21.0 (from pyresample)\n",
      "  Downloading numpy-1.26.4-cp311-cp311-manylinux_2_17_x86_64.manylinux2014_x86_64.whl.metadata (61 kB)\n",
      "\u001b[2K     \u001b[90m━━━━━━━━━━━━━━━━━━━━━━━━━━━━━━━━━━━━━━━━\u001b[0m \u001b[32m61.0/61.0 kB\u001b[0m \u001b[31m12.6 MB/s\u001b[0m eta \u001b[36m0:00:00\u001b[0m\n",
      "\u001b[?25hCollecting shapely (from pyresample)\n",
      "  Downloading shapely-2.0.4-cp311-cp311-manylinux_2_17_x86_64.manylinux2014_x86_64.whl.metadata (7.0 kB)\n",
      "Collecting donfig (from pyresample)\n",
      "  Downloading donfig-0.8.1.post1-py3-none-any.whl.metadata (5.0 kB)\n",
      "Requirement already satisfied: platformdirs in /opt/conda/lib/python3.11/site-packages (from pyresample) (4.2.0)\n",
      "Requirement already satisfied: certifi in /opt/conda/lib/python3.11/site-packages (from pyproj>=3.0->pyresample) (2024.2.2)\n",
      "Requirement already satisfied: six in /opt/conda/lib/python3.11/site-packages (from configobj->pyresample) (1.16.0)\n",
      "Downloading pyresample-1.28.3-cp311-cp311-manylinux_2_17_x86_64.manylinux2014_x86_64.whl (4.5 MB)\n",
      "\u001b[2K   \u001b[90m━━━━━━━━━━━━━━━━━━━━━━━━━━━━━━━━━━━━━━━━\u001b[0m \u001b[32m4.5/4.5 MB\u001b[0m \u001b[31m9.7 MB/s\u001b[0m eta \u001b[36m0:00:00\u001b[0mta \u001b[36m0:00:01\u001b[0m\n",
      "\u001b[?25hDownloading numpy-1.26.4-cp311-cp311-manylinux_2_17_x86_64.manylinux2014_x86_64.whl (18.3 MB)\n",
      "\u001b[2K   \u001b[90m━━━━━━━━━━━━━━━━━━━━━━━━━━━━━━━━━━━━━━━━\u001b[0m \u001b[32m18.3/18.3 MB\u001b[0m \u001b[31m94.6 MB/s\u001b[0m eta \u001b[36m0:00:00\u001b[0m:00:01\u001b[0m00:01\u001b[0m\n",
      "\u001b[?25hDownloading pykdtree-1.3.12-cp311-cp311-manylinux_2_17_x86_64.manylinux2014_x86_64.whl (365 kB)\n",
      "\u001b[2K   \u001b[90m━━━━━━━━━━━━━━━━━━━━━━━━━━━━━━━━━━━━━━━\u001b[0m \u001b[32m365.7/365.7 kB\u001b[0m \u001b[31m111.7 MB/s\u001b[0m eta \u001b[36m0:00:00\u001b[0m\n",
      "\u001b[?25hDownloading pyproj-3.6.1-cp311-cp311-manylinux_2_17_x86_64.manylinux2014_x86_64.whl (8.6 MB)\n",
      "\u001b[2K   \u001b[90m━━━━━━━━━━━━━━━━━━━━━━━━━━━━━━━━━━━━━━━━\u001b[0m \u001b[32m8.6/8.6 MB\u001b[0m \u001b[31m122.8 MB/s\u001b[0m eta \u001b[36m0:00:00\u001b[0m00:01\u001b[0m00:01\u001b[0m\n",
      "\u001b[?25hDownloading configobj-5.0.8-py2.py3-none-any.whl (36 kB)\n",
      "Downloading donfig-0.8.1.post1-py3-none-any.whl (21 kB)\n",
      "Downloading shapely-2.0.4-cp311-cp311-manylinux_2_17_x86_64.manylinux2014_x86_64.whl (2.5 MB)\n",
      "\u001b[2K   \u001b[90m━━━━━━━━━━━━━━━━━━━━━━━━━━━━━━━━━━━━━━━━\u001b[0m \u001b[32m2.5/2.5 MB\u001b[0m \u001b[31m112.8 MB/s\u001b[0m eta \u001b[36m0:00:00\u001b[0m\n",
      "\u001b[?25hInstalling collected packages: pyproj, numpy, donfig, configobj, shapely, pykdtree, pyresample\n",
      "Successfully installed configobj-5.0.8 donfig-0.8.1.post1 numpy-1.26.4 pykdtree-1.3.12 pyproj-3.6.1 pyresample-1.28.3 shapely-2.0.4\n"
     ]
    }
   ],
   "source": [
    "!pip install pyresample"
   ]
  },
  {
   "cell_type": "code",
   "execution_count": 59,
   "id": "30536e00-5bc7-4f2b-8383-7387c0afd574",
   "metadata": {},
   "outputs": [
    {
     "ename": "ModuleNotFoundError",
     "evalue": "No module named 'pyresample'",
     "output_type": "error",
     "traceback": [
      "\u001b[0;31m---------------------------------------------------------------------------\u001b[0m",
      "\u001b[0;31mModuleNotFoundError\u001b[0m                       Traceback (most recent call last)",
      "Cell \u001b[0;32mIn[59], line 18\u001b[0m\n\u001b[1;32m     16\u001b[0m \u001b[38;5;28;01mfrom\u001b[39;00m \u001b[38;5;21;01mmatplotlib\u001b[39;00m \u001b[38;5;28;01mimport\u001b[39;00m pyplot \u001b[38;5;28;01mas\u001b[39;00m plt\n\u001b[1;32m     17\u001b[0m \u001b[38;5;28;01mfrom\u001b[39;00m \u001b[38;5;21;01maffine\u001b[39;00m \u001b[38;5;28;01mimport\u001b[39;00m Affine\n\u001b[0;32m---> 18\u001b[0m \u001b[38;5;28;01mfrom\u001b[39;00m \u001b[38;5;21;01mpyresample\u001b[39;00m \u001b[38;5;28;01mimport\u001b[39;00m geometry \u001b[38;5;28;01mas\u001b[39;00m geom\n\u001b[1;32m     20\u001b[0m \u001b[38;5;66;03m# Projection information\u001b[39;00m\n\u001b[1;32m     21\u001b[0m geog \u001b[38;5;241m=\u001b[39m \u001b[38;5;124m'\u001b[39m\u001b[38;5;124mEPSG:4326\u001b[39m\u001b[38;5;124m'\u001b[39m  \u001b[38;5;66;03m# Geographic projection\u001b[39;00m\n",
      "\u001b[0;31mModuleNotFoundError\u001b[0m: No module named 'pyresample'"
     ]
    }
   ],
   "source": [
    "\"\"\"\n",
    "Load the necessary packages and set environment variables\n",
    "\"\"\"\n",
    "\n",
    "# Import packages\n",
    "import os, shutil, time, glob, warnings\n",
    "import folium\n",
    "import earthaccess\n",
    "import pandas as pd\n",
    "import geopandas as gpd\n",
    "import rasterio as rio\n",
    "import rioxarray as rxr\n",
    "import h5py\n",
    "import xarray as xr\n",
    "import numpy as np\n",
    "from matplotlib import pyplot as plt\n",
    "from affine import Affine\n",
    "from pyresample import geometry as geom\n",
    "\n",
    "# Projection information\n",
    "geog = 'EPSG:4326'  # Geographic projection\n",
    "prj = 'EPSG:5070'  # Projected coordinate system- WGS 84 NAD83 UTM Zone 13N\n",
    "\n",
    "# File path information\n",
    "datadir = '/data-store/iplant/home/shared/esiil/HYR_SENSE/'\n",
    "\n",
    "# File path information\n",
    "print(\"Success\")"
   ]
  },
  {
   "cell_type": "code",
   "execution_count": 47,
   "id": "86ab3fcd-dd48-40a4-9ba6-f9ed833b2e65",
   "metadata": {},
   "outputs": [
    {
     "name": "stdout",
     "output_type": "stream",
     "text": [
      "['/home/jovyan/HYR-SENSE/data/Drought-FireRisk/ECO2LSTE/ECOSTRESS_L2_LSTE_11158_004_20200624T121534_0601_01.h5', '/home/jovyan/HYR-SENSE/data/Drought-FireRisk/ECO4ESIPTJPL/ECOSTRESS_L4_ESI_PT-JPL_11158_004_20200624T121534_0601_01.h5', '/home/jovyan/HYR-SENSE/data/Drought-FireRisk/ECO1BGEO/ECOSTRESS_L1B_GEO_11158_004_20200624T121534_0601_01.h5']\n"
     ]
    }
   ],
   "source": [
    "ecodir = '/home/jovyan/HYR-SENSE/data/Drought-FireRisk/'\n",
    "\n",
    "def list_files(path, ext, recursive):\n",
    "    \"\"\"\n",
    "    List files of a specific type in a directory or subdirectories\n",
    "    \"\"\"\n",
    "    if recursive is True:\n",
    "        return glob.glob(os.path.join(path, '**', '*{}'.format(ext)), recursive=True)\n",
    "    else:\n",
    "        return glob.glob(os.path.join(path, '*{}'.format(ext)), recursive=False)\n",
    "\n",
    "# Get a list of .nc files\n",
    "nc_files = list_files(ecodir,\"*.h5\",recursive=True)\n",
    "print(nc_files)"
   ]
  },
  {
   "cell_type": "code",
   "execution_count": 48,
   "id": "cb7f2f83-593d-4d68-a9f9-052496485481",
   "metadata": {},
   "outputs": [
    {
     "name": "stdout",
     "output_type": "stream",
     "text": [
      "Contents of /home/jovyan/HYR-SENSE/data/Drought-FireRisk/ECO1BGEO/ECOSTRESS_L1B_GEO_11158_004_20200624T121534_0601_01.h5\n",
      "Geolocation\n",
      "    Projection: The latitude, longitude, and height are relative to the WGS-84\n",
      "ellipsoid. Specifically the projection used is described by\n",
      "the Well-Known Text (WKT):\n",
      "\n",
      "GEOGCS[\"WGS 84\",\n",
      "    DATUM[\"WGS_1984\",\n",
      "        SPHEROID[\"WGS 84\",6378137,298.257223563,\n",
      "            AUTHORITY[\"EPSG\",\"7030\"]],\n",
      "        AUTHORITY[\"EPSG\",\"6326\"]],\n",
      "    PRIMEM[\"Greenwich\",0],\n",
      "    UNIT[\"degree\",0.0174532925199433],\n",
      "    AUTHORITY[\"EPSG\",\"4326\"]]\n",
      "\n",
      "    Projection_WKT: GEOGCS[\"WGS 84\",\n",
      "    DATUM[\"WGS_1984\",\n",
      "        SPHEROID[\"WGS 84\",6378137,298.257223563,\n",
      "            AUTHORITY[\"EPSG\",\"7030\"]],\n",
      "        AUTHORITY[\"EPSG\",\"6326\"]],\n",
      "    PRIMEM[\"Greenwich\",0],\n",
      "    UNIT[\"degree\",0.0174532925199433],\n",
      "    AUTHORITY[\"EPSG\",\"4326\"]]\n",
      "\n",
      "Geolocation/height\n",
      "    Units: m\n",
      "Geolocation/land_fraction\n",
      "    Units: percentage\n",
      "    fill: -9999\n",
      "    valid_max: 100\n",
      "    valid_min: 0\n",
      "Geolocation/latitude\n",
      "    Units: degrees\n",
      "    valid_max: 90\n",
      "    valid_min: -90\n",
      "Geolocation/line_start_time_j2000\n",
      "    Description: J2000 time of first pixel in line\n",
      "    Units: second\n",
      "Geolocation/longitude\n",
      "    Units: degrees\n",
      "    valid_max: 180\n",
      "    valid_min: -180\n",
      "Geolocation/solar_azimuth\n",
      "    Units: degrees\n",
      "    valid_max: 180\n",
      "    valid_min: -180\n",
      "Geolocation/solar_zenith\n",
      "    Units: degrees\n",
      "    valid_max: 90\n",
      "    valid_min: -90\n",
      "Geolocation/view_azimuth\n",
      "    Units: degrees\n",
      "    valid_max: 180\n",
      "    valid_min: -180\n",
      "Geolocation/view_zenith\n",
      "    Units: degrees\n",
      "    valid_max: 90\n",
      "    valid_min: -90\n",
      "L1GEOMetadata\n",
      "L1GEOMetadata/AncillaryFiles\n",
      "L1GEOMetadata/AverageSolarZenith\n",
      "    Description: Average solar zenith angle for scene\n",
      "    Units: degrees\n",
      "    valid_max: 90\n",
      "    valid_min: -90\n",
      "L1GEOMetadata/OrbitCorrectionPerformed\n",
      "L1GEOMetadata/OverAllLandFraction\n",
      "    Description: Overall land fraction for scene\n",
      "    Units: percentage\n",
      "    valid_max: 100\n",
      "    valid_min: 0\n",
      "StandardMetadata\n",
      "StandardMetadata/AncillaryInputPointer\n",
      "StandardMetadata/AutomaticQualityFlag\n",
      "StandardMetadata/AutomaticQualityFlagExplanation\n",
      "StandardMetadata/BuildID\n",
      "StandardMetadata/CampaignShortName\n",
      "StandardMetadata/CollectionLabel\n",
      "StandardMetadata/DataFormatType\n",
      "StandardMetadata/DayNightFlag\n",
      "StandardMetadata/EastBoundingCoordinate\n",
      "StandardMetadata/HDFVersionID\n",
      "StandardMetadata/ImageLineSpacing\n",
      "StandardMetadata/ImageLines\n",
      "StandardMetadata/ImagePixelSpacing\n",
      "StandardMetadata/ImagePixels\n",
      "StandardMetadata/InputPointer\n",
      "StandardMetadata/InstrumentShortName\n",
      "StandardMetadata/LocalGranuleID\n",
      "StandardMetadata/LongName\n",
      "StandardMetadata/NorthBoundingCoordinate\n",
      "StandardMetadata/PGEName\n",
      "StandardMetadata/PGEVersion\n",
      "StandardMetadata/PlatformLongName\n",
      "StandardMetadata/PlatformShortName\n",
      "StandardMetadata/PlatformType\n",
      "StandardMetadata/ProcessingLevelDescription\n",
      "StandardMetadata/ProcessingLevelID\n",
      "StandardMetadata/ProducerAgency\n",
      "StandardMetadata/ProducerInstitution\n",
      "StandardMetadata/ProductionDateTime\n",
      "StandardMetadata/ProductionLocation\n",
      "StandardMetadata/RangeBeginningDate\n",
      "StandardMetadata/RangeBeginningTime\n",
      "StandardMetadata/RangeEndingDate\n",
      "StandardMetadata/RangeEndingTime\n",
      "StandardMetadata/RegionID\n",
      "StandardMetadata/SISName\n",
      "StandardMetadata/SISVersion\n",
      "StandardMetadata/SceneID\n",
      "StandardMetadata/ShortName\n",
      "StandardMetadata/SouthBoundingCoordinate\n",
      "StandardMetadata/StartOrbitNumber\n",
      "StandardMetadata/StopOrbitNumber\n",
      "StandardMetadata/WestBoundingCoordinate\n"
     ]
    }
   ],
   "source": [
    "# Function to open and print NetCDF items\n",
    "def read_h5_file(fp):\n",
    "    \n",
    "    def print_attrs(name, obj):\n",
    "        print(name)\n",
    "        for key, val in obj.attrs.items():\n",
    "            print(f\"    {key}: {val}\")\n",
    "            \n",
    "    with h5py.File(fp, 'r') as f:\n",
    "        print(f'Contents of {fp}')\n",
    "        f.visititems(print_attrs)\n",
    "\n",
    "# Open the first file to examine the contents\n",
    "read_h5_file(nc_files[2])"
   ]
  },
  {
   "cell_type": "code",
   "execution_count": 49,
   "id": "2d998119-608e-49e7-8ab4-cf873f4a73bb",
   "metadata": {},
   "outputs": [
    {
     "name": "stdout",
     "output_type": "stream",
     "text": [
      "/home/jovyan/HYR-SENSE/data/Drought-FireRisk/ECO2LSTE/ECOSTRESS_L2_LSTE_11158_004_20200624T121534_0601_01\n"
     ]
    }
   ],
   "source": [
    "f = h5py.File(nc_files[0])             # Read in ECOSTRESS HDF5 file\n",
    "ecoName = nc_files[0].split('.h5')[0]  # Keep original filename\n",
    "print(ecoName)"
   ]
  },
  {
   "cell_type": "code",
   "execution_count": 50,
   "id": "602314c7-4f42-42f0-8a7a-7e7bb752b80e",
   "metadata": {},
   "outputs": [
    {
     "name": "stdout",
     "output_type": "stream",
     "text": [
      "L2 LSTE Metadata/AncillaryNWP\n",
      "L2 LSTE Metadata/BandSpecification\n",
      "L2 LSTE Metadata/CloudMaxTemperature\n",
      "L2 LSTE Metadata/CloudMeanTemperature\n",
      "L2 LSTE Metadata/CloudMinTemperature\n",
      "L2 LSTE Metadata/CloudSDevTemperature\n",
      "L2 LSTE Metadata/Emis1GoodAvg\n",
      "L2 LSTE Metadata/Emis2GoodAvg\n",
      "L2 LSTE Metadata/Emis3GoodAvg\n",
      "L2 LSTE Metadata/Emis4GoodAvg\n"
     ]
    }
   ],
   "source": [
    "# Create a list of all SDS inside of the .h5 file\n",
    "eco_objs = []\n",
    "f.visit(eco_objs.append)\n",
    "ecoSDS = [str(obj) for obj in eco_objs if isinstance(f[obj], h5py.Dataset)] \n",
    "for dataset in ecoSDS[0:10]: \n",
    "    print(dataset)"
   ]
  },
  {
   "cell_type": "code",
   "execution_count": 51,
   "id": "902b1a7d-f43c-4c77-bf26-ecfaff6d01fb",
   "metadata": {},
   "outputs": [
    {
     "name": "stdout",
     "output_type": "stream",
     "text": [
      "['SDS/LST']\n",
      "LST\n"
     ]
    }
   ],
   "source": [
    "# Subset list to ETinst and ETinstUncertainty\n",
    "sds = ['LST']\n",
    "ecoSDS = [dataset for dataset in ecoSDS if dataset.endswith(tuple(sds))]\n",
    "print(ecoSDS)\n",
    "for dataset in ecoSDS:\n",
    "    print(dataset.split('/')[-1])"
   ]
  },
  {
   "cell_type": "code",
   "execution_count": 52,
   "id": "7a705cb3-1a90-4522-90af-d26305a479b3",
   "metadata": {},
   "outputs": [
    {
     "name": "stdout",
     "output_type": "stream",
     "text": [
      "['/home/jovyan/HYR-SENSE/data/Drought-FireRisk/ECO1BGEO/ECOSTRESS_L1B_GEO_11158_004_20200624T121534_0601_01.h5']\n"
     ]
    }
   ],
   "source": [
    "# Find the matching ECO1BGEO file from the file list\n",
    "geo = list_files(os.path.join(ecodir,'ECO1BGEO/'), ext=\"*.h5\",recursive=True)\n",
    "print(geo)"
   ]
  },
  {
   "cell_type": "code",
   "execution_count": 54,
   "id": "22cbbc66-b41b-4fd0-a15b-4f537f7316ae",
   "metadata": {},
   "outputs": [
    {
     "name": "stdout",
     "output_type": "stream",
     "text": [
      "(5632, 5400)\n"
     ]
    }
   ],
   "source": [
    "# Open Geo File\n",
    "g = h5py.File(geo[0])\n",
    "geo_objs = []\n",
    "g.visit(geo_objs.append)\n",
    "\n",
    "# Search for lat/lon SDS inside data file\n",
    "latSD = [str(obj) for obj in geo_objs if isinstance(g[obj], h5py.Dataset) and '/latitude' in obj]\n",
    "lonSD = [str(obj) for obj in geo_objs if isinstance(g[obj], h5py.Dataset) and '/longitude' in obj]\n",
    "\n",
    "# Open SDS as arrays\n",
    "lat = g[latSD[0]][()].astype(float)\n",
    "lon = g[lonSD[0]][()].astype(float)\n",
    "\n",
    "# Read the array dimensions\n",
    "dims = lat.shape\n",
    "print(dims)"
   ]
  },
  {
   "cell_type": "code",
   "execution_count": 55,
   "id": "19ff8684-344a-4b61-a727-8d32956c4433",
   "metadata": {},
   "outputs": [
    {
     "ename": "NameError",
     "evalue": "name 'geom' is not defined",
     "output_type": "error",
     "traceback": [
      "\u001b[0;31m---------------------------------------------------------------------------\u001b[0m",
      "\u001b[0;31mNameError\u001b[0m                                 Traceback (most recent call last)",
      "Cell \u001b[0;32mIn[55], line 2\u001b[0m\n\u001b[1;32m      1\u001b[0m \u001b[38;5;66;03m# Set swath definition from lat/lon arrays\u001b[39;00m\n\u001b[0;32m----> 2\u001b[0m swathDef \u001b[38;5;241m=\u001b[39m \u001b[43mgeom\u001b[49m\u001b[38;5;241m.\u001b[39mSwathDefinition(lons\u001b[38;5;241m=\u001b[39mlon, lats\u001b[38;5;241m=\u001b[39mlat)\n\u001b[1;32m      3\u001b[0m swathDef\u001b[38;5;241m.\u001b[39mcorners\n",
      "\u001b[0;31mNameError\u001b[0m: name 'geom' is not defined"
     ]
    }
   ],
   "source": [
    "# Set swath definition from lat/lon arrays\n",
    "swathDef = geom.SwathDefinition(lons=lon, lats=lat)\n",
    "swathDef.corners"
   ]
  },
  {
   "cell_type": "code",
   "execution_count": null,
   "id": "a4da54fa-f90f-44ae-ad58-8db5eff54844",
   "metadata": {},
   "outputs": [],
   "source": [
    "# Define the lat/lon for the middle of the swath\n",
    "mid = [int(lat.shape[1] / 2) - 1, int(lat.shape[0] / 2) - 1]\n",
    "midLat, midLon = lat[mid[0]][mid[1]], lon[mid[0]][mid[1]]\n",
    "midLat, midLon"
   ]
  },
  {
   "cell_type": "code",
   "execution_count": null,
   "id": "93508860-6b97-4c42-80b4-a298d7fc298e",
   "metadata": {},
   "outputs": [],
   "source": [
    "# Define AEQD projection centered at swath center\n",
    "epsgConvert = pyproj.Proj(\"+proj=aeqd +lat_0={} +lon_0={}\".format(midLat, midLon))\n",
    "\n",
    "# Use info from AEQD projection bbox to calculate output cols/rows/pixel size\n",
    "llLon, llLat = epsgConvert(np.min(lon), np.min(lat), inverse=False)\n",
    "urLon, urLat = epsgConvert(np.max(lon), np.max(lat), inverse=False)\n",
    "areaExtent = (llLon, llLat, urLon, urLat)\n",
    "cols = int(round((areaExtent[2] - areaExtent[0]) / 70))  # 70 m pixel size\n",
    "rows = int(round((areaExtent[3] - areaExtent[1]) / 70))"
   ]
  },
  {
   "cell_type": "code",
   "execution_count": null,
   "id": "c57ed079-16a4-47fc-b53a-cebe82fcbc8f",
   "metadata": {},
   "outputs": [],
   "source": [
    "# Define Geographic projection\n",
    "epsg, proj, pName = '4326', 'longlat', 'Geographic'\n",
    "\n",
    "# Define bounding box of swath\n",
    "llLon, llLat, urLon, urLat = np.min(lon), np.min(lat), np.max(lon), np.max(lat)\n",
    "areaExtent = (llLon, llLat, urLon, urLat)\n",
    "\n",
    "# Create area definition with estimated number of columns and rows\n",
    "projDict = pyproj.CRS(\"epsg:4326\")\n",
    "areaDef = geom.AreaDefinition(epsg, pName, proj, projDict, cols, rows, areaExtent)"
   ]
  },
  {
   "cell_type": "code",
   "execution_count": null,
   "id": "436c8f27-51f7-4fd4-be1d-735214f195b4",
   "metadata": {},
   "outputs": [],
   "source": [
    "# Square pixels and calculate output cols/rows\n",
    "ps = np.min([areaDef.pixel_size_x, areaDef.pixel_size_y])\n",
    "cols = int(round((areaExtent[2] - areaExtent[0]) / ps))\n",
    "rows = int(round((areaExtent[3] - areaExtent[1]) / ps))\n",
    "\n",
    "# Set up a new Geographic area definition with the refined cols/rows\n",
    "areaDef = geom.AreaDefinition(epsg, pName, proj, projDict, cols, rows, areaExtent)"
   ]
  },
  {
   "cell_type": "code",
   "execution_count": null,
   "id": "869d72c4-4249-4110-b91f-a9a516afb531",
   "metadata": {},
   "outputs": [],
   "source": [
    "# Get arrays with information about the nearest neighbor to each grid point \n",
    "index, outdex, indexArr, distArr = kdt.get_neighbour_info(swathDef, areaDef, 210, neighbours=1)"
   ]
  }
 ],
 "metadata": {
  "kernelspec": {
   "display_name": "hyr-sense",
   "language": "python",
   "name": "hyr-sense"
  },
  "language_info": {
   "codemirror_mode": {
    "name": "ipython",
    "version": 3
   },
   "file_extension": ".py",
   "mimetype": "text/x-python",
   "name": "python",
   "nbconvert_exporter": "python",
   "pygments_lexer": "ipython3",
   "version": "3.10.14"
  }
 },
 "nbformat": 4,
 "nbformat_minor": 5
}
