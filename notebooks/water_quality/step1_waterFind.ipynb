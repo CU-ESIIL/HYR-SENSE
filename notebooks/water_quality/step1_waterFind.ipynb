{
 "cells": [
  {
   "cell_type": "markdown",
   "id": "f210756e",
   "metadata": {
    "collapsed": true,
    "jupyter": {
     "outputs_hidden": true
    }
   },
   "source": [
    "# Water Quality Lesson 1: Locate Lakes and Reservoirs with In-Situ Measurements\n",
    "\n",
    "**Description**: In this notebook, we will select Colorado lakes and reservoirs that are detectable by EMIT and ECOSTRESS. We will sub-select the five largest lakes and reservoirs to ensure we have lots of water quality pixels to visualize. \n",
    "\n",
    "**Objectives**:\n",
    "1) Lea\n",
    "2) \n",
    "3) Lean how to extract ROI of interest\n",
    "\n",
    "**Bonus Activity**: If you have time, you can also subselect lakes and reservoirs with in-situ water quality measurements, such as water temperature and chlorophyll. This will help us compare the consistency between remote sensing measurements and measurements taken on the ground in future HYR-SENSE water quality notebooks.\n",
    "\n",
    "**Instructor: Kelly Luis, JPL (kelly.m.luis@jpl.nasa.gov)**"
   ]
  },
  {
   "cell_type": "code",
   "execution_count": 12,
   "id": "cf309110",
   "metadata": {},
   "outputs": [],
   "source": [
    "# Load Modules\n",
    "import geopandas as gpd # Open Shapefiles in Python \n",
    "import dataretrieval.nwis as nwis # Connect to USGS Water Quality Portal\n",
    "import matplotlib.pyplot as plt # Plotting Function\n",
    "import numpy as np"
   ]
  },
  {
   "cell_type": "markdown",
   "id": "9b827b44-1368-44c0-b08e-a6fa47625394",
   "metadata": {},
   "source": [
    "## Data Preparation"
   ]
  },
  {
   "cell_type": "code",
   "execution_count": 20,
   "id": "97d84b3c",
   "metadata": {},
   "outputs": [
    {
     "name": "stdout",
     "output_type": "stream",
     "text": [
      "7272\n"
     ]
    },
    {
     "data": {
      "text/html": [
       "<div>\n",
       "<style scoped>\n",
       "    .dataframe tbody tr th:only-of-type {\n",
       "        vertical-align: middle;\n",
       "    }\n",
       "\n",
       "    .dataframe tbody tr th {\n",
       "        vertical-align: top;\n",
       "    }\n",
       "\n",
       "    .dataframe thead th {\n",
       "        text-align: right;\n",
       "    }\n",
       "</style>\n",
       "<table border=\"1\" class=\"dataframe\">\n",
       "  <thead>\n",
       "    <tr style=\"text-align: right;\">\n",
       "      <th></th>\n",
       "      <th>OBJECTID</th>\n",
       "      <th>NAME</th>\n",
       "      <th>FTYPE</th>\n",
       "      <th>FCODE</th>\n",
       "      <th>FCODE_DESC</th>\n",
       "      <th>SQKM</th>\n",
       "      <th>SQMI</th>\n",
       "      <th>geometry</th>\n",
       "    </tr>\n",
       "  </thead>\n",
       "  <tbody>\n",
       "    <tr>\n",
       "      <th>0</th>\n",
       "      <td>31720</td>\n",
       "      <td>None</td>\n",
       "      <td>Stream/River</td>\n",
       "      <td>46006</td>\n",
       "      <td>Stream/River: Hydrographic Category = Perennial</td>\n",
       "      <td>8.53</td>\n",
       "      <td>3.29</td>\n",
       "      <td>POLYGON ((-107.75863 40.39502, -107.75893 40.3...</td>\n",
       "    </tr>\n",
       "    <tr>\n",
       "      <th>1</th>\n",
       "      <td>31721</td>\n",
       "      <td>None</td>\n",
       "      <td>Lake/Pond</td>\n",
       "      <td>39001</td>\n",
       "      <td>Lake/Pond: Hydrographic Category = Intermittent</td>\n",
       "      <td>0.03</td>\n",
       "      <td>0.01</td>\n",
       "      <td>POLYGON ((-107.92224 40.44486, -107.92251 40.4...</td>\n",
       "    </tr>\n",
       "    <tr>\n",
       "      <th>2</th>\n",
       "      <td>31722</td>\n",
       "      <td>None</td>\n",
       "      <td>Lake/Pond</td>\n",
       "      <td>39001</td>\n",
       "      <td>Lake/Pond: Hydrographic Category = Intermittent</td>\n",
       "      <td>0.02</td>\n",
       "      <td>0.01</td>\n",
       "      <td>POLYGON ((-107.85354 40.33381, -107.85357 40.3...</td>\n",
       "    </tr>\n",
       "    <tr>\n",
       "      <th>3</th>\n",
       "      <td>31723</td>\n",
       "      <td>None</td>\n",
       "      <td>Lake/Pond</td>\n",
       "      <td>39004</td>\n",
       "      <td>Lake/Pond: Hydrographic Category = Perennial</td>\n",
       "      <td>0.14</td>\n",
       "      <td>0.06</td>\n",
       "      <td>POLYGON ((-108.35394 40.59423, -108.35406 40.5...</td>\n",
       "    </tr>\n",
       "    <tr>\n",
       "      <th>4</th>\n",
       "      <td>31724</td>\n",
       "      <td>None</td>\n",
       "      <td>Lake/Pond</td>\n",
       "      <td>39001</td>\n",
       "      <td>Lake/Pond: Hydrographic Category = Intermittent</td>\n",
       "      <td>0.01</td>\n",
       "      <td>0.01</td>\n",
       "      <td>POLYGON ((-108.27277 40.54833, -108.27307 40.5...</td>\n",
       "    </tr>\n",
       "  </tbody>\n",
       "</table>\n",
       "</div>"
      ],
      "text/plain": [
       "   OBJECTID  NAME         FTYPE  FCODE  \\\n",
       "0     31720  None  Stream/River  46006   \n",
       "1     31721  None     Lake/Pond  39001   \n",
       "2     31722  None     Lake/Pond  39001   \n",
       "3     31723  None     Lake/Pond  39004   \n",
       "4     31724  None     Lake/Pond  39001   \n",
       "\n",
       "                                        FCODE_DESC  SQKM  SQMI  \\\n",
       "0  Stream/River: Hydrographic Category = Perennial  8.53  3.29   \n",
       "1  Lake/Pond: Hydrographic Category = Intermittent  0.03  0.01   \n",
       "2  Lake/Pond: Hydrographic Category = Intermittent  0.02  0.01   \n",
       "3     Lake/Pond: Hydrographic Category = Perennial  0.14  0.06   \n",
       "4  Lake/Pond: Hydrographic Category = Intermittent  0.01  0.01   \n",
       "\n",
       "                                            geometry  \n",
       "0  POLYGON ((-107.75863 40.39502, -107.75893 40.3...  \n",
       "1  POLYGON ((-107.92224 40.44486, -107.92251 40.4...  \n",
       "2  POLYGON ((-107.85354 40.33381, -107.85357 40.3...  \n",
       "3  POLYGON ((-108.35394 40.59423, -108.35406 40.5...  \n",
       "4  POLYGON ((-108.27277 40.54833, -108.27307 40.5...  "
      ]
     },
     "execution_count": 20,
     "metadata": {},
     "output_type": "execute_result"
    }
   ],
   "source": [
    "# Load Geopandas File with Lakes and Reservoirs\n",
    "lr_gdf = gpd.read_file('data/co_lr/co_lr.shp')\n",
    "print(len(lr_gdf))\n",
    "\n",
    "# Visualize First 5 Entries\n",
    "lr_gdf.head()"
   ]
  },
  {
   "cell_type": "code",
   "execution_count": 57,
   "id": "0c2b1810-3b51-4be8-a172-7adcee4ef65f",
   "metadata": {},
   "outputs": [],
   "source": [
    "# Subselect for Lake/Pond and Reservoir, Order by Size, Drop NA rows\n",
    "sub_gdf = lr_gdf[lr_gdf['FTYPE'].isin({'Lake/Pond', 'Reservoir'})].sort_values('SQKM', ascending=False).dropna()"
   ]
  },
  {
   "cell_type": "code",
   "execution_count": 56,
   "id": "2e0cbc18-b507-482b-bc36-03dc6291d5dc",
   "metadata": {},
   "outputs": [
    {
     "data": {
      "text/html": [
       "<div>\n",
       "<style scoped>\n",
       "    .dataframe tbody tr th:only-of-type {\n",
       "        vertical-align: middle;\n",
       "    }\n",
       "\n",
       "    .dataframe tbody tr th {\n",
       "        vertical-align: top;\n",
       "    }\n",
       "\n",
       "    .dataframe thead th {\n",
       "        text-align: right;\n",
       "    }\n",
       "</style>\n",
       "<table border=\"1\" class=\"dataframe\">\n",
       "  <thead>\n",
       "    <tr style=\"text-align: right;\">\n",
       "      <th></th>\n",
       "      <th>OBJECTID</th>\n",
       "      <th>NAME</th>\n",
       "      <th>FTYPE</th>\n",
       "      <th>FCODE</th>\n",
       "      <th>FCODE_DESC</th>\n",
       "      <th>SQKM</th>\n",
       "      <th>SQMI</th>\n",
       "      <th>geometry</th>\n",
       "    </tr>\n",
       "  </thead>\n",
       "  <tbody>\n",
       "    <tr>\n",
       "      <th>653</th>\n",
       "      <td>33687</td>\n",
       "      <td>Navajo Reservoir</td>\n",
       "      <td>Lake/Pond</td>\n",
       "      <td>39009</td>\n",
       "      <td>Lake/Pond: Hydrographic Category = Perennial; ...</td>\n",
       "      <td>62.23</td>\n",
       "      <td>24.03</td>\n",
       "      <td>MULTIPOLYGON (((-107.40077 37.00001, -107.4028...</td>\n",
       "    </tr>\n",
       "    <tr>\n",
       "      <th>6600</th>\n",
       "      <td>43123</td>\n",
       "      <td>Meredith, Lake</td>\n",
       "      <td>Lake/Pond</td>\n",
       "      <td>39009</td>\n",
       "      <td>Lake/Pond: Hydrographic Category = Perennial; ...</td>\n",
       "      <td>22.39</td>\n",
       "      <td>8.65</td>\n",
       "      <td>POLYGON ((-103.73971 38.15313, -103.73994 38.1...</td>\n",
       "    </tr>\n",
       "    <tr>\n",
       "      <th>2954</th>\n",
       "      <td>37396</td>\n",
       "      <td>Dillon Reservoir</td>\n",
       "      <td>Lake/Pond</td>\n",
       "      <td>39010</td>\n",
       "      <td>Lake/Pond: Hydrographic Category = Perennial; ...</td>\n",
       "      <td>12.94</td>\n",
       "      <td>4.99</td>\n",
       "      <td>POLYGON ((-106.04899 39.56965, -106.04904 39.5...</td>\n",
       "    </tr>\n",
       "    <tr>\n",
       "      <th>7076</th>\n",
       "      <td>43606</td>\n",
       "      <td>Neenoshe Reservoir</td>\n",
       "      <td>Lake/Pond</td>\n",
       "      <td>39009</td>\n",
       "      <td>Lake/Pond: Hydrographic Category = Perennial; ...</td>\n",
       "      <td>12.82</td>\n",
       "      <td>4.95</td>\n",
       "      <td>POLYGON ((-102.67934 38.35004, -102.67838 38.3...</td>\n",
       "    </tr>\n",
       "    <tr>\n",
       "      <th>1674</th>\n",
       "      <td>34797</td>\n",
       "      <td>Elevenmile Canyon Reservoir</td>\n",
       "      <td>Lake/Pond</td>\n",
       "      <td>39010</td>\n",
       "      <td>Lake/Pond: Hydrographic Category = Perennial; ...</td>\n",
       "      <td>12.63</td>\n",
       "      <td>4.88</td>\n",
       "      <td>POLYGON ((-105.47853 38.89399, -105.47899 38.8...</td>\n",
       "    </tr>\n",
       "  </tbody>\n",
       "</table>\n",
       "</div>"
      ],
      "text/plain": [
       "      OBJECTID                         NAME      FTYPE  FCODE  \\\n",
       "653      33687             Navajo Reservoir  Lake/Pond  39009   \n",
       "6600     43123               Meredith, Lake  Lake/Pond  39009   \n",
       "2954     37396             Dillon Reservoir  Lake/Pond  39010   \n",
       "7076     43606           Neenoshe Reservoir  Lake/Pond  39009   \n",
       "1674     34797  Elevenmile Canyon Reservoir  Lake/Pond  39010   \n",
       "\n",
       "                                             FCODE_DESC   SQKM   SQMI  \\\n",
       "653   Lake/Pond: Hydrographic Category = Perennial; ...  62.23  24.03   \n",
       "6600  Lake/Pond: Hydrographic Category = Perennial; ...  22.39   8.65   \n",
       "2954  Lake/Pond: Hydrographic Category = Perennial; ...  12.94   4.99   \n",
       "7076  Lake/Pond: Hydrographic Category = Perennial; ...  12.82   4.95   \n",
       "1674  Lake/Pond: Hydrographic Category = Perennial; ...  12.63   4.88   \n",
       "\n",
       "                                               geometry  \n",
       "653   MULTIPOLYGON (((-107.40077 37.00001, -107.4028...  \n",
       "6600  POLYGON ((-103.73971 38.15313, -103.73994 38.1...  \n",
       "2954  POLYGON ((-106.04899 39.56965, -106.04904 39.5...  \n",
       "7076  POLYGON ((-102.67934 38.35004, -102.67838 38.3...  \n",
       "1674  POLYGON ((-105.47853 38.89399, -105.47899 38.8...  "
      ]
     },
     "execution_count": 56,
     "metadata": {},
     "output_type": "execute_result"
    },
    {
     "data": {
      "image/png": "[encoded data removed]",
      "text/plain": [
       "<Figure size 640x480 with 1 Axes>"
      ]
     },
     "metadata": {},
     "output_type": "display_data"
    }
   ],
   "source": [
    "# Look at spatial area of lakes and reservoirs\n",
    "plt.hist(sub_gdf.SQKM)\n",
    "sub_gdf.head(n=5)"
   ]
  },
  {
   "cell_type": "code",
   "execution_count": 61,
   "id": "f53a862b-11db-4d89-8f76-f781f7b12882",
   "metadata": {},
   "outputs": [
    {
     "data": {
      "text/plain": [
       "<Axes: >"
      ]
     },
     "execution_count": 61,
     "metadata": {},
     "output_type": "execute_result"
    },
    {
     "data": {
      "image/png": "[encoded data removed]",
      "text/plain": [
       "<Figure size 640x480 with 1 Axes>"
      ]
     },
     "metadata": {},
     "output_type": "display_data"
    }
   ],
   "source": [
    "# Visualize Based on Lake Name\n",
    "lake_name = 'Neenoshe Reservoir'\n",
    "sub_gdf[sub_gdf['NAME'] == lake_name].plot()"
   ]
  },
  {
   "cell_type": "code",
   "execution_count": 63,
   "id": "927174d8-dafb-48e7-a0c3-4deae404276b",
   "metadata": {},
   "outputs": [],
   "source": [
    "# Save Neenoshe Reservoir\n",
    "sub_gdf[sub_gdf['NAME'] == lake_name].to_file('~/PycharmProjects/HYR-SENSE/notebooks/water_quality/data/neenoshe_file.shp', driver='ESRI Shapefile')"
   ]
  }
 ],
 "metadata": {
  "kernelspec": {
   "display_name": "venv",
   "language": "python",
   "name": "venv"
  },
  "language_info": {
   "codemirror_mode": {
    "name": "ipython",
    "version": 3
   },
   "file_extension": ".py",
   "mimetype": "text/x-python",
   "name": "python",
   "nbconvert_exporter": "python",
   "pygments_lexer": "ipython3",
   "version": "3.9.13"
  }
 },
 "nbformat": 4,
 "nbformat_minor": 5
}
