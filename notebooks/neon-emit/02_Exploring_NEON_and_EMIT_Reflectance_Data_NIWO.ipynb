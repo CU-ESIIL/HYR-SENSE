{
 "cells": [
  {
   "cell_type": "markdown",
   "metadata": {
    "tags": []
   },
   "source": [
    "# 2 Working with EMIT L2A Reflectance and NEON L3 Directional Reflectance Data\n",
    "\n",
    "**Summary**  \n",
    "\n",
    "In the previous notebook, we found and downloaded concurrent EMIT L2A Reflectance and NEON L3 Airborne Reflectance data over the NEON Niwot Ridge site in Colorado. In this notebook, we will open and explore both datasets to better understand the structure, then we will conduct some common preprocessing routines to work with the data together, including: applying quality data information, reprojecting, placing data on a common grid, and cropping. \n",
    "\n",
    "<div>\n",
    "<img src=\"./NEON_NIWO_EMIT_Concurrent_Data_Clear.PNG\" width=\"750\"/>\n",
    "</div>\n",
    "\n",
    "**Background**\n",
    "\n",
    "The **EMIT** instrument is an imaging spectrometer that measures light in visible and infrared wavelengths. These measurements display unique spectral signatures that correspond to the composition on the Earth's surface. The EMIT mission focuses specifically on mapping the composition of minerals to better understand the effects of mineral dust throughout the Earth system and human populations now and in the future. In addition, the EMIT instrument can be used in other applications, such as mapping of greenhouse gases, snow properties, and water resources.\n",
    "\n",
    "More details about EMIT and its associated products can be found on the [EMIT website](https://earth.jpl.nasa.gov/emit/) and [EMIT product pages](https://lpdaac.usgs.gov/product_search/?query=EMIT&status=Operational&view=cards&sort=title) hosted by the LP DAAC.\n",
    "\n",
    "The **NEON Imaging Spectrometer (NIS)** is an airborne [imaging spectrometer](https://www.neonscience.org/data-collection/imaging-spectrometer) built by JPL (AVIRIS-NG) and operated by the National Ecological Observatory Network's (NEON) Airborne Observation Platform (AOP). NEON's hyperspectral sensors collect measurements of sunlight reflected from the Earth's surface in 426 narrow (~5 nm) spectral channels spanning wavelengths between ~ 380 - 2500 nm. NEON's remote sensing data is intended to map and answer questions about a landscape, with ecological applications including identifying and classifying plant species and communities, mapping vegetation health, detecting disease or invasive species, and mapping droughts, wildfires, or other natural disturbances and their impacts. \n",
    "\n",
    "NEON surveys sites spanning the Continental US, Alaska, Hawaii*, and Puerto Rico*, during peak phenological greenness, capturing each site 3 out of every 5 years, for most terrestrial sites (*Hawaii and Puerto Rico are surveyed ~1 out of every 4-5 years). AOP's [Flight Schedules and Coverage](https://www.neonscience.org/data-collection/flight-schedules-coverage) provides more information about current and past airborne schedules.\n",
    "\n",
    "More detailed information about NEON's airborne sampling design can be found in the paper: [Spanning scales: The airborne spatial and temporal sampling design of the National Ecological Observatory Network](https://besjournals.onlinelibrary.wiley.com/doi/10.1111/2041-210X.13942).\n",
    "\n",
    "**References**  \n",
    "- Leith, Alex. 2023. Hyperspectral Notebooks. Jupyter Notebook. Auspatious. https://github.com/auspatious/hyperspectral-notebooks/tree/main\n",
    "- Musinsky et al. 2022. Spanning Scales: the airborne spatial and temporal sampling design o the National Ecological Observatory Network.\n",
    "\n",
    "**Requirements**  \n",
    " - [NASA Earthdata Account](https://urs.earthdata.nasa.gov/home)  \n",
    " - *No Python setup requirements if connected to the workshop cloud instance!*  \n",
    " - **Local Only** Set up Python Environment - See **setup_instructions.md** in the `/setup/` folder to set up a local compatible Python environment  \n",
    " - Downloaded necessary files. This is done at the end of the [01_Finding_Concurrent_Data](01_Finding_Concurrent_Data.ipynb) notebook.\n",
    "\n",
    "**Learning Objectives**  \n",
    "- How to open and work with EMIT L2A Reflectance and NEON L3 Hyperspectral Reflectance data  \n",
    "- How to apply a quality mask to EMIT datasets  \n",
    "- How to reproject and regrid data  \n",
    "- How to crop EMIT data\n",
    "- How to interactively explore the Reflectance Spectra at multiple scales \n",
    "\n",
    "**Tutorial Outline**  \n",
    "\n",
    "2.1 Setup  \n",
    "2.2 Opening and Exploring EMIT Reflectance Data  \n",
    "    2.2.1 Applying Quality Masks to EMIT Data  \n",
    "    2.2.2 Interactive Plots  \n",
    "    2.2.3 Cropping EMIT Data  \n",
    "    2.2.4 Writing Outputs  \n",
    "2.3 Opening and Exploring NEON Reflectance Data  \n",
    "    2.3.1 Reprojecting NEON Data ??  \n",
    "    2.3.2 Tiling/Mosaicking NEON Data (+ Subsetting Bands) ??  \n",
    "    2.3.3 Writing Outputs   "
   ]
  },
  {
   "cell_type": "markdown",
   "metadata": {},
   "source": [
    "## 2.1 Setup \n",
    "\n",
    "Import Python libraries."
   ]
  },
  {
   "cell_type": "code",
   "execution_count": null,
   "metadata": {
    "tags": []
   },
   "outputs": [],
   "source": [
    "# Import Packages\n",
    "import os, sys\n",
    "import math\n",
    "import numpy as np\n",
    "#import pandas as pd\n",
    "import xarray as xr\n",
    "import h5py\n",
    "from osgeo import gdal\n",
    "import rasterio as rio\n",
    "import rioxarray as rxr\n",
    "import hvplot.xarray\n",
    "import hvplot.pandas\n",
    "import holoviews as hv\n",
    "#import geoviews as gv\n",
    "import geopandas as gp\n",
    "emit_code_folder = '../python/modules/'\n",
    "sys.path.insert(0,emit_code_folder)\n",
    "from emit_tools import emit_xarray\n",
    "#from holoviews.plotting.links import DataLink"
   ]
  },
  {
   "cell_type": "markdown",
   "metadata": {},
   "source": [
    "Define a filepath for an EMIT L2A Reflectance file and EMIT L2A Mask file. The files selected in this example are from June 22, 2023, at around 19:32."
   ]
  },
  {
   "cell_type": "code",
   "execution_count": null,
   "metadata": {
    "tags": []
   },
   "outputs": [],
   "source": [
    "emit_fp = \"./data/NIWO/emit_refl/EMIT_L2A_RFL_001_20230625T170814_2317611_005.nc\"\n",
    "emit_qa_fp = \"./data/NIWO/emit_refl/EMIT_L2A_MASK_001_20230625T170814_2317611_005.nc\""
   ]
  },
  {
   "cell_type": "markdown",
   "metadata": {},
   "source": [
    "## 2.2 Opening and Exploring EMIT Reflectance Data\n",
    "\n",
    "EMIT L2A Reflectance Data are distributed in a non-orthocorrected spatially raw NetCDF4 (.nc) format consisting of the data and its associated metadata. Inside the L2A Reflectance `.nc` file there are 3 groups. Groups can be thought of as containers to organize the data. \n",
    "\n",
    "1. The root group that can be considered the main dataset contains the reflectance data described by the downtrack, crosstrack, and bands dimensions.  \n",
    "2. The `sensor_band_parameters`  group containing the wavelength center and the full-width half maximum (FWHM) of each band.  \n",
    "3. The `location` group contains latitude and longitude values at the center of each pixel described by the crosstrack and downtrack dimensions, as well as a geometry lookup table (GLT) described by the ortho_x and ortho_y dimensions. The GLT is an orthorectified image (EPSG:4326) consisting of 2 layers containing downtrack and crosstrack indices. These index positions allow us to quickly project the raw data onto this geographic grid.\n",
    "\n",
    "To work with the EMIT data, we will use the `emit_tools` module. There are other ways to work with the data and a more thorough explanation of the `emit_tools` in the [EMIT-Data-Resources Repository](https://github.com/nasa/EMIT-Data-Resources).\n",
    "\n",
    "Open the example EMIT scene using the `emit_xarray` function. In this step we will use the `ortho=True` argument to orthorectify the scene using the included GLT. "
   ]
  },
  {
   "cell_type": "code",
   "execution_count": null,
   "metadata": {
    "scrolled": true,
    "tags": []
   },
   "outputs": [],
   "source": [
    "emit_ds = emit_xarray(emit_fp, ortho=True)\n",
    "emit_ds"
   ]
  },
  {
   "cell_type": "code",
   "execution_count": null,
   "metadata": {
    "scrolled": true
   },
   "outputs": [],
   "source": [
    "emit_ds.coords['spatial_ref']"
   ]
  },
  {
   "cell_type": "markdown",
   "metadata": {},
   "source": [
    "We can plot the spectra of an individual pixel closest to a latitude and longitude we want using the `sel` function from `xarray`. Using the `good_wavelengths` flag from the `sensor_band_parameters` group, mask out bands where water absorption features were assigned a value of -0.01 reflectance. Typically data around 1320-1440 nm and 1770-1970 nm is noisy due to the moisture present in the atmosphere; therefore, these spectral regions offer little information about targets and can be excluded from calculations. "
   ]
  },
  {
   "cell_type": "code",
   "execution_count": null,
   "metadata": {
    "tags": []
   },
   "outputs": [],
   "source": [
    "emit_ds['reflectance'].data[:,:,emit_ds['good_wavelengths'].data==0] = np.nan"
   ]
  },
  {
   "cell_type": "markdown",
   "metadata": {},
   "source": [
    "Now select a point and plot a spectra. In this example, we'll first find the center of the scene and use those coordinates."
   ]
  },
  {
   "cell_type": "code",
   "execution_count": null,
   "metadata": {
    "tags": []
   },
   "outputs": [],
   "source": [
    "scene_center = emit_ds.latitude.values[int(len(emit_ds.latitude)/2)],emit_ds.longitude.values[int(len(emit_ds.longitude)/2)]\n",
    "scene_center"
   ]
  },
  {
   "cell_type": "code",
   "execution_count": null,
   "metadata": {
    "tags": []
   },
   "outputs": [],
   "source": [
    "point = emit_ds.sel(latitude=scene_center[0],longitude=scene_center[1], method='nearest')\n",
    "point.hvplot.line(y='reflectance',x='wavelengths', color='black').opts(\n",
    "    title=f'Latitude = {point.latitude.values.round(3)}, Longitude = {point.longitude.values.round(3)}')"
   ]
  },
  {
   "cell_type": "markdown",
   "metadata": {},
   "source": [
    "We can also plot individual bands spatially by selecting a wavelength, then plotting. Select the band with a wavelengths of 850 nm and plot it using ESRI imagery as a basemap to get a better understanding of where the scene was acquired. "
   ]
  },
  {
   "cell_type": "code",
   "execution_count": null,
   "metadata": {
    "tags": []
   },
   "outputs": [],
   "source": [
    "emit_layer = emit_ds.sel(wavelengths=850,method='nearest')\n",
    "emit_layer.hvplot.image(cmap='viridis',geo=True, tiles='ESRI', crs='EPSG:4326', frame_width=720,frame_height=405, alpha=0.7, fontscale=2).opts(\n",
    "    title=f\"{emit_layer.wavelengths:.3f} {emit_layer.wavelengths.units}\", xlabel='Longitude',ylabel='Latitude')"
   ]
  },
  {
   "cell_type": "markdown",
   "metadata": {},
   "source": [
    "### 2.2.1 Applying Quality Masks to EMIT Data\n",
    "\n",
    "The EMIT L2A Mask file contains some bands that are direct masks (Cloud, Dilated, Cirrus, Water, Spacecraft), and some (AOD550 and H2O (g cm-2)) that contain information calculated during the L2A reflectance retrieval. These may be used as additional screening, depending on the application.  The Aggregate Flag is the mask used during EMIT L2B Mineralogy calculations, which we will also use here, but not all users might want this particular mask.\n",
    "\n",
    "> Note: It is more memory efficient to apply the mask before orthorectifying, so during the automation section we will do that."
   ]
  },
  {
   "cell_type": "code",
   "execution_count": null,
   "metadata": {
    "tags": []
   },
   "outputs": [],
   "source": [
    "emit_mask = emit_xarray(emit_qa_fp, ortho=True)\n",
    "emit_mask"
   ]
  },
  {
   "cell_type": "code",
   "execution_count": null,
   "metadata": {},
   "outputs": [],
   "source": [
    "# optionally look at the info\n",
    "# emit_mask.info()"
   ]
  },
  {
   "cell_type": "markdown",
   "metadata": {},
   "source": [
    "List the quality flags contained in the `mask_bands` dimension."
   ]
  },
  {
   "cell_type": "code",
   "execution_count": null,
   "metadata": {
    "tags": []
   },
   "outputs": [],
   "source": [
    "emit_mask.mask_bands.data.tolist()"
   ]
  },
  {
   "cell_type": "markdown",
   "metadata": {},
   "source": [
    "As mentioned, we will use the `Aggregate Flag`. Select that band with the `sel` function as we did for wavelengths before."
   ]
  },
  {
   "cell_type": "code",
   "execution_count": null,
   "metadata": {
    "tags": []
   },
   "outputs": [],
   "source": [
    "emit_aggregate_mask = emit_mask.sel(mask_bands='Aggregate Flag')"
   ]
  },
  {
   "cell_type": "markdown",
   "metadata": {},
   "source": [
    "Now we can visualize our aggregate quality mask. You may have noticed before that we added a lot of parameters to our plotting function. If we want to consistently apply the same formatting for multiple plots, we can add those arguments to a dictionary that we can unpack into `hvplot` functions using `**`.\n",
    "\n",
    "Create two dictionaries with plotting options."
   ]
  },
  {
   "cell_type": "code",
   "execution_count": null,
   "metadata": {
    "tags": []
   },
   "outputs": [],
   "source": [
    "size_opts = dict(frame_height=405, frame_width=720, fontscale=2)\n",
    "map_opts = dict(geo=True, crs='EPSG:4326', alpha=0.7, xlabel='Longitude',ylabel='Latitude')"
   ]
  },
  {
   "cell_type": "code",
   "execution_count": null,
   "metadata": {
    "tags": []
   },
   "outputs": [],
   "source": [
    "emit_aggregate_mask.hvplot.image(cmap='viridis', tiles='ESRI', **size_opts, **map_opts)"
   ]
  },
  {
   "cell_type": "markdown",
   "metadata": {},
   "source": [
    "Values of 1 in the mask indicate areas to omit. Apply the mask to our EMIT Data by assigning values where the `mask.data == 1` to `np.nan`"
   ]
  },
  {
   "cell_type": "code",
   "execution_count": null,
   "metadata": {
    "tags": []
   },
   "outputs": [],
   "source": [
    "emit_ds.reflectance.data[emit_aggregate_mask.mask.data == 1] = np.nan"
   ]
  },
  {
   "cell_type": "markdown",
   "metadata": {},
   "source": [
    "We can confirm our masking worked with a spatial plot."
   ]
  },
  {
   "cell_type": "code",
   "execution_count": null,
   "metadata": {
    "tags": []
   },
   "outputs": [],
   "source": [
    "emit_layer_filtered_plot = emit_ds.sel(wavelengths=850, method='nearest').hvplot.image(cmap='viridis',tiles='ESRI',**size_opts, **map_opts)\n",
    "emit_layer_filtered_plot"
   ]
  },
  {
   "cell_type": "markdown",
   "metadata": {},
   "source": [
    "### 2.2.2 Interactive Spectral Plots\n",
    "\n",
    "Combining the Spatial and Spectral information into a single visualization can be a powerful tool for exploring and inspecting imaging spectroscopy data. Using the streams module from Holoviews we can link a spatial map to a plot of spectra.\n",
    "\n",
    "We could plot a single band image as we previously have, but using a multiband image, like an RGB may help infer what targets we're examining. Build an RGB image following the steps below.\n",
    "\n",
    "Select bands to represent red (650 nm), green (560 nm), and blue (470 nm) by finding the nearest to a wavelength chosen to represent that color.\n"
   ]
  },
  {
   "cell_type": "code",
   "execution_count": null,
   "metadata": {
    "tags": []
   },
   "outputs": [],
   "source": [
    "emit_rgb = emit_ds.sel(wavelengths=[650, 560, 470], method='nearest')"
   ]
  },
  {
   "cell_type": "markdown",
   "metadata": {},
   "source": [
    "We may need to adjust balance the brightness of the selected wavelengths to make a prettier map. **This will not affect the data, just the visuals.** To do this we will use the function below. We can change the `bright` argument to increase or decrease the brightness of the scene as a whole. A value of 0.2 usually works pretty well."
   ]
  },
  {
   "cell_type": "code",
   "execution_count": null,
   "metadata": {
    "tags": []
   },
   "outputs": [],
   "source": [
    "def gamma_adjust(rgb_ds, bright=0.2, white_background=False):\n",
    "    array = rgb_ds.reflectance.data\n",
    "    gamma = math.log(bright)/math.log(np.nanmean(array)) # Create exponent for gamma scaling - can be adjusted by changing 0.2 \n",
    "    scaled = np.power(np.nan_to_num(array,nan=1),np.nan_to_num(gamma,nan=1)).clip(0,1) # Apply scaling and clip to 0-1 range\n",
    "    if white_background == True:\n",
    "        scaled = np.nan_to_num(scaled, nan = 1) # Assign NA's to 1 so they appear white in plots\n",
    "    rgb_ds.reflectance.data = scaled\n",
    "    return rgb_ds"
   ]
  },
  {
   "cell_type": "code",
   "execution_count": null,
   "metadata": {
    "tags": []
   },
   "outputs": [],
   "source": [
    "emit_rgb = gamma_adjust(emit_rgb,white_background=True)"
   ]
  },
  {
   "cell_type": "markdown",
   "metadata": {},
   "source": [
    "Now that we have an RGB dataset, we can use that to create a spatial plot, and data selected by clicking on that 'map' can be inputs for a function to return values from the full dataset at that latitude and longitude location using the cell below. To visualize the spectral and spatial data side-by-side, we use the Point Draw tool from the holoviews library.\n",
    "\n",
    "Define a limit to the quantity of points and spectra we will plot, a list of colors to cycle through, and an initial point. Then use the input from the Tap function to provide clicked x and y positions on the map and use these to retrieve spectra from the dataset at those coordinates.\n",
    "\n",
    "Click in the RGB image to add spectra to the plot. You can also click and hold the mouse button then drag previously place points. To remove a point click and hold the mouse button down, then press the backspace key."
   ]
  },
  {
   "cell_type": "code",
   "execution_count": null,
   "metadata": {
    "tags": []
   },
   "outputs": [],
   "source": [
    "# Interactive Points Plotting\n",
    "# Modified from https://github.com/auspatious/hyperspectral-notebooks/blob/main/03_EMIT_Interactive_Points.ipynb\n",
    "POINT_LIMIT = 10\n",
    "color_cycle = hv.Cycle('Category20')\n",
    "\n",
    "# Create RGB Map\n",
    "map = emit_rgb.hvplot.rgb(fontscale=1.5, xlabel='Longitude',ylabel='Latitude',frame_width=480, frame_height=480)\n",
    "\n",
    "# Set up a holoviews points array to enable plotting of the clicked points\n",
    "xmid = emit_ds.longitude.values[int(len(emit_ds.longitude) / 2)]\n",
    "ymid = emit_ds.latitude.values[int(len(emit_ds.latitude) / 2)]\n",
    "\n",
    "first_point = ([xmid], [ymid], [0])\n",
    "points = hv.Points(first_point, vdims='id')\n",
    "points_stream = hv.streams.PointDraw(\n",
    "    data=points.columns(),\n",
    "    source=points,\n",
    "    drag=True,\n",
    "    num_objects=POINT_LIMIT,\n",
    "    styles={'fill_color': color_cycle.values[1:POINT_LIMIT+1], 'line_color': 'gray'}\n",
    ")\n",
    "\n",
    "posxy = hv.streams.PointerXY(source=map, x=xmid, y=ymid)\n",
    "clickxy = hv.streams.Tap(source=map, x=xmid, y=ymid)\n",
    "\n",
    "# Function to build spectral plot of clicked location to show on hover stream plot\n",
    "def click_spectra(data):\n",
    "    coordinates = []\n",
    "    if data is None or not any(len(d) for d in data.values()):\n",
    "        coordinates.append(clicked_points[0][0], clicked_points[1][0])\n",
    "    else:\n",
    "        coordinates = [c for c in zip(data['x'], data['y'])]\n",
    "    \n",
    "    plots = []\n",
    "    for i, coords in enumerate(coordinates):\n",
    "        x, y = coords\n",
    "        data = emit_ds.sel(longitude=x, latitude=y, method=\"nearest\")\n",
    "        plots.append(\n",
    "            data.hvplot.line(\n",
    "                y=\"reflectance\",\n",
    "                x=\"wavelengths\",\n",
    "                color=color_cycle,\n",
    "                label=f\"{i}\"\n",
    "            )\n",
    "        )\n",
    "        points_stream.data[\"id\"][i] = i\n",
    "    return hv.Overlay(plots)\n",
    "\n",
    "def hover_spectra(x,y):\n",
    "    return emit_ds.sel(longitude=x,latitude=y,method='nearest').hvplot.line(y='reflectance',x='wavelengths',\n",
    "                                                                            color='black', frame_width=400)\n",
    "# Define the Dynamic Maps\n",
    "click_dmap = hv.DynamicMap(click_spectra, streams=[points_stream])\n",
    "hover_dmap = hv.DynamicMap(hover_spectra, streams=[posxy])\n",
    "# Plot the Map and Dynamic Map side by side\n",
    "hv.Layout(hover_dmap*click_dmap + map * points).cols(2).opts(\n",
    "    hv.opts.Points(active_tools=['point_draw'], size=10, tools=['hover'], color='white', line_color='gray'),\n",
    "    hv.opts.Overlay(show_legend=False, show_title=False, fontscale=1.5, frame_height=480)\n",
    ")"
   ]
  },
  {
   "cell_type": "markdown",
   "metadata": {},
   "source": [
    "We can take these selected points and the corresponding reflectance spectra and save them as a `.csv` for later use."
   ]
  },
  {
   "cell_type": "markdown",
   "metadata": {},
   "source": [
    "Select 10 points by adding to the figure above. We will save these and use them in a to calculate Equivalent Water Thickness or Canopy water content in the next notebook."
   ]
  },
  {
   "cell_type": "markdown",
   "metadata": {},
   "source": [
    "Build a dictionary of the selected points and spectra, then export the spectra to a .csv file."
   ]
  },
  {
   "cell_type": "code",
   "execution_count": null,
   "metadata": {
    "tags": []
   },
   "outputs": [],
   "source": [
    "data = points_stream.data\n",
    "wavelengths = emit_ds.wavelengths.values\n",
    "\n",
    "rows = [[\"id\", \"x\", \"y\"] + [str(i) for i in wavelengths]]\n",
    " \n",
    "for p in zip(data['x'], data['y'], data['id']):\n",
    "    x, y, i = p\n",
    "    spectra = emit_ds.sel(longitude=x, latitude=y, method=\"nearest\").reflectance.values\n",
    "    row = [i, x, y] + list(spectra)\n",
    "    rows.append(row)"
   ]
  },
  {
   "cell_type": "markdown",
   "metadata": {},
   "source": [
    "We've preselected 10 points, but feel free to uncomment the cell below to use your own. This will overwrite the file containing the preselected points."
   ]
  },
  {
   "cell_type": "code",
   "execution_count": null,
   "metadata": {
    "tags": []
   },
   "outputs": [],
   "source": [
    "# with open('../data/emit_click_data.csv', 'w', newline='') as f:\n",
    "#     writer = csv.writer(f)\n",
    "#     writer.writerows(rows)"
   ]
  },
  {
   "cell_type": "markdown",
   "metadata": {},
   "source": [
    "### 2.2.3 Cropping EMIT data to a Region of Interest\n",
    "\n",
    "To crop our dataset to our ROI we first need to open a shapefile of the region. Open the included `geojson` for Sedgwick Reserve and Plot it onto our EMIT 850nm reflectance spatial plot. To ensure the plotting of the shape and EMIT scene works, be sure to specify the CRS (this is done for the image in the `map_opts` dictionary)."
   ]
  },
  {
   "cell_type": "code",
   "execution_count": null,
   "metadata": {
    "tags": []
   },
   "outputs": [],
   "source": [
    "# shape = gp.read_file(\"../data/dangermond_boundary.geojson\")\n",
    "aop_flightboxes = gp.read_file(r\"C:\\Users\\bhass\\Downloads\\AOP_flightBoxes\\AOP_flightboxesAllSites.shp\")\n",
    "niwo_polygon = aop_flightboxes[aop_flightboxes.siteID == 'NIWO']\n",
    "shape = niwo_polygon"
   ]
  },
  {
   "cell_type": "code",
   "execution_count": null,
   "metadata": {
    "tags": []
   },
   "outputs": [],
   "source": [
    "emit_ds.sel(wavelengths=850, method='nearest').hvplot.image(cmap='viridis',**size_opts,**map_opts,tiles='ESRI')*shape.hvplot(color='#FFFF00',alpha=0.5, crs='EPSG:4326')"
   ]
  },
  {
   "cell_type": "markdown",
   "metadata": {},
   "source": [
    "Now use the `clip` function from `rasterio` to crop the data to our ROI using our shape's `geometry` and `crs`. The `all_touched=True` argument will ensure all pixels touched by our polygon will be included."
   ]
  },
  {
   "cell_type": "code",
   "execution_count": null,
   "metadata": {
    "tags": []
   },
   "outputs": [],
   "source": [
    "emit_cropped = emit_ds.rio.clip(shape.geometry.values,shape.crs, all_touched=True)"
   ]
  },
  {
   "cell_type": "markdown",
   "metadata": {},
   "source": [
    "Plot the cropped data."
   ]
  },
  {
   "cell_type": "code",
   "execution_count": null,
   "metadata": {
    "tags": []
   },
   "outputs": [],
   "source": [
    "emit_cropped.sel(wavelengths=850,method='nearest').hvplot.image(cmap='viridis', tiles='ESRI', **size_opts, **map_opts)"
   ]
  },
  {
   "cell_type": "markdown",
   "metadata": {},
   "source": [
    "### 2.2.4 Write an output\n",
    "\n",
    "Lastly for our EMIT dataset, we can write a smaller output that we can use in later notebooks, to calculate Canopy water content or other applications. We use the `granule_id` from the dataset to keep a similar naming convention."
   ]
  },
  {
   "cell_type": "code",
   "execution_count": null,
   "metadata": {
    "tags": []
   },
   "outputs": [],
   "source": [
    "# Write Clipped Output\n",
    "emit_cropped.to_netcdf(f'./data/NIWO/{emit_cropped.granule_id}_NIWO.nc')"
   ]
  },
  {
   "cell_type": "markdown",
   "metadata": {},
   "source": [
    "## 3.0 Working with NEON Hyperspectral Reflectance Data\n",
    "\n",
    "For this example we'll take a look at the Level-3 (1km x 1km tiled) NEON AOP directional surface reflectance data (DP3.30006.001). \n",
    "\n",
    "First, we'll define a function to convert from the hdf5 format into xarray so we can look at this data in a similar way to the EMIT data."
   ]
  },
  {
   "cell_type": "code",
   "execution_count": null,
   "metadata": {},
   "outputs": [],
   "source": [
    "def aop_h5refl2xarray(h5_filename):\n",
    "    with h5py.File(h5_filename) as hdf5_file:\n",
    "        print('Reading in ', h5_filename)\n",
    "        sitename = list(hdf5_file.keys())[0]  # Adjusted to directly access the first key\n",
    "        h5_refl_group = hdf5_file[sitename]['Reflectance']\n",
    "        refl_dataset = h5_refl_group['Reflectance_Data']\n",
    "        refl_array = refl_dataset[()]\n",
    "        refl_shape = refl_array.shape\n",
    "        wavelengths = h5_refl_group['Metadata']['Spectral_Data']['Wavelength'][:]\n",
    "        fwhm = h5_refl_group['Metadata']['Spectral_Data']['FWHM'][:]\n",
    "\n",
    "        # create dictionary containing metadata information\n",
    "        metadata = {}\n",
    "        metadata['shape'] = refl_shape\n",
    "\n",
    "        metadata['no_data_value'] = float(\n",
    "            refl_dataset.attrs['Data_Ignore_Value'])\n",
    "        metadata['scale_factor'] = float(refl_dataset.attrs['Scale_Factor'])\n",
    "\n",
    "        # Extract the scale factor & Scale the reflectance data by the scale factor - this is memory intensive though!\n",
    "        # Can do it after the fact\n",
    "        # scale_factor = float(refl_dataset.attrs['Scale_Factor'])\n",
    "        # refl_array = refl_array.astype(float) / scale_factor\n",
    "\n",
    "        # Extract bad band windows\n",
    "        metadata['bad_band_window1'] = (\n",
    "            h5_refl_group.attrs['Band_Window_1_Nanometers'])\n",
    "        metadata['bad_band_window2'] = (\n",
    "            h5_refl_group.attrs['Band_Window_2_Nanometers'])\n",
    "\n",
    "        # Initialize good_wavelengths array with 1s\n",
    "        good_wavelengths = np.ones_like(wavelengths, dtype='float32')\n",
    "\n",
    "        # Mark wavelengths within the bad band windows as 0\n",
    "        for bad_window in [metadata['bad_band_window1'], metadata['bad_band_window2']]:\n",
    "            bad_indices = np.where((wavelengths >= bad_window[0]) & (wavelengths <= bad_window[1]))[0]\n",
    "            good_wavelengths[bad_indices] = 0\n",
    "        good_wavelengths[-10:] = 0 # the last 10 indices also tend to be noisy\n",
    "\n",
    "        metadata['projection'] = h5_refl_group['Metadata']['Coordinate_System']['Proj4'][()].decode('utf-8')\n",
    "        metadata['spatial_ref'] = h5_refl_group['Metadata']['Coordinate_System']['Coordinate_System_String'][()].decode('utf-8')\n",
    "        metadata['EPSG'] = int(h5_refl_group['Metadata']\n",
    "                               ['Coordinate_System']['EPSG Code'][()])\n",
    "        \n",
    "        map_info = str(\n",
    "            h5_refl_group['Metadata']['Coordinate_System']['Map_Info'][()]).split(\",\")\n",
    "        # extract the resolution & convert to floating decimal number\n",
    "        pixel_width = float(map_info[5])\n",
    "        pixel_height = float(map_info[6])\n",
    "        # extract the upper left-hand corner coordinates from mapInfo and cast to float\n",
    "        x_min = float(map_info[3])\n",
    "        y_max = float(map_info[4])\n",
    "        # calculate the xMax and yMin values from the dimensions\n",
    "        # xMax = left edge + (# of columns * resolution)\\n\",\n",
    "        x_max = x_min + (refl_shape[1]*float(pixel_width))\n",
    "        # yMin = top edge - (# of rows * resolution)\\n\",\n",
    "        y_min = y_max - (refl_shape[0]*float(pixel_height))\n",
    "        metadata['extent'] = (x_min, x_max, y_min, y_max)\n",
    "        metadata['ext_dict'] = {}\n",
    "        metadata['ext_dict']['x_min'] = x_min\n",
    "        metadata['ext_dict']['x_max'] = x_max\n",
    "        metadata['ext_dict']['y_min'] = y_min\n",
    "        metadata['ext_dict']['y_max'] = y_max\n",
    "\n",
    "        # Calculate UTM coordinates\n",
    "        x_coords = np.linspace(metadata['ext_dict']['x_min'], metadata['ext_dict']['x_max'], num=refl_shape[1])\n",
    "        y_coords = np.linspace(metadata['ext_dict']['y_min'], metadata['ext_dict']['y_max'], num=refl_shape[0])\n",
    "        \n",
    "        # Create the DataArray with coordinates including 'wavelengths','fwhm', & 'good_wavelengths'\n",
    "\n",
    "        refl_xr = xr.DataArray(refl_array, dims=[\"y\", \"x\", \"wavelengths\"], name=\"reflectance\",\n",
    "                       coords={\"x\": (\"x\", x_coords), \"y\": (\"y\", y_coords),\n",
    "                               \"wavelengths\": (\"wavelengths\", wavelengths), \n",
    "                               \"fwhm\": (\"wavelengths\", fwhm),\n",
    "                               \"good_wavelengths\": (\"wavelengths\", good_wavelengths)})\n",
    "                                # \"spatial_ref\": spatial_ref}) << this is added w/ ds.rio.write_crs(\"epsg:32611\", inplace=True)\n",
    "        \n",
    "        # InvalidDimensionOrder: Invalid dimension order. Expected order: ('wavelengths', 'y', 'x'). You can use `DataArray.transpose('wavelengths', 'y', 'x')` to reorder your dimensions. Data variable: reflectance\n",
    "        # refl_xr = refl_xr.transpose('wavelengths', 'y', 'x') # reorder your dimensions. Data variable: reflectance\n",
    "        \n",
    "        # Create the Dataset\n",
    "        ds = xr.Dataset({\"reflectance\": refl_xr})\n",
    "\n",
    "        # Add metadata as attributes\n",
    "        for key, value in metadata.items():\n",
    "            if key not in ['shape', 'extent', 'ext_dict']:\n",
    "                ds.attrs[key] = value\n",
    "\n",
    "        # Set 'wavelengths', 'utm_x', and 'utm_y' as indexes\n",
    "        ds = ds.set_index(x=\"x\", y=\"y\", wavelengths=\"wavelengths\")\n",
    "\n",
    "        return ds"
   ]
  },
  {
   "cell_type": "code",
   "execution_count": null,
   "metadata": {
    "scrolled": true
   },
   "outputs": [],
   "source": [
    "h5_filepath = r\"./data/NIWO/neon_refl\"\n",
    "h5_filename = \"NEON_D13_NIWO_DP3_454000_4431000_reflectance.h5\"\n",
    "aop_refl_ds = aop_h5refl2xarray(os.path.join(h5_filepath,h5_filename))"
   ]
  },
  {
   "cell_type": "code",
   "execution_count": null,
   "metadata": {},
   "outputs": [],
   "source": [
    "aop_refl_ds"
   ]
  },
  {
   "cell_type": "code",
   "execution_count": null,
   "metadata": {},
   "outputs": [],
   "source": [
    "aop_refl_ds.attrs['EPSG']"
   ]
  },
  {
   "cell_type": "code",
   "execution_count": null,
   "metadata": {
    "scrolled": true
   },
   "outputs": [],
   "source": [
    "# add spatial reference information to Coordinates as follows (to create an rioxarray)\n",
    "aop_refl_ds.rio.write_crs(f\"epsg:{aop_refl_ds.attrs['EPSG']}\", inplace=True)"
   ]
  },
  {
   "cell_type": "markdown",
   "metadata": {},
   "source": [
    "Next we can run a couple more pre-processing steps, of \n",
    "1. scaling the reflectance data by the scale factor (NEON data are saved in an integer format, scaled by 10000, in order to save on space)\n",
    "2. setting the water vapor absorption windows (defined as \"bad band windows\") to NaN. Similar to the EMIT data, \"good_wavelengths\" are provided as one of the Coordinates in the `aop_refl_ds` xarray dataset, so we can use that information to keep only the valid wavelengths."
   ]
  },
  {
   "cell_type": "code",
   "execution_count": null,
   "metadata": {},
   "outputs": [],
   "source": [
    "# scale by the scale factor\n",
    "aop_refl_ds['reflectance'].data = aop_refl_ds['reflectance'].data/aop_refl_ds.attrs['scale_factor']"
   ]
  },
  {
   "cell_type": "code",
   "execution_count": null,
   "metadata": {},
   "outputs": [],
   "source": [
    "# set \"bad bands\" to NaN\n",
    "aop_refl_ds['reflectance'].data[:,:,aop_refl_ds['good_wavelengths'].data==0.0] = np.nan"
   ]
  },
  {
   "cell_type": "code",
   "execution_count": null,
   "metadata": {},
   "outputs": [],
   "source": [
    "aop_tile_center = aop_refl_ds.x.values[int(len(aop_refl_ds.x)/2)],aop_refl_ds.y.values[int(len(aop_refl_ds.y)/2)]\n",
    "print('AOP tile center',aop_tile_center)"
   ]
  },
  {
   "cell_type": "code",
   "execution_count": null,
   "metadata": {},
   "outputs": [],
   "source": [
    "# aop_spectra = aop_refl_ds.sel(x=aop_tile_center[0],y=aop_tile_center[1], method='nearest')\n",
    "aop_point = (454495,4431420) # solar panels on MRS building roof\n",
    "# aop_point = aop_tile_center\n",
    "aop_spectra = aop_refl_ds.sel(x=aop_point[0],y=aop_point[1], method='nearest')\n",
    "aop_spectra.hvplot.line(y='reflectance',x='wavelengths', color='black').opts(\n",
    "    title=f'x = {aop_spectra.x.values.round(1)}, y = {aop_spectra.y.values.round(1)}')"
   ]
  },
  {
   "cell_type": "code",
   "execution_count": null,
   "metadata": {},
   "outputs": [],
   "source": [
    "aop_refl_ds.hvplot.image(x='x',y='y',**size_opts, cmap='viridis', clim = (0,0.5), tiles='ESRI', xlabel='Longitude',ylabel='Latitude',title='NEON AOP Reflectance', crs='EPSG:4326')"
   ]
  },
  {
   "cell_type": "code",
   "execution_count": null,
   "metadata": {},
   "outputs": [],
   "source": [
    "# Re-project\n",
    "# aop_refl_ds.rio.reproject('EPSG:4326').hvplot.image(x='x',y='y',**size_opts, cmap='inferno',tiles='ESRI', xlabel='Longitude',ylabel='Latitude',title='NEON AOP Reflectance', crs='EPSG:4326')"
   ]
  },
  {
   "cell_type": "code",
   "execution_count": null,
   "metadata": {},
   "outputs": [],
   "source": [
    "# Plot the RGB image of the NIWO tile\n",
    "aop_rgb = aop_refl_ds.sel(wavelengths=[650, 560, 470], method='nearest')\n",
    "aop_rgb = gamma_adjust(aop_rgb,white_background=True)\n",
    "aop_rgb.hvplot.rgb(x='x',y='y',bands='wavelengths',xlabel='UTM x',ylabel='UTM y',title='NEON AOP Reflectance RGB',frame_width=480, frame_height=480)"
   ]
  },
  {
   "cell_type": "code",
   "execution_count": null,
   "metadata": {},
   "outputs": [],
   "source": [
    "# emit_rgb = gamma_adjust(emit_rgb,white_background=True)\n",
    "# Interactive Points Plotting\n",
    "# Modified from https://github.com/auspatious/hyperspectral-notebooks/blob/main/03_EMIT_Interactive_Points.ipynb\n",
    "POINT_LIMIT = 10\n",
    "color_cycle = hv.Cycle('Category20')\n",
    "\n",
    "# Create RGB Map\n",
    "map = aop_rgb.hvplot.rgb(x='x',y='y',bands='wavelengths',fontscale=1.5, xlabel='UTM x',ylabel='UTM y',frame_width=480, frame_height=480)\n",
    "\n",
    "# Set up a holoviews points array to enable plotting of the clicked points\n",
    "xmid = aop_refl_ds.x.values[int(len(aop_refl_ds.x) / 2)]\n",
    "ymid = aop_refl_ds.y.values[int(len(aop_refl_ds.y) / 2)]\n",
    "\n",
    "x0 = aop_refl_ds.x.values[0]\n",
    "y0 = aop_refl_ds.y.values[0]\n",
    "\n",
    "# first_point = ([xmid], [ymid], [0])\n",
    "first_point = ([x0], [y0], [0])\n",
    "points = hv.Points(first_point, vdims='id')\n",
    "points_stream = hv.streams.PointDraw(\n",
    "    data=points.columns(),\n",
    "    source=points,\n",
    "    drag=True,\n",
    "    num_objects=POINT_LIMIT,\n",
    "    styles={'fill_color': color_cycle.values[1:POINT_LIMIT+1], 'line_color': 'gray'}\n",
    ")\n",
    "\n",
    "posxy = hv.streams.PointerXY(source=map, x=xmid, y=ymid)\n",
    "clickxy = hv.streams.Tap(source=map, x=xmid, y=ymid)\n",
    "\n",
    "# Function to build spectral plot of clicked location to show on hover stream plot\n",
    "def click_spectra(data):\n",
    "    coordinates = []\n",
    "    if data is None or not any(len(d) for d in data.values()):\n",
    "        coordinates.append(clicked_points[0][0], clicked_points[1][0])\n",
    "    else:\n",
    "        coordinates = [c for c in zip(data['x'], data['y'])]\n",
    "    \n",
    "    plots = []\n",
    "    for i, coords in enumerate(coordinates):\n",
    "        x, y = coords\n",
    "        # data = emit_ds.sel(longitude=x, latitude=y, method=\"nearest\")\n",
    "        data = aop_refl_ds.sel(x=x, y=y, method=\"nearest\")\n",
    "        plots.append(\n",
    "            data.hvplot.line(\n",
    "                y=\"reflectance\",\n",
    "                x=\"wavelengths\",\n",
    "                color=color_cycle,\n",
    "                label=f\"{i}\"\n",
    "            )\n",
    "        )\n",
    "        points_stream.data[\"id\"][i] = i\n",
    "    return hv.Overlay(plots)\n",
    "\n",
    "def hover_spectra(x,y):\n",
    "    return aop_refl_ds.sel(x=x,y=y,method='nearest').hvplot.line(y='reflectance',x='wavelengths', color='black', frame_width=400)\n",
    "    # return emit_ds.sel(longitude=x,latitude=y,method='nearest').hvplot.line(y='reflectance',x='wavelengths',\n",
    "    #                                                                         color='black', frame_width=400)\n",
    "# Define the Dynamic Maps\n",
    "click_dmap = hv.DynamicMap(click_spectra, streams=[points_stream])\n",
    "hover_dmap = hv.DynamicMap(hover_spectra, streams=[posxy])\n",
    "# Plot the Map and Dynamic Map side by side\n",
    "hv.Layout(hover_dmap*click_dmap + map * points).cols(2).opts(\n",
    "    hv.opts.Points(active_tools=['point_draw'], size=10, tools=['hover'], color='white', line_color='gray'),\n",
    "    hv.opts.Overlay(show_legend=False, show_title=False, fontscale=1.5, frame_height=480)\n",
    ")"
   ]
  },
  {
   "cell_type": "markdown",
   "metadata": {},
   "source": [
    "## Contact Info:\n",
    "\n",
    "**LPDAAC**\n",
    "Email: LPDAAC@usgs.gov  \n",
    "Voice: +1-866-573-3222  \n",
    "Organization: Land Processes Distributed Active Archive Center (LP DAAC)¹  \n",
    "Website: https://lpdaac.usgs.gov/  \n",
    "\n",
    "¹Work performed under USGS contract G15PD00467 for NASA contract NNG14HH33I.\n",
    "\n",
    "**NEON**\n",
    "\n",
    "Organization: Airborne Observation Platform\n",
    "Website: <https://www.neonscience.org/>   \n",
    "Contact: <https://www.neonscience.org/about/contact-us>   \n",
    "Date last modified: 04-29-2024 "
   ]
  }
 ],
 "metadata": {
  "kernelspec": {
   "display_name": "Python 3 (ipykernel)",
   "language": "python",
   "name": "python3"
  },
  "language_info": {
   "codemirror_mode": {
    "name": "ipython",
    "version": 3
   },
   "file_extension": ".py",
   "mimetype": "text/x-python",
   "name": "python",
   "nbconvert_exporter": "python",
   "pygments_lexer": "ipython3",
   "version": "3.10.14"
  }
 },
 "nbformat": 4,
 "nbformat_minor": 4
}
