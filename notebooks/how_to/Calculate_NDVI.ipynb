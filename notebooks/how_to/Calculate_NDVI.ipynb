{
 "cells": [
  {
   "cell_type": "code",
   "execution_count": null,
   "id": "5e42a299-4e0b-4058-ac25-d9b1527ddda1",
   "metadata": {},
   "outputs": [],
   "source": [
    "import os, sys, fnmatch\n",
    "import warnings\n",
    "import csv\n",
    "from osgeo import gdal\n",
    "import numpy as np\n",
    "import math\n",
    "import rasterio as rio\n",
    "import xarray as xr\n",
    "import holoviews as hv\n",
    "import hvplot.xarray\n",
    "import netCDF4 as nc\n",
    "\n",
    "# This will ignore some warnings caused by holoviews\n",
    "warnings.simplefilter('ignore') "
   ]
  },
  {
   "cell_type": "code",
   "execution_count": null,
   "id": "7e976b8a-34ed-445f-a937-33d066d16fb6",
   "metadata": {},
   "outputs": [],
   "source": [
    "### Example image to use\n",
    "workflow = \"Agriculture\"\n",
    "platform = \"emit\"\n",
    "source_file_path = os.path.join(os.path.expanduser(\"~\"),\"HYR-SENSE\",\"data\",workflow,platform)"
   ]
  },
  {
   "cell_type": "code",
   "execution_count": null,
   "id": "120e1dc5-1c83-42cc-a4d3-d9c2698cf0b1",
   "metadata": {},
   "outputs": [],
   "source": [
    "# # Load the selected image to memory\n",
    "img_file = 'EMIT_L2A_RFL_001_20230729T205630_2321014_019_ortho.nc'\n",
    "img_file_dat = os.path.join(source_file_path,img_file)\n",
    "ds_geo = xr.open_dataset(img_file_dat)\n",
    "ds_geo\n"
   ]
  },
  {
   "cell_type": "code",
   "execution_count": null,
   "id": "17a368c8-deaa-4b5a-a2d0-e1a478526fa6",
   "metadata": {},
   "outputs": [],
   "source": [
    "refl650 = ds_geo.sel(wavelengths=650, method='nearest')\n",
    "refl850 = ds_geo.sel(wavelengths=850, method='nearest')\n",
    "ndvi = (refl850-refl650)/(refl850+refl650)"
   ]
  },
  {
   "cell_type": "code",
   "execution_count": null,
   "id": "7823dc57-f285-446b-b31e-27a762218443",
   "metadata": {},
   "outputs": [],
   "source": [
    "ndvi.hvplot.image(cmap='viridis', geo=True, tiles='ESRI', aspect = 'equal', frame_width=720, clim=(0,1)).opts(title=\"NDVI Image\")"
   ]
  },
  {
   "cell_type": "markdown",
   "id": "0c9d34d7-b38f-475e-bef8-1e5368214ac4",
   "metadata": {},
   "source": [
    "### Using a function to calculate NDVI\n",
    "\n",
    "We can also create a custom function to calculate different normalized-difference vegetation indices, like NDVI.  We have provided one example here: "
   ]
  },
  {
   "cell_type": "code",
   "execution_count": null,
   "id": "3a04471e-0665-4485-8ce1-d267e5628136",
   "metadata": {},
   "outputs": [],
   "source": [
    "def normalized_diff(input_xarray = ds_geo, band1=650, band2=850):\n",
    "    \"\"\"\n",
    "    This function takes an input xarray image and calculates a NDVI image based on the selected bands.  The assumption is the input image is an EMIT image in \n",
    "    xarray format prepared using the emit_xarray() function from emit_tools\n",
    "\n",
    "    The function format is Band2-Band1 / Band2+Band1\n",
    "\n",
    "    param: input_xarray is the input EMIT xarray in memory\n",
    "    param: band1 the EMIT band number to use for band 1\n",
    "    param: band3 the EMIT band number to use for band 3\n",
    "\n",
    "    \n",
    "    \"\"\"\n",
    "    \n",
    "    reflb1 = ds_geo.sel(wavelengths=band1, method='nearest')\n",
    "    reflb2 = ds_geo.sel(wavelengths=band2, method='nearest')\n",
    "    ndiff_image = (reflb2-reflb1)/(reflb2+reflb1)\n",
    "    \n",
    "    return(ndiff_image)"
   ]
  },
  {
   "cell_type": "code",
   "execution_count": null,
   "id": "b7f92590-b51e-4f13-bbee-af9cca0fec23",
   "metadata": {},
   "outputs": [],
   "source": [
    "ndvi2 = normalized_diff(input_xarray = ds_geo, band1=650, band2=850)"
   ]
  },
  {
   "cell_type": "code",
   "execution_count": null,
   "id": "e65d363f-03ce-4efc-b826-aebc3a21d8ab",
   "metadata": {},
   "outputs": [],
   "source": [
    "ndvi.hvplot.image(cmap='viridis', geo=True, tiles='ESRI', aspect = 'equal', frame_width=720, clim=(0,1)).opts(title=\"NDVI Image\")"
   ]
  },
  {
   "cell_type": "code",
   "execution_count": null,
   "id": "c7b165d2-8dae-4c9c-bfe1-fca4ef90ca94",
   "metadata": {},
   "outputs": [],
   "source": [
    "ds_geo['wavelengths'].data"
   ]
  },
  {
   "cell_type": "markdown",
   "id": "7160a150-131f-4fc8-a377-e21086688ec6",
   "metadata": {},
   "source": [
    "### Calculate the Normalized-Difference Water Index (NDWI)\n",
    "\n",
    "https://en.wikipedia.org/wiki/Normalized_difference_water_index"
   ]
  },
  {
   "cell_type": "code",
   "execution_count": null,
   "id": "9aa99cea-623a-4ba9-b16b-c1869a0b8f2f",
   "metadata": {},
   "outputs": [],
   "source": [
    "ndwi = normalized_diff(input_xarray = ds_geo, band1=2200, band2=864)"
   ]
  },
  {
   "cell_type": "code",
   "execution_count": null,
   "id": "46e2a566-ec92-4824-abb5-142629fab27d",
   "metadata": {},
   "outputs": [],
   "source": [
    "ndwi.hvplot.image(cmap='viridis', geo=True, tiles='ESRI', aspect = 'equal', frame_width=720, clim=(0,1)).opts(title=\"NDVI Image\")"
   ]
  },
  {
   "cell_type": "code",
   "execution_count": null,
   "id": "736a7b9d-f4fd-4e10-bfb6-ebe1023ddf88",
   "metadata": {},
   "outputs": [],
   "source": []
  }
 ],
 "metadata": {
  "kernelspec": {
   "display_name": "hyr-sense",
   "language": "python",
   "name": "hyr-sense"
  },
  "language_info": {
   "codemirror_mode": {
    "name": "ipython",
    "version": 3
   },
   "file_extension": ".py",
   "mimetype": "text/x-python",
   "name": "python",
   "nbconvert_exporter": "python",
   "pygments_lexer": "ipython3",
   "version": "3.10.14"
  }
 },
 "nbformat": 4,
 "nbformat_minor": 5
}
