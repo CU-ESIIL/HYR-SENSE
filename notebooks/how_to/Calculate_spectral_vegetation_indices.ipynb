{
 "cells": [
  {
   "cell_type": "markdown",
   "id": "434fea91-e70c-43db-b29a-1fb36b6bed50",
   "metadata": {},
   "source": [
    "## How To: Calculating spectral vegetation indices with EMIT data\n",
    "\n",
    "This notebook provides examples demonstrating how to create maps of spectral vegetation indices using EMIT images. To explore the utility of high spectral resolution data for calculating SVIs for Earth Science, we can demonstrate how to calculate commonly-used spectral vegetation indices.  For reference, here is a recent article describing the use of SVIs in Earth Science <br>\n",
    "[https://www.nature.com/articles/s41597-023-02096-0](https://www.nature.com/articles/s41597-023-02096-0)"
   ]
  },
  {
   "cell_type": "markdown",
   "id": "1b711423-1423-43d9-81ed-b6eee7d3f5bd",
   "metadata": {},
   "source": [
    "### Step 1: Load required Python modules"
   ]
  },
  {
   "cell_type": "code",
   "execution_count": null,
   "id": "5e42a299-4e0b-4058-ac25-d9b1527ddda1",
   "metadata": {},
   "outputs": [],
   "source": [
    "import os, sys, fnmatch\n",
    "import warnings\n",
    "import csv\n",
    "from osgeo import gdal\n",
    "import numpy as np\n",
    "import math\n",
    "import rasterio as rio\n",
    "import xarray as xr\n",
    "import holoviews as hv\n",
    "import hvplot.xarray\n",
    "import netCDF4 as nc\n",
    "\n",
    "sys.path.append(os.path.join(os.path.expanduser(\"~\"),\"HYR-SENSE\",\"tools\",\"functions\"))\n",
    "from spectral_index import *\n",
    "\n",
    "# This will ignore some warnings caused by holoviews\n",
    "warnings.simplefilter('ignore') "
   ]
  },
  {
   "cell_type": "markdown",
   "id": "770ff9a5-7569-4b5b-acea-ded3671b5573",
   "metadata": {},
   "source": [
    "### Step 2: Define input file path and load example data\n",
    "\n",
    "In this example we will use the example data downloaded in the other \"How To\" example **\"Download_data_granules_basic_example\"**"
   ]
  },
  {
   "cell_type": "code",
   "execution_count": null,
   "id": "7e976b8a-34ed-445f-a937-33d066d16fb6",
   "metadata": {},
   "outputs": [],
   "source": [
    "### Example image to use\n",
    "workflow = \"examples\"\n",
    "platform = \"emit\"\n",
    "source_file_path = os.path.join(os.path.expanduser(\"~\"),\"HYR-SENSE\",\"data\",workflow,platform)\n",
    "granules = fnmatch.filter(os.listdir(source_file_path), '*ortho.nc')\n",
    "granules"
   ]
  },
  {
   "cell_type": "code",
   "execution_count": null,
   "id": "120e1dc5-1c83-42cc-a4d3-d9c2698cf0b1",
   "metadata": {},
   "outputs": [],
   "source": [
    "## Load the selected image to memory - we will use the scene ID EMIT_L2A_RFL_001_20230729T205630_2321014_019 in this example\n",
    "img_file = 'EMIT_L2A_RFL_001_20230729T205630_2321014_019_ortho.nc'\n",
    "img_file_dat = os.path.join(source_file_path,img_file)\n",
    "ds_geo = xr.open_dataset(img_file_dat)"
   ]
  },
  {
   "cell_type": "markdown",
   "id": "6eef8fde-c1f3-45f3-bc35-c0d33a9c1a6f",
   "metadata": {},
   "source": [
    "### Step 3: Calculate spectral vegetation indices (SVIs)\n",
    "\n",
    "Below we will walk through how you calculate SVIs remote sensing data, and EMIT hyperspectral imagery in general, why you might select specific band combinations based on what you are studying, and a few different ways you can calculate SVIs using EMIT data, either in-line, defining functions, or using pre-built functions found in the provided [spectral_index.py](https://github.com/CU-ESIIL/HYR-SENSE/blob/main/tools/functions/spectral_index.py) file\n",
    "\n",
    "First, let's take a moment to consider again what remote sensing imagery like those provided by EMIT can tell us about the underlying vegetation. The internal structure and biochemistry of leaves (A) within a canopy control the optical signatures observed by remote sensing instrumentation (B). The amount of incident radiation that is reflected by, transmitted through, or absorbed by leaves within a canopy is regulated by these structural and biochemical properties of leaves. For example, leaf properties such as a thick cuticle layer, high wax, and/or a large amount of leaf hairs can significantly influence the amount of first-surface reflectance (that is the reflected light directly off the outer leaf layer that does not interact with the leaf interior), causing less solar radiation to penetrate into the leaf. The thickness of the mesophyll layer associated with other properties, such as thicker leaves, can cause higher degree of internal leaf scattering, less transmittance through the leaf, and higher absorption in some wavelengths. Importantly, the diffuse reflectance out of the leaf is that modified by internal leaf properties and contains useful for mapping functional traits (B). High spectral resolution measurements of leaves and plant canopies enable the indirect, non-contact measurement of key structural and chemical absorption features that are associated with the physiological and biochemical properties of plants (B)\n"
   ]
  },
  {
   "cell_type": "markdown",
   "id": "8988a84b-a77b-455c-b626-ac048f015850",
   "metadata": {},
   "source": [
    "**A)** ![leaf_anatomy.jpg](../../images/leaf_anatomy_figure.jpg) **B)** ![spectral_signatures.jpg](../../images/spectral_signatures.jpg)"
   ]
  },
  {
   "cell_type": "markdown",
   "id": "b9911dec-f068-4e87-b1b8-c3edc67b7497",
   "metadata": {},
   "source": [
    "We can make use of all of the information contained within the emergent spectral signatures provided by vegetation.  We can do this by directly utilizing the spectral profiles of a leaf or an EMIT pixel, or we can instead target specific wavebands provided by data like EMIT to calculate a spectral vegetation index (SVI). SVIs range widely in the wavelengths/bands, structure, and applications. This article provides some background information ([https://www.nature.com/articles/s41597-023-02096-0](https://www.nature.com/articles/s41597-023-02096-0)) but you can find comprehensive list of SVIs [here](https://www.indexdatabase.de/)\n",
    "\n",
    "\n",
    "For more information, you can review these select articles and resources that discuss how leaf and canopy structure, leaf chemical properties, and stress can alter the spectral signatures we see with remote sensing data like those provided by EMIT and how SVIs provide us a way to easily probe the properties of vegetation remotely.\n",
    "\n",
    "[Sources of variability in canopy reflectance and the convergent properties of plants](https://doi.org/10.1111/j.1469-8137.2010.03536.x)\n",
    "\n",
    "[Retrieval of foliar information about plant pigment systems from high resolution spectroscopy](https://doi.org/10.1016/j.rse.2008.10.019)\n",
    "\n",
    "[Scaling Functional Traits from Leaves to Canopies](https://link.springer.com/chapter/10.1007/978-3-030-33157-3_3)\n"
   ]
  },
  {
   "cell_type": "markdown",
   "id": "5785a55b-7672-4458-b713-e38290a28399",
   "metadata": {},
   "source": [
    "**Calculate the Normalized Difference Vegetation Index (NDVI)**\n",
    "\n",
    "Here we calculate a simple yet powerful index, the normalized difference vegetation index (NDVI). NDVI has been used for over 40 years to study changes on the Earth's surface, specifically related to vegetation, stress, and agriculture. For more information on NDVI, you can explore this article from NASA: [https://earthobservatory.nasa.gov/features/MeasuringVegetation/measuring_vegetation_1.php](https://earthobservatory.nasa.gov/features/MeasuringVegetation/measuring_vegetation_1.php)"
   ]
  },
  {
   "cell_type": "markdown",
   "id": "5d280305-0ae2-4df7-86cb-27dfc7ed8f19",
   "metadata": {},
   "source": [
    "To calculate NDVI, we need to select which bands we want to include in the calculation. In general, NDVI is defined using a red and near-infrared band, so lets use a band centered at 650nm and another at 850nm, both squarely within the red and NIR wavelength range as shown in the example spectral graph above\n",
    "\n",
    "The basic structure of the NDVI is: NDVI = (NIR−Red)/(NIR + Red)"
   ]
  },
  {
   "cell_type": "code",
   "execution_count": null,
   "id": "17a368c8-deaa-4b5a-a2d0-e1a478526fa6",
   "metadata": {},
   "outputs": [],
   "source": [
    "### To calculate NDVI, starting with an EMIT xarray image we can select out the two bands using the example below\n",
    "\n",
    "refl650 = ds_geo.sel(wavelengths=650, method='nearest')\n",
    "refl850 = ds_geo.sel(wavelengths=850, method='nearest')\n",
    "ndvi = (refl850-refl650)/(refl850+refl650)\n",
    "\n",
    "# Note: The 'nearest' option allows you to define a specific wavelength you want to use and it will use the closest EMIT band to that wavelength"
   ]
  },
  {
   "cell_type": "code",
   "execution_count": null,
   "id": "7823dc57-f285-446b-b31e-27a762218443",
   "metadata": {},
   "outputs": [],
   "source": [
    "### Now lets view the resulting NDVI image stretech to display between 0-1\n",
    "ndvi.hvplot.image(cmap='viridis', geo=True, tiles='ESRI', aspect = 'equal', frame_width=720, clim=(0,1)).opts(title=\"NDVI Image\")"
   ]
  },
  {
   "cell_type": "markdown",
   "id": "0c9d34d7-b38f-475e-bef8-1e5368214ac4",
   "metadata": {},
   "source": [
    "### Using a function to calculate NDVI\n",
    "\n",
    "We can also create a custom function to calculate different normalized-difference vegetation indices, like NDVI.  We have provided one example here: "
   ]
  },
  {
   "cell_type": "code",
   "execution_count": null,
   "id": "3a04471e-0665-4485-8ce1-d267e5628136",
   "metadata": {},
   "outputs": [],
   "source": [
    "def normalized_diff_demo(input_xarray = ds_geo, band1=650, band2=850):\n",
    "    \"\"\"\n",
    "    This function takes an input orthorectified EMIT xarray image and calculates a normalized-difference spectral index \n",
    "    image based on the selected bands. The assumption is the input image is an EMIT image in xarray format \n",
    "    prepared using the emit_xarray() function from emit_tools.\n",
    "\n",
    "    The function provided in the traditional two-band normalized difference index format, i.e.  NDI = Band2-Band1 / Band2+Band1\n",
    "\n",
    "    Function parameters:\n",
    "    param: input_xarray is the input EMIT xarray image currently located in memory; at present this will not accept \n",
    "    the full path to a file that hasn't been loaded into memory yet (TODO)\n",
    "    \n",
    "    param: band1 the EMIT band number to use for band 1\n",
    "    \n",
    "    param: band2 the EMIT band number to use for band 2\n",
    "    \"\"\"\n",
    "    \n",
    "    reflb1 = input_xarray.sel(wavelengths=band1, method='nearest')\n",
    "    reflb2 = input_xarray.sel(wavelengths=band2, method='nearest')\n",
    "    ndiff_image = (reflb2-reflb1)/(reflb2+reflb1)\n",
    "    \n",
    "    return(ndiff_image)"
   ]
  },
  {
   "cell_type": "code",
   "execution_count": null,
   "id": "b7f92590-b51e-4f13-bbee-af9cca0fec23",
   "metadata": {},
   "outputs": [],
   "source": [
    "ndvi2 = normalized_diff_demo(input_xarray = ds_geo, band1=650, band2=850)"
   ]
  },
  {
   "cell_type": "code",
   "execution_count": null,
   "id": "2ec41d17-14de-4af5-9c49-d3c19f0bafd9",
   "metadata": {},
   "outputs": [],
   "source": [
    "ndvi2.hvplot.image(cmap='viridis', geo=True, tiles='ESRI', aspect = 'equal', frame_width=720, clim=(0,1)).opts(title=\"NDVI Image\")"
   ]
  },
  {
   "cell_type": "markdown",
   "id": "9d5dc416-f2b5-422b-834f-71433839bec7",
   "metadata": {},
   "source": [
    "We can also use the stored functions in the HYR-SENSE repository. These functions can be found in the spectral_index.py file https://github.com/CU-ESIIL/HYR-SENSE/blob/main/tools/functions/spectral_index.py\n"
   ]
  },
  {
   "cell_type": "code",
   "execution_count": null,
   "id": "d56c2d15-32cb-4d22-a160-d8e02bff1a2d",
   "metadata": {},
   "outputs": [],
   "source": [
    "ndvi3 = normalized_diff(input_xarray = ds_geo, band1=650, band2=850)"
   ]
  },
  {
   "cell_type": "code",
   "execution_count": null,
   "id": "e177b80c-1c0c-48e4-9458-2003202b983a",
   "metadata": {},
   "outputs": [],
   "source": [
    "ndvi3.hvplot.image(cmap='viridis', geo=True, tiles='ESRI', aspect = 'equal', frame_width=720, clim=(0,1)).opts(title=\"NDVI Image\")"
   ]
  },
  {
   "cell_type": "markdown",
   "id": "7160a150-131f-4fc8-a377-e21086688ec6",
   "metadata": {},
   "source": [
    "### Calculate the Normalized-Difference Water Index (NDWI)\n",
    "\n",
    "We can also calculate a range of other useful indices using the same basic normalized difference vegetation index approach. For example, if we want to investigate the variation in plant / surface water content we can use an SVI such as the Normalized-Difference Water Index [(NDWI)](https://en.wikipedia.org/wiki/Normalized_difference_water_index). Like NDVI, the NDWI uses two different bands to enhance the detection of a plant property, in this case water content, and does that by using a band centered in the NIR and another band centered in the shortwave infrared that is sensitive to plant water content using the following equation: NDWI = (NIR – SWIR)/(NIR + SWIR).\n",
    "\n",
    "Because it has the same basic structure as NDVI we can still use the same **normalized_diff()** function but instead replace the default bands with 2200nm and 864nm"
   ]
  },
  {
   "cell_type": "code",
   "execution_count": null,
   "id": "9aa99cea-623a-4ba9-b16b-c1869a0b8f2f",
   "metadata": {},
   "outputs": [],
   "source": [
    "ndwi = normalized_diff(input_xarray = ds_geo, band1=2200, band2=864)"
   ]
  },
  {
   "cell_type": "code",
   "execution_count": null,
   "id": "46e2a566-ec92-4824-abb5-142629fab27d",
   "metadata": {},
   "outputs": [],
   "source": [
    "ndwi.hvplot.image(cmap='viridis', geo=True, tiles='ESRI', aspect = 'equal', frame_width=720, clim=(0,1)).opts(title=\"NDWI Image\")"
   ]
  },
  {
   "cell_type": "markdown",
   "id": "30f33351-d608-46ac-9da3-4d5cd600c0bf",
   "metadata": {},
   "source": [
    "### Calculate red-edge NDVI\n",
    "\n"
   ]
  },
  {
   "cell_type": "code",
   "execution_count": null,
   "id": "e1960c24-1d22-4229-b102-fcf9f0955067",
   "metadata": {},
   "outputs": [],
   "source": [
    "rendvi = normalized_diff(input_xarray = ds_geo, band1=705, band2=750)"
   ]
  },
  {
   "cell_type": "code",
   "execution_count": null,
   "id": "64f6c1e1-006a-493d-91c0-c16d16237aed",
   "metadata": {},
   "outputs": [],
   "source": [
    "rendvi.hvplot.image(cmap='viridis', geo=True, tiles='ESRI', aspect = 'equal', frame_width=720, clim=(0,1)).opts(title=\"reNDVI Image\")"
   ]
  },
  {
   "cell_type": "markdown",
   "id": "0ef27072-9f83-4589-aa9f-1b26270cf578",
   "metadata": {},
   "source": [
    "### Calculate the Photochemical Reflectance Index"
   ]
  },
  {
   "cell_type": "code",
   "execution_count": null,
   "id": "736a7b9d-f4fd-4e10-bfb6-ebe1023ddf88",
   "metadata": {},
   "outputs": [],
   "source": [
    "pri_image = pri(input_xarray = ds_geo, band1=531, band2=570, scaled=True)"
   ]
  },
  {
   "cell_type": "code",
   "execution_count": null,
   "id": "b23415ff-fc23-424b-8565-23c88cd14a48",
   "metadata": {},
   "outputs": [],
   "source": [
    "pri_image.hvplot.image(cmap='viridis', geo=True, tiles='ESRI', aspect = 'equal', frame_width=720, clim=(0.44,0.48)).opts(title=\"PRI Image\")"
   ]
  },
  {
   "cell_type": "markdown",
   "id": "ba4f24fb-7332-4a4a-92a1-4afeda129fef",
   "metadata": {},
   "source": [
    "### Calculate a simple ratio index\n",
    "\n",
    "Let's now calculate another common set of indices, called \"simple ratio\" indices. In this case, we will calculate what is known as the \"Water Band Index\" (WBI)."
   ]
  },
  {
   "cell_type": "code",
   "execution_count": null,
   "id": "8519cd8e-8539-4b5f-9cb2-231fe59498ea",
   "metadata": {},
   "outputs": [],
   "source": [
    "wbi = simple_ratio(input_xarray = ds_geo, band1=900, band2=970)"
   ]
  },
  {
   "cell_type": "code",
   "execution_count": null,
   "id": "60893cdb-d2da-43e3-b58a-4fba6a55bddb",
   "metadata": {},
   "outputs": [],
   "source": [
    "wbi.hvplot.image(cmap='viridis', geo=True, tiles='ESRI', aspect = 'equal', frame_width=720, clim=(0.8,1.2)).opts(title=\"WBI Image\")"
   ]
  },
  {
   "cell_type": "code",
   "execution_count": null,
   "id": "0bd6dc7d-f6c1-4791-94a6-a7338b04a113",
   "metadata": {},
   "outputs": [],
   "source": []
  }
 ],
 "metadata": {
  "kernelspec": {
   "display_name": "hyr-sense",
   "language": "python",
   "name": "hyr-sense"
  },
  "language_info": {
   "codemirror_mode": {
    "name": "ipython",
    "version": 3
   },
   "file_extension": ".py",
   "mimetype": "text/x-python",
   "name": "python",
   "nbconvert_exporter": "python",
   "pygments_lexer": "ipython3",
   "version": "3.10.14"
  }
 },
 "nbformat": 4,
 "nbformat_minor": 5
}
