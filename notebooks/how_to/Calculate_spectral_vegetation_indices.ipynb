{
 "cells": [
  {
   "cell_type": "markdown",
   "id": "434fea91-e70c-43db-b29a-1fb36b6bed50",
   "metadata": {},
   "source": [
    "## How To: Calculating spectral vegetation indices with EMIT data\n",
    "\n",
    "This notebook provides examples demonstrating how to create maps of spectral vegetation indices using EMIT images. To explore the utility of high spectral resolution data for calculating SVIs for Earth Science, we can demonstrate how to calculate commonly-used spectral vegetation indices.  For reference, here is a recent article describing the use of SVIs in Earth Science <br>\n",
    "[https://www.nature.com/articles/s41597-023-02096-0](https://www.nature.com/articles/s41597-023-02096-0)"
   ]
  },
  {
   "cell_type": "markdown",
   "id": "1b711423-1423-43d9-81ed-b6eee7d3f5bd",
   "metadata": {},
   "source": [
    "### Step 1: Load required Python modules"
   ]
  },
  {
   "cell_type": "code",
   "execution_count": null,
   "id": "5e42a299-4e0b-4058-ac25-d9b1527ddda1",
   "metadata": {},
   "outputs": [],
   "source": [
    "import os, sys, fnmatch\n",
    "import warnings\n",
    "import csv\n",
    "from osgeo import gdal\n",
    "import numpy as np\n",
    "import math\n",
    "import rasterio as rio\n",
    "import xarray as xr\n",
    "import holoviews as hv\n",
    "import hvplot.xarray\n",
    "import netCDF4 as nc\n",
    "\n",
    "sys.path.append(os.path.join(os.path.expanduser(\"~\"),\"HYR-SENSE\",\"tools\",\"functions\"))\n",
    "from spectral_index import *\n",
    "\n",
    "# This will ignore some warnings caused by holoviews\n",
    "warnings.simplefilter('ignore') "
   ]
  },
  {
   "cell_type": "markdown",
   "id": "770ff9a5-7569-4b5b-acea-ded3671b5573",
   "metadata": {},
   "source": [
    "### Step 2: Define input file path and load example data\n",
    "\n",
    "In this example we will use the example data downloaded in the other \"How To\" example **\"Download_data_granules_basic_example\"**"
   ]
  },
  {
   "cell_type": "code",
   "execution_count": null,
   "id": "7e976b8a-34ed-445f-a937-33d066d16fb6",
   "metadata": {},
   "outputs": [],
   "source": [
    "### Example image to use\n",
    "workflow = \"examples\"\n",
    "platform = \"emit\"\n",
    "source_file_path = os.path.join(os.path.expanduser(\"~\"),\"HYR-SENSE\",\"data\",workflow,platform)\n",
    "granules = fnmatch.filter(os.listdir(source_file_path), '*ortho.nc')\n",
    "granules"
   ]
  },
  {
   "cell_type": "code",
   "execution_count": null,
   "id": "120e1dc5-1c83-42cc-a4d3-d9c2698cf0b1",
   "metadata": {},
   "outputs": [],
   "source": [
    "## Load the selected image to memory - we will use the scene ID EMIT_L2A_RFL_001_20230729T205630_2321014_019 in this example\n",
    "img_file = 'EMIT_L2A_RFL_001_20230729T205630_2321014_019_ortho.nc'\n",
    "img_file_dat = os.path.join(source_file_path,img_file)\n",
    "ds_geo = xr.open_dataset(img_file_dat)"
   ]
  },
  {
   "cell_type": "markdown",
   "id": "6eef8fde-c1f3-45f3-bc35-c0d33a9c1a6f",
   "metadata": {},
   "source": [
    "### Step 3: Calculate spectral vegetation indices (SVIs)\n",
    "\n",
    "Below we will walk through how you calculate SVIs remote sensing data, and EMIT hyperspectral imagery in general, why you might select specific band combinations based on what you are studying, and a few different ways you can calculate SVIs using EMIT data, either in-line, defining functions, or using pre-built functions found in the provided [spectral_index.py](https://github.com/CU-ESIIL/HYR-SENSE/blob/main/tools/functions/spectral_index.py) file\n",
    "\n",
    "First lets take a moment to consider again what remote sensing imagery like those provided by EMIT can tell us about the underlying vegetation. "
   ]
  },
  {
   "cell_type": "markdown",
   "id": "8988a84b-a77b-455c-b626-ac048f015850",
   "metadata": {},
   "source": [
    "|![leaf_anatomy.jpg](../../images/leaf_anatomy_figure.jpg) |![spectral_signatures.jpg](../../images/spectral_signatures.jpg)|"
   ]
  },
  {
   "cell_type": "markdown",
   "id": "5785a55b-7672-4458-b713-e38290a28399",
   "metadata": {},
   "source": [
    "**Calculate the Normalized Difference Vegetation Index (NDVI)**\n",
    "\n",
    "Here we calculate a simple yet powerful index, the normalized difference vegetation index (NDVI). NDVI has been used for over 40 years to study changes on the Earth's surface, specifically related to vegetation, stress, and agriculture. For more information on NDVI, you can explore this article from NASA: [https://earthobservatory.nasa.gov/features/MeasuringVegetation/measuring_vegetation_1.php](https://earthobservatory.nasa.gov/features/MeasuringVegetation/measuring_vegetation_1.php)'"
   ]
  },
  {
   "cell_type": "markdown",
   "id": "5d280305-0ae2-4df7-86cb-27dfc7ed8f19",
   "metadata": {},
   "source": [
    "To calculate NDVI, we need to select which bands we want to include in the calculation. In general, NDVI is defined using a red and near-infrared band, so lets use a band centered at 650nm and another at 850nm, both squarely within the red and NIR wavelength range as shown in the example spectral graph above"
   ]
  },
  {
   "cell_type": "code",
   "execution_count": null,
   "id": "17a368c8-deaa-4b5a-a2d0-e1a478526fa6",
   "metadata": {},
   "outputs": [],
   "source": [
    "refl650 = ds_geo.sel(wavelengths=650, method='nearest')\n",
    "refl850 = ds_geo.sel(wavelengths=850, method='nearest')\n",
    "ndvi = (refl850-refl650)/(refl850+refl650)"
   ]
  },
  {
   "cell_type": "code",
   "execution_count": null,
   "id": "7823dc57-f285-446b-b31e-27a762218443",
   "metadata": {},
   "outputs": [],
   "source": [
    "ndvi.hvplot.image(cmap='viridis', geo=True, tiles='ESRI', aspect = 'equal', frame_width=720, clim=(0,1)).opts(title=\"NDVI Image\")"
   ]
  },
  {
   "cell_type": "markdown",
   "id": "0c9d34d7-b38f-475e-bef8-1e5368214ac4",
   "metadata": {},
   "source": [
    "### Using a function to calculate NDVI\n",
    "\n",
    "We can also create a custom function to calculate different normalized-difference vegetation indices, like NDVI.  We have provided one example here: "
   ]
  },
  {
   "cell_type": "code",
   "execution_count": null,
   "id": "3a04471e-0665-4485-8ce1-d267e5628136",
   "metadata": {},
   "outputs": [],
   "source": [
    "def normalized_diff_demo(input_xarray = ds_geo, band1=650, band2=850):\n",
    "    \"\"\"\n",
    "    This function takes an input xarray image and calculates a NDVI image based on the selected bands.  The assumption is the input image is an EMIT image in \n",
    "    xarray format prepared using the emit_xarray() function from emit_tools\n",
    "\n",
    "    The function format is Band2-Band1 / Band2+Band1\n",
    "\n",
    "    param: input_xarray is the input EMIT xarray in memory\n",
    "    param: band1 the EMIT band number to use for band 1\n",
    "    param: band3 the EMIT band number to use for band 3\n",
    "\n",
    "    \n",
    "    \"\"\"\n",
    "    \n",
    "    reflb1 = input_xarray.sel(wavelengths=band1, method='nearest')\n",
    "    reflb2 = input_xarray.sel(wavelengths=band2, method='nearest')\n",
    "    ndiff_image = (reflb2-reflb1)/(reflb2+reflb1)\n",
    "    \n",
    "    return(ndiff_image)"
   ]
  },
  {
   "cell_type": "code",
   "execution_count": null,
   "id": "b7f92590-b51e-4f13-bbee-af9cca0fec23",
   "metadata": {},
   "outputs": [],
   "source": [
    "ndvi2 = normalized_diff_demo(input_xarray = ds_geo, band1=650, band2=850)"
   ]
  },
  {
   "cell_type": "code",
   "execution_count": null,
   "id": "e65d363f-03ce-4efc-b826-aebc3a21d8ab",
   "metadata": {
    "scrolled": true
   },
   "outputs": [],
   "source": [
    "ndvi2.hvplot.image(cmap='viridis', geo=True, tiles='ESRI', aspect = 'equal', frame_width=720, clim=(0,1)).opts(title=\"NDVI Image\")"
   ]
  },
  {
   "cell_type": "markdown",
   "id": "9d5dc416-f2b5-422b-834f-71433839bec7",
   "metadata": {},
   "source": [
    "We can also use the stored functions in the HYR-SENSE repository. These functions can be found in the spectral_index.py file https://github.com/CU-ESIIL/HYR-SENSE/blob/main/tools/functions/spectral_index.py\n"
   ]
  },
  {
   "cell_type": "code",
   "execution_count": null,
   "id": "d56c2d15-32cb-4d22-a160-d8e02bff1a2d",
   "metadata": {},
   "outputs": [],
   "source": [
    "ndvi3 = normalized_diff(input_xarray = ds_geo, band1=650, band2=850)"
   ]
  },
  {
   "cell_type": "code",
   "execution_count": null,
   "id": "e177b80c-1c0c-48e4-9458-2003202b983a",
   "metadata": {},
   "outputs": [],
   "source": [
    "ndvi3.hvplot.image(cmap='viridis', geo=True, tiles='ESRI', aspect = 'equal', frame_width=720, clim=(0,1)).opts(title=\"NDVI Image\")"
   ]
  },
  {
   "cell_type": "markdown",
   "id": "7160a150-131f-4fc8-a377-e21086688ec6",
   "metadata": {},
   "source": [
    "### Calculate the Normalized-Difference Water Index (NDWI)\n",
    "\n",
    "https://en.wikipedia.org/wiki/Normalized_difference_water_index"
   ]
  },
  {
   "cell_type": "code",
   "execution_count": null,
   "id": "c7b165d2-8dae-4c9c-bfe1-fca4ef90ca94",
   "metadata": {},
   "outputs": [],
   "source": [
    "ds_geo['wavelengths'].data"
   ]
  },
  {
   "cell_type": "code",
   "execution_count": null,
   "id": "9aa99cea-623a-4ba9-b16b-c1869a0b8f2f",
   "metadata": {},
   "outputs": [],
   "source": [
    "ndwi = normalized_diff(input_xarray = ds_geo, band1=2200, band2=864)"
   ]
  },
  {
   "cell_type": "code",
   "execution_count": null,
   "id": "46e2a566-ec92-4824-abb5-142629fab27d",
   "metadata": {},
   "outputs": [],
   "source": [
    "ndwi.hvplot.image(cmap='viridis', geo=True, tiles='ESRI', aspect = 'equal', frame_width=720, clim=(0,1)).opts(title=\"NDVI Image\")"
   ]
  },
  {
   "cell_type": "code",
   "execution_count": null,
   "id": "736a7b9d-f4fd-4e10-bfb6-ebe1023ddf88",
   "metadata": {},
   "outputs": [],
   "source": [
    "pri_image = pri2(input_xarray = ds_geo, band1=531, band2=570)"
   ]
  },
  {
   "cell_type": "code",
   "execution_count": null,
   "id": "b23415ff-fc23-424b-8565-23c88cd14a48",
   "metadata": {},
   "outputs": [],
   "source": [
    "pri_image.hvplot.image(cmap='viridis', geo=True, tiles='ESRI', aspect = 'equal', frame_width=720, clim=(0,0.6)).opts(title=\"PRI Image\")"
   ]
  },
  {
   "cell_type": "code",
   "execution_count": null,
   "id": "a71e48a1-cbce-4113-83e1-2e50172faee6",
   "metadata": {},
   "outputs": [],
   "source": [
    "pri_image.hvplot.image(cmap='viridis', geo=True, tiles='ESRI', aspect = 'equal', frame_width=720).opts(title=\"PRI Image\")"
   ]
  },
  {
   "cell_type": "code",
   "execution_count": null,
   "id": "38eceb8e-7de7-4a66-ae91-a627b81a9ffd",
   "metadata": {},
   "outputs": [],
   "source": []
  }
 ],
 "metadata": {
  "kernelspec": {
   "display_name": "hyr-sense",
   "language": "python",
   "name": "hyr-sense"
  },
  "language_info": {
   "codemirror_mode": {
    "name": "ipython",
    "version": 3
   },
   "file_extension": ".py",
   "mimetype": "text/x-python",
   "name": "python",
   "nbconvert_exporter": "python",
   "pygments_lexer": "ipython3",
   "version": "3.10.14"
  }
 },
 "nbformat": 4,
 "nbformat_minor": 5
}
